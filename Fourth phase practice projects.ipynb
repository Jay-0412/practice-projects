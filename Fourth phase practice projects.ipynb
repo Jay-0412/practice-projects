{
 "cells": [
  {
   "cell_type": "code",
   "execution_count": 2,
   "id": "5efb302e",
   "metadata": {},
   "outputs": [],
   "source": [
    "import numpy as np\n",
    "import pandas as pd \n",
    "import seaborn as sns\n",
    "import matplotlib.pyplot as plt\n",
    "import warnings\n",
    "warnings.filterwarnings(\"ignore\")\n",
    "import sklearn"
   ]
  },
  {
   "cell_type": "markdown",
   "id": "8fab7cda",
   "metadata": {},
   "source": [
    "# Bank Marketing "
   ]
  },
  {
   "cell_type": "code",
   "execution_count": 2,
   "id": "2dd26ce2",
   "metadata": {},
   "outputs": [],
   "source": [
    "df_train = pd.read_csv(\"https://raw.githubusercontent.com/FlipRoboTechnologies/ML-Datasets/main/Bank%20Marketing/termdeposit_train.csv\")\n",
    "df_test = pd.read_csv(\"https://raw.githubusercontent.com/FlipRoboTechnologies/ML-Datasets/main/Bank%20Marketing/termdeposit_test.csv\")"
   ]
  },
  {
   "cell_type": "code",
   "execution_count": 3,
   "id": "f0da8d4e",
   "metadata": {},
   "outputs": [
    {
     "data": {
      "text/html": [
       "<div>\n",
       "<style scoped>\n",
       "    .dataframe tbody tr th:only-of-type {\n",
       "        vertical-align: middle;\n",
       "    }\n",
       "\n",
       "    .dataframe tbody tr th {\n",
       "        vertical-align: top;\n",
       "    }\n",
       "\n",
       "    .dataframe thead th {\n",
       "        text-align: right;\n",
       "    }\n",
       "</style>\n",
       "<table border=\"1\" class=\"dataframe\">\n",
       "  <thead>\n",
       "    <tr style=\"text-align: right;\">\n",
       "      <th></th>\n",
       "      <th>ID</th>\n",
       "      <th>age</th>\n",
       "      <th>job</th>\n",
       "      <th>marital</th>\n",
       "      <th>education</th>\n",
       "      <th>default</th>\n",
       "      <th>balance</th>\n",
       "      <th>housing</th>\n",
       "      <th>loan</th>\n",
       "      <th>contact</th>\n",
       "      <th>day</th>\n",
       "      <th>month</th>\n",
       "      <th>duration</th>\n",
       "      <th>campaign</th>\n",
       "      <th>pdays</th>\n",
       "      <th>previous</th>\n",
       "      <th>poutcome</th>\n",
       "      <th>subscribed</th>\n",
       "    </tr>\n",
       "  </thead>\n",
       "  <tbody>\n",
       "    <tr>\n",
       "      <th>0</th>\n",
       "      <td>26110</td>\n",
       "      <td>56</td>\n",
       "      <td>admin.</td>\n",
       "      <td>married</td>\n",
       "      <td>unknown</td>\n",
       "      <td>no</td>\n",
       "      <td>1933</td>\n",
       "      <td>no</td>\n",
       "      <td>no</td>\n",
       "      <td>telephone</td>\n",
       "      <td>19</td>\n",
       "      <td>nov</td>\n",
       "      <td>44</td>\n",
       "      <td>2</td>\n",
       "      <td>-1</td>\n",
       "      <td>0</td>\n",
       "      <td>unknown</td>\n",
       "      <td>no</td>\n",
       "    </tr>\n",
       "    <tr>\n",
       "      <th>1</th>\n",
       "      <td>40576</td>\n",
       "      <td>31</td>\n",
       "      <td>unknown</td>\n",
       "      <td>married</td>\n",
       "      <td>secondary</td>\n",
       "      <td>no</td>\n",
       "      <td>3</td>\n",
       "      <td>no</td>\n",
       "      <td>no</td>\n",
       "      <td>cellular</td>\n",
       "      <td>20</td>\n",
       "      <td>jul</td>\n",
       "      <td>91</td>\n",
       "      <td>2</td>\n",
       "      <td>-1</td>\n",
       "      <td>0</td>\n",
       "      <td>unknown</td>\n",
       "      <td>no</td>\n",
       "    </tr>\n",
       "    <tr>\n",
       "      <th>2</th>\n",
       "      <td>15320</td>\n",
       "      <td>27</td>\n",
       "      <td>services</td>\n",
       "      <td>married</td>\n",
       "      <td>secondary</td>\n",
       "      <td>no</td>\n",
       "      <td>891</td>\n",
       "      <td>yes</td>\n",
       "      <td>no</td>\n",
       "      <td>cellular</td>\n",
       "      <td>18</td>\n",
       "      <td>jul</td>\n",
       "      <td>240</td>\n",
       "      <td>1</td>\n",
       "      <td>-1</td>\n",
       "      <td>0</td>\n",
       "      <td>unknown</td>\n",
       "      <td>no</td>\n",
       "    </tr>\n",
       "    <tr>\n",
       "      <th>3</th>\n",
       "      <td>43962</td>\n",
       "      <td>57</td>\n",
       "      <td>management</td>\n",
       "      <td>divorced</td>\n",
       "      <td>tertiary</td>\n",
       "      <td>no</td>\n",
       "      <td>3287</td>\n",
       "      <td>no</td>\n",
       "      <td>no</td>\n",
       "      <td>cellular</td>\n",
       "      <td>22</td>\n",
       "      <td>jun</td>\n",
       "      <td>867</td>\n",
       "      <td>1</td>\n",
       "      <td>84</td>\n",
       "      <td>3</td>\n",
       "      <td>success</td>\n",
       "      <td>yes</td>\n",
       "    </tr>\n",
       "    <tr>\n",
       "      <th>4</th>\n",
       "      <td>29842</td>\n",
       "      <td>31</td>\n",
       "      <td>technician</td>\n",
       "      <td>married</td>\n",
       "      <td>secondary</td>\n",
       "      <td>no</td>\n",
       "      <td>119</td>\n",
       "      <td>yes</td>\n",
       "      <td>no</td>\n",
       "      <td>cellular</td>\n",
       "      <td>4</td>\n",
       "      <td>feb</td>\n",
       "      <td>380</td>\n",
       "      <td>1</td>\n",
       "      <td>-1</td>\n",
       "      <td>0</td>\n",
       "      <td>unknown</td>\n",
       "      <td>no</td>\n",
       "    </tr>\n",
       "    <tr>\n",
       "      <th>...</th>\n",
       "      <td>...</td>\n",
       "      <td>...</td>\n",
       "      <td>...</td>\n",
       "      <td>...</td>\n",
       "      <td>...</td>\n",
       "      <td>...</td>\n",
       "      <td>...</td>\n",
       "      <td>...</td>\n",
       "      <td>...</td>\n",
       "      <td>...</td>\n",
       "      <td>...</td>\n",
       "      <td>...</td>\n",
       "      <td>...</td>\n",
       "      <td>...</td>\n",
       "      <td>...</td>\n",
       "      <td>...</td>\n",
       "      <td>...</td>\n",
       "      <td>...</td>\n",
       "    </tr>\n",
       "    <tr>\n",
       "      <th>13559</th>\n",
       "      <td>23465</td>\n",
       "      <td>39</td>\n",
       "      <td>management</td>\n",
       "      <td>married</td>\n",
       "      <td>tertiary</td>\n",
       "      <td>no</td>\n",
       "      <td>45</td>\n",
       "      <td>no</td>\n",
       "      <td>no</td>\n",
       "      <td>cellular</td>\n",
       "      <td>28</td>\n",
       "      <td>aug</td>\n",
       "      <td>148</td>\n",
       "      <td>4</td>\n",
       "      <td>-1</td>\n",
       "      <td>0</td>\n",
       "      <td>unknown</td>\n",
       "      <td>NaN</td>\n",
       "    </tr>\n",
       "    <tr>\n",
       "      <th>13560</th>\n",
       "      <td>11743</td>\n",
       "      <td>54</td>\n",
       "      <td>blue-collar</td>\n",
       "      <td>married</td>\n",
       "      <td>primary</td>\n",
       "      <td>no</td>\n",
       "      <td>2281</td>\n",
       "      <td>yes</td>\n",
       "      <td>no</td>\n",
       "      <td>unknown</td>\n",
       "      <td>20</td>\n",
       "      <td>jun</td>\n",
       "      <td>158</td>\n",
       "      <td>1</td>\n",
       "      <td>-1</td>\n",
       "      <td>0</td>\n",
       "      <td>unknown</td>\n",
       "      <td>NaN</td>\n",
       "    </tr>\n",
       "    <tr>\n",
       "      <th>13561</th>\n",
       "      <td>28292</td>\n",
       "      <td>35</td>\n",
       "      <td>retired</td>\n",
       "      <td>married</td>\n",
       "      <td>primary</td>\n",
       "      <td>no</td>\n",
       "      <td>285</td>\n",
       "      <td>yes</td>\n",
       "      <td>no</td>\n",
       "      <td>cellular</td>\n",
       "      <td>29</td>\n",
       "      <td>jan</td>\n",
       "      <td>136</td>\n",
       "      <td>1</td>\n",
       "      <td>-1</td>\n",
       "      <td>0</td>\n",
       "      <td>unknown</td>\n",
       "      <td>NaN</td>\n",
       "    </tr>\n",
       "    <tr>\n",
       "      <th>13562</th>\n",
       "      <td>45163</td>\n",
       "      <td>29</td>\n",
       "      <td>admin.</td>\n",
       "      <td>single</td>\n",
       "      <td>secondary</td>\n",
       "      <td>no</td>\n",
       "      <td>464</td>\n",
       "      <td>no</td>\n",
       "      <td>no</td>\n",
       "      <td>cellular</td>\n",
       "      <td>9</td>\n",
       "      <td>nov</td>\n",
       "      <td>208</td>\n",
       "      <td>2</td>\n",
       "      <td>91</td>\n",
       "      <td>3</td>\n",
       "      <td>success</td>\n",
       "      <td>NaN</td>\n",
       "    </tr>\n",
       "    <tr>\n",
       "      <th>13563</th>\n",
       "      <td>34839</td>\n",
       "      <td>29</td>\n",
       "      <td>admin.</td>\n",
       "      <td>married</td>\n",
       "      <td>secondary</td>\n",
       "      <td>no</td>\n",
       "      <td>2</td>\n",
       "      <td>yes</td>\n",
       "      <td>no</td>\n",
       "      <td>cellular</td>\n",
       "      <td>6</td>\n",
       "      <td>may</td>\n",
       "      <td>339</td>\n",
       "      <td>1</td>\n",
       "      <td>362</td>\n",
       "      <td>1</td>\n",
       "      <td>failure</td>\n",
       "      <td>NaN</td>\n",
       "    </tr>\n",
       "  </tbody>\n",
       "</table>\n",
       "<p>45211 rows × 18 columns</p>\n",
       "</div>"
      ],
      "text/plain": [
       "          ID  age          job   marital  education default  balance housing  \\\n",
       "0      26110   56       admin.   married    unknown      no     1933      no   \n",
       "1      40576   31      unknown   married  secondary      no        3      no   \n",
       "2      15320   27     services   married  secondary      no      891     yes   \n",
       "3      43962   57   management  divorced   tertiary      no     3287      no   \n",
       "4      29842   31   technician   married  secondary      no      119     yes   \n",
       "...      ...  ...          ...       ...        ...     ...      ...     ...   \n",
       "13559  23465   39   management   married   tertiary      no       45      no   \n",
       "13560  11743   54  blue-collar   married    primary      no     2281     yes   \n",
       "13561  28292   35      retired   married    primary      no      285     yes   \n",
       "13562  45163   29       admin.    single  secondary      no      464      no   \n",
       "13563  34839   29       admin.   married  secondary      no        2     yes   \n",
       "\n",
       "      loan    contact  day month  duration  campaign  pdays  previous  \\\n",
       "0       no  telephone   19   nov        44         2     -1         0   \n",
       "1       no   cellular   20   jul        91         2     -1         0   \n",
       "2       no   cellular   18   jul       240         1     -1         0   \n",
       "3       no   cellular   22   jun       867         1     84         3   \n",
       "4       no   cellular    4   feb       380         1     -1         0   \n",
       "...    ...        ...  ...   ...       ...       ...    ...       ...   \n",
       "13559   no   cellular   28   aug       148         4     -1         0   \n",
       "13560   no    unknown   20   jun       158         1     -1         0   \n",
       "13561   no   cellular   29   jan       136         1     -1         0   \n",
       "13562   no   cellular    9   nov       208         2     91         3   \n",
       "13563   no   cellular    6   may       339         1    362         1   \n",
       "\n",
       "      poutcome subscribed  \n",
       "0      unknown         no  \n",
       "1      unknown         no  \n",
       "2      unknown         no  \n",
       "3      success        yes  \n",
       "4      unknown         no  \n",
       "...        ...        ...  \n",
       "13559  unknown        NaN  \n",
       "13560  unknown        NaN  \n",
       "13561  unknown        NaN  \n",
       "13562  success        NaN  \n",
       "13563  failure        NaN  \n",
       "\n",
       "[45211 rows x 18 columns]"
      ]
     },
     "execution_count": 3,
     "metadata": {},
     "output_type": "execute_result"
    }
   ],
   "source": [
    "df =  df_train.append(df_test)\n",
    "df"
   ]
  },
  {
   "cell_type": "markdown",
   "id": "e6f7e51b",
   "metadata": {},
   "source": [
    "We have 45211 number of rows and 18 columns combining both train and test dataset, Whereas target variable is Subscribed and rest of the coulumns input variable have details of the customer such as ID, age, job, education and many other details are mentioned in the dataset which shows person has subscribed for term deposit or not subcribed for the term deposit."
   ]
  },
  {
   "cell_type": "code",
   "execution_count": 4,
   "id": "09c57ba2",
   "metadata": {},
   "outputs": [
    {
     "data": {
      "text/html": [
       "<div>\n",
       "<style scoped>\n",
       "    .dataframe tbody tr th:only-of-type {\n",
       "        vertical-align: middle;\n",
       "    }\n",
       "\n",
       "    .dataframe tbody tr th {\n",
       "        vertical-align: top;\n",
       "    }\n",
       "\n",
       "    .dataframe thead th {\n",
       "        text-align: right;\n",
       "    }\n",
       "</style>\n",
       "<table border=\"1\" class=\"dataframe\">\n",
       "  <thead>\n",
       "    <tr style=\"text-align: right;\">\n",
       "      <th></th>\n",
       "      <th>ID</th>\n",
       "      <th>age</th>\n",
       "      <th>job</th>\n",
       "      <th>marital</th>\n",
       "      <th>education</th>\n",
       "      <th>default</th>\n",
       "      <th>balance</th>\n",
       "      <th>housing</th>\n",
       "      <th>loan</th>\n",
       "      <th>contact</th>\n",
       "      <th>day</th>\n",
       "      <th>month</th>\n",
       "      <th>duration</th>\n",
       "      <th>campaign</th>\n",
       "      <th>pdays</th>\n",
       "      <th>previous</th>\n",
       "      <th>poutcome</th>\n",
       "      <th>subscribed</th>\n",
       "    </tr>\n",
       "  </thead>\n",
       "  <tbody>\n",
       "    <tr>\n",
       "      <th>13559</th>\n",
       "      <td>23465</td>\n",
       "      <td>39</td>\n",
       "      <td>management</td>\n",
       "      <td>married</td>\n",
       "      <td>tertiary</td>\n",
       "      <td>no</td>\n",
       "      <td>45</td>\n",
       "      <td>no</td>\n",
       "      <td>no</td>\n",
       "      <td>cellular</td>\n",
       "      <td>28</td>\n",
       "      <td>aug</td>\n",
       "      <td>148</td>\n",
       "      <td>4</td>\n",
       "      <td>-1</td>\n",
       "      <td>0</td>\n",
       "      <td>unknown</td>\n",
       "      <td>NaN</td>\n",
       "    </tr>\n",
       "    <tr>\n",
       "      <th>13560</th>\n",
       "      <td>11743</td>\n",
       "      <td>54</td>\n",
       "      <td>blue-collar</td>\n",
       "      <td>married</td>\n",
       "      <td>primary</td>\n",
       "      <td>no</td>\n",
       "      <td>2281</td>\n",
       "      <td>yes</td>\n",
       "      <td>no</td>\n",
       "      <td>unknown</td>\n",
       "      <td>20</td>\n",
       "      <td>jun</td>\n",
       "      <td>158</td>\n",
       "      <td>1</td>\n",
       "      <td>-1</td>\n",
       "      <td>0</td>\n",
       "      <td>unknown</td>\n",
       "      <td>NaN</td>\n",
       "    </tr>\n",
       "    <tr>\n",
       "      <th>13561</th>\n",
       "      <td>28292</td>\n",
       "      <td>35</td>\n",
       "      <td>retired</td>\n",
       "      <td>married</td>\n",
       "      <td>primary</td>\n",
       "      <td>no</td>\n",
       "      <td>285</td>\n",
       "      <td>yes</td>\n",
       "      <td>no</td>\n",
       "      <td>cellular</td>\n",
       "      <td>29</td>\n",
       "      <td>jan</td>\n",
       "      <td>136</td>\n",
       "      <td>1</td>\n",
       "      <td>-1</td>\n",
       "      <td>0</td>\n",
       "      <td>unknown</td>\n",
       "      <td>NaN</td>\n",
       "    </tr>\n",
       "    <tr>\n",
       "      <th>13562</th>\n",
       "      <td>45163</td>\n",
       "      <td>29</td>\n",
       "      <td>admin.</td>\n",
       "      <td>single</td>\n",
       "      <td>secondary</td>\n",
       "      <td>no</td>\n",
       "      <td>464</td>\n",
       "      <td>no</td>\n",
       "      <td>no</td>\n",
       "      <td>cellular</td>\n",
       "      <td>9</td>\n",
       "      <td>nov</td>\n",
       "      <td>208</td>\n",
       "      <td>2</td>\n",
       "      <td>91</td>\n",
       "      <td>3</td>\n",
       "      <td>success</td>\n",
       "      <td>NaN</td>\n",
       "    </tr>\n",
       "    <tr>\n",
       "      <th>13563</th>\n",
       "      <td>34839</td>\n",
       "      <td>29</td>\n",
       "      <td>admin.</td>\n",
       "      <td>married</td>\n",
       "      <td>secondary</td>\n",
       "      <td>no</td>\n",
       "      <td>2</td>\n",
       "      <td>yes</td>\n",
       "      <td>no</td>\n",
       "      <td>cellular</td>\n",
       "      <td>6</td>\n",
       "      <td>may</td>\n",
       "      <td>339</td>\n",
       "      <td>1</td>\n",
       "      <td>362</td>\n",
       "      <td>1</td>\n",
       "      <td>failure</td>\n",
       "      <td>NaN</td>\n",
       "    </tr>\n",
       "  </tbody>\n",
       "</table>\n",
       "</div>"
      ],
      "text/plain": [
       "          ID  age          job  marital  education default  balance housing  \\\n",
       "13559  23465   39   management  married   tertiary      no       45      no   \n",
       "13560  11743   54  blue-collar  married    primary      no     2281     yes   \n",
       "13561  28292   35      retired  married    primary      no      285     yes   \n",
       "13562  45163   29       admin.   single  secondary      no      464      no   \n",
       "13563  34839   29       admin.  married  secondary      no        2     yes   \n",
       "\n",
       "      loan   contact  day month  duration  campaign  pdays  previous poutcome  \\\n",
       "13559   no  cellular   28   aug       148         4     -1         0  unknown   \n",
       "13560   no   unknown   20   jun       158         1     -1         0  unknown   \n",
       "13561   no  cellular   29   jan       136         1     -1         0  unknown   \n",
       "13562   no  cellular    9   nov       208         2     91         3  success   \n",
       "13563   no  cellular    6   may       339         1    362         1  failure   \n",
       "\n",
       "      subscribed  \n",
       "13559        NaN  \n",
       "13560        NaN  \n",
       "13561        NaN  \n",
       "13562        NaN  \n",
       "13563        NaN  "
      ]
     },
     "execution_count": 4,
     "metadata": {},
     "output_type": "execute_result"
    }
   ],
   "source": [
    "df.tail()"
   ]
  },
  {
   "cell_type": "code",
   "execution_count": 5,
   "id": "6fc2c0ec",
   "metadata": {},
   "outputs": [
    {
     "name": "stdout",
     "output_type": "stream",
     "text": [
      "Number of Rows = 45211\n",
      "Number of Columns = 18\n"
     ]
    }
   ],
   "source": [
    "df.shape\n",
    "print(\"Number of Rows =\",df.shape[0])\n",
    "print(\"Number of Columns =\",df.shape[1])"
   ]
  },
  {
   "cell_type": "code",
   "execution_count": 6,
   "id": "480182ae",
   "metadata": {},
   "outputs": [
    {
     "data": {
      "text/html": [
       "<div>\n",
       "<style scoped>\n",
       "    .dataframe tbody tr th:only-of-type {\n",
       "        vertical-align: middle;\n",
       "    }\n",
       "\n",
       "    .dataframe tbody tr th {\n",
       "        vertical-align: top;\n",
       "    }\n",
       "\n",
       "    .dataframe thead th {\n",
       "        text-align: right;\n",
       "    }\n",
       "</style>\n",
       "<table border=\"1\" class=\"dataframe\">\n",
       "  <thead>\n",
       "    <tr style=\"text-align: right;\">\n",
       "      <th></th>\n",
       "      <th>ID</th>\n",
       "      <th>age</th>\n",
       "      <th>job</th>\n",
       "      <th>marital</th>\n",
       "      <th>education</th>\n",
       "      <th>default</th>\n",
       "      <th>balance</th>\n",
       "      <th>housing</th>\n",
       "      <th>loan</th>\n",
       "      <th>contact</th>\n",
       "      <th>day</th>\n",
       "      <th>month</th>\n",
       "      <th>duration</th>\n",
       "      <th>campaign</th>\n",
       "      <th>pdays</th>\n",
       "      <th>previous</th>\n",
       "      <th>poutcome</th>\n",
       "      <th>subscribed</th>\n",
       "    </tr>\n",
       "  </thead>\n",
       "  <tbody>\n",
       "    <tr>\n",
       "      <th>22354</th>\n",
       "      <td>23701</td>\n",
       "      <td>41</td>\n",
       "      <td>technician</td>\n",
       "      <td>married</td>\n",
       "      <td>secondary</td>\n",
       "      <td>no</td>\n",
       "      <td>6171</td>\n",
       "      <td>no</td>\n",
       "      <td>no</td>\n",
       "      <td>cellular</td>\n",
       "      <td>28</td>\n",
       "      <td>aug</td>\n",
       "      <td>50</td>\n",
       "      <td>5</td>\n",
       "      <td>-1</td>\n",
       "      <td>0</td>\n",
       "      <td>unknown</td>\n",
       "      <td>no</td>\n",
       "    </tr>\n",
       "    <tr>\n",
       "      <th>14762</th>\n",
       "      <td>32308</td>\n",
       "      <td>55</td>\n",
       "      <td>management</td>\n",
       "      <td>single</td>\n",
       "      <td>unknown</td>\n",
       "      <td>no</td>\n",
       "      <td>111</td>\n",
       "      <td>no</td>\n",
       "      <td>no</td>\n",
       "      <td>cellular</td>\n",
       "      <td>16</td>\n",
       "      <td>apr</td>\n",
       "      <td>117</td>\n",
       "      <td>1</td>\n",
       "      <td>-1</td>\n",
       "      <td>0</td>\n",
       "      <td>unknown</td>\n",
       "      <td>no</td>\n",
       "    </tr>\n",
       "    <tr>\n",
       "      <th>1451</th>\n",
       "      <td>39513</td>\n",
       "      <td>36</td>\n",
       "      <td>technician</td>\n",
       "      <td>married</td>\n",
       "      <td>tertiary</td>\n",
       "      <td>no</td>\n",
       "      <td>911</td>\n",
       "      <td>yes</td>\n",
       "      <td>yes</td>\n",
       "      <td>cellular</td>\n",
       "      <td>25</td>\n",
       "      <td>may</td>\n",
       "      <td>117</td>\n",
       "      <td>2</td>\n",
       "      <td>21</td>\n",
       "      <td>3</td>\n",
       "      <td>failure</td>\n",
       "      <td>yes</td>\n",
       "    </tr>\n",
       "    <tr>\n",
       "      <th>1474</th>\n",
       "      <td>29192</td>\n",
       "      <td>46</td>\n",
       "      <td>services</td>\n",
       "      <td>divorced</td>\n",
       "      <td>unknown</td>\n",
       "      <td>no</td>\n",
       "      <td>973</td>\n",
       "      <td>no</td>\n",
       "      <td>no</td>\n",
       "      <td>cellular</td>\n",
       "      <td>2</td>\n",
       "      <td>feb</td>\n",
       "      <td>297</td>\n",
       "      <td>1</td>\n",
       "      <td>-1</td>\n",
       "      <td>0</td>\n",
       "      <td>unknown</td>\n",
       "      <td>NaN</td>\n",
       "    </tr>\n",
       "    <tr>\n",
       "      <th>7664</th>\n",
       "      <td>27602</td>\n",
       "      <td>47</td>\n",
       "      <td>blue-collar</td>\n",
       "      <td>married</td>\n",
       "      <td>secondary</td>\n",
       "      <td>no</td>\n",
       "      <td>473</td>\n",
       "      <td>yes</td>\n",
       "      <td>no</td>\n",
       "      <td>cellular</td>\n",
       "      <td>21</td>\n",
       "      <td>nov</td>\n",
       "      <td>127</td>\n",
       "      <td>2</td>\n",
       "      <td>176</td>\n",
       "      <td>2</td>\n",
       "      <td>other</td>\n",
       "      <td>NaN</td>\n",
       "    </tr>\n",
       "    <tr>\n",
       "      <th>10259</th>\n",
       "      <td>2851</td>\n",
       "      <td>49</td>\n",
       "      <td>unemployed</td>\n",
       "      <td>married</td>\n",
       "      <td>secondary</td>\n",
       "      <td>no</td>\n",
       "      <td>769</td>\n",
       "      <td>yes</td>\n",
       "      <td>no</td>\n",
       "      <td>unknown</td>\n",
       "      <td>14</td>\n",
       "      <td>may</td>\n",
       "      <td>257</td>\n",
       "      <td>1</td>\n",
       "      <td>-1</td>\n",
       "      <td>0</td>\n",
       "      <td>unknown</td>\n",
       "      <td>NaN</td>\n",
       "    </tr>\n",
       "    <tr>\n",
       "      <th>5834</th>\n",
       "      <td>3852</td>\n",
       "      <td>54</td>\n",
       "      <td>management</td>\n",
       "      <td>divorced</td>\n",
       "      <td>tertiary</td>\n",
       "      <td>no</td>\n",
       "      <td>29887</td>\n",
       "      <td>yes</td>\n",
       "      <td>no</td>\n",
       "      <td>unknown</td>\n",
       "      <td>16</td>\n",
       "      <td>may</td>\n",
       "      <td>865</td>\n",
       "      <td>1</td>\n",
       "      <td>-1</td>\n",
       "      <td>0</td>\n",
       "      <td>unknown</td>\n",
       "      <td>no</td>\n",
       "    </tr>\n",
       "    <tr>\n",
       "      <th>11515</th>\n",
       "      <td>14623</td>\n",
       "      <td>46</td>\n",
       "      <td>management</td>\n",
       "      <td>married</td>\n",
       "      <td>tertiary</td>\n",
       "      <td>no</td>\n",
       "      <td>182</td>\n",
       "      <td>no</td>\n",
       "      <td>no</td>\n",
       "      <td>cellular</td>\n",
       "      <td>15</td>\n",
       "      <td>jul</td>\n",
       "      <td>317</td>\n",
       "      <td>1</td>\n",
       "      <td>-1</td>\n",
       "      <td>0</td>\n",
       "      <td>unknown</td>\n",
       "      <td>NaN</td>\n",
       "    </tr>\n",
       "    <tr>\n",
       "      <th>19747</th>\n",
       "      <td>24701</td>\n",
       "      <td>38</td>\n",
       "      <td>services</td>\n",
       "      <td>married</td>\n",
       "      <td>secondary</td>\n",
       "      <td>no</td>\n",
       "      <td>18</td>\n",
       "      <td>yes</td>\n",
       "      <td>yes</td>\n",
       "      <td>cellular</td>\n",
       "      <td>17</td>\n",
       "      <td>nov</td>\n",
       "      <td>118</td>\n",
       "      <td>2</td>\n",
       "      <td>-1</td>\n",
       "      <td>0</td>\n",
       "      <td>unknown</td>\n",
       "      <td>no</td>\n",
       "    </tr>\n",
       "    <tr>\n",
       "      <th>15836</th>\n",
       "      <td>12782</td>\n",
       "      <td>26</td>\n",
       "      <td>services</td>\n",
       "      <td>married</td>\n",
       "      <td>secondary</td>\n",
       "      <td>no</td>\n",
       "      <td>-236</td>\n",
       "      <td>yes</td>\n",
       "      <td>yes</td>\n",
       "      <td>cellular</td>\n",
       "      <td>7</td>\n",
       "      <td>jul</td>\n",
       "      <td>459</td>\n",
       "      <td>1</td>\n",
       "      <td>-1</td>\n",
       "      <td>0</td>\n",
       "      <td>unknown</td>\n",
       "      <td>no</td>\n",
       "    </tr>\n",
       "    <tr>\n",
       "      <th>8997</th>\n",
       "      <td>6966</td>\n",
       "      <td>42</td>\n",
       "      <td>blue-collar</td>\n",
       "      <td>married</td>\n",
       "      <td>secondary</td>\n",
       "      <td>no</td>\n",
       "      <td>1134</td>\n",
       "      <td>yes</td>\n",
       "      <td>no</td>\n",
       "      <td>unknown</td>\n",
       "      <td>28</td>\n",
       "      <td>may</td>\n",
       "      <td>424</td>\n",
       "      <td>3</td>\n",
       "      <td>-1</td>\n",
       "      <td>0</td>\n",
       "      <td>unknown</td>\n",
       "      <td>no</td>\n",
       "    </tr>\n",
       "    <tr>\n",
       "      <th>15252</th>\n",
       "      <td>42176</td>\n",
       "      <td>60</td>\n",
       "      <td>self-employed</td>\n",
       "      <td>married</td>\n",
       "      <td>tertiary</td>\n",
       "      <td>no</td>\n",
       "      <td>10861</td>\n",
       "      <td>no</td>\n",
       "      <td>no</td>\n",
       "      <td>cellular</td>\n",
       "      <td>9</td>\n",
       "      <td>nov</td>\n",
       "      <td>98</td>\n",
       "      <td>1</td>\n",
       "      <td>91</td>\n",
       "      <td>2</td>\n",
       "      <td>failure</td>\n",
       "      <td>yes</td>\n",
       "    </tr>\n",
       "    <tr>\n",
       "      <th>8755</th>\n",
       "      <td>4340</td>\n",
       "      <td>43</td>\n",
       "      <td>blue-collar</td>\n",
       "      <td>married</td>\n",
       "      <td>primary</td>\n",
       "      <td>no</td>\n",
       "      <td>1147</td>\n",
       "      <td>yes</td>\n",
       "      <td>yes</td>\n",
       "      <td>unknown</td>\n",
       "      <td>19</td>\n",
       "      <td>may</td>\n",
       "      <td>112</td>\n",
       "      <td>7</td>\n",
       "      <td>-1</td>\n",
       "      <td>0</td>\n",
       "      <td>unknown</td>\n",
       "      <td>NaN</td>\n",
       "    </tr>\n",
       "    <tr>\n",
       "      <th>30107</th>\n",
       "      <td>28759</td>\n",
       "      <td>55</td>\n",
       "      <td>technician</td>\n",
       "      <td>married</td>\n",
       "      <td>unknown</td>\n",
       "      <td>no</td>\n",
       "      <td>851</td>\n",
       "      <td>yes</td>\n",
       "      <td>no</td>\n",
       "      <td>cellular</td>\n",
       "      <td>30</td>\n",
       "      <td>jan</td>\n",
       "      <td>138</td>\n",
       "      <td>1</td>\n",
       "      <td>270</td>\n",
       "      <td>2</td>\n",
       "      <td>failure</td>\n",
       "      <td>no</td>\n",
       "    </tr>\n",
       "    <tr>\n",
       "      <th>25333</th>\n",
       "      <td>44270</td>\n",
       "      <td>41</td>\n",
       "      <td>admin.</td>\n",
       "      <td>married</td>\n",
       "      <td>secondary</td>\n",
       "      <td>no</td>\n",
       "      <td>14968</td>\n",
       "      <td>no</td>\n",
       "      <td>no</td>\n",
       "      <td>cellular</td>\n",
       "      <td>23</td>\n",
       "      <td>jul</td>\n",
       "      <td>1360</td>\n",
       "      <td>4</td>\n",
       "      <td>-1</td>\n",
       "      <td>0</td>\n",
       "      <td>unknown</td>\n",
       "      <td>yes</td>\n",
       "    </tr>\n",
       "  </tbody>\n",
       "</table>\n",
       "</div>"
      ],
      "text/plain": [
       "          ID  age            job   marital  education default  balance  \\\n",
       "22354  23701   41     technician   married  secondary      no     6171   \n",
       "14762  32308   55     management    single    unknown      no      111   \n",
       "1451   39513   36     technician   married   tertiary      no      911   \n",
       "1474   29192   46       services  divorced    unknown      no      973   \n",
       "7664   27602   47    blue-collar   married  secondary      no      473   \n",
       "10259   2851   49     unemployed   married  secondary      no      769   \n",
       "5834    3852   54     management  divorced   tertiary      no    29887   \n",
       "11515  14623   46     management   married   tertiary      no      182   \n",
       "19747  24701   38       services   married  secondary      no       18   \n",
       "15836  12782   26       services   married  secondary      no     -236   \n",
       "8997    6966   42    blue-collar   married  secondary      no     1134   \n",
       "15252  42176   60  self-employed   married   tertiary      no    10861   \n",
       "8755    4340   43    blue-collar   married    primary      no     1147   \n",
       "30107  28759   55     technician   married    unknown      no      851   \n",
       "25333  44270   41         admin.   married  secondary      no    14968   \n",
       "\n",
       "      housing loan   contact  day month  duration  campaign  pdays  previous  \\\n",
       "22354      no   no  cellular   28   aug        50         5     -1         0   \n",
       "14762      no   no  cellular   16   apr       117         1     -1         0   \n",
       "1451      yes  yes  cellular   25   may       117         2     21         3   \n",
       "1474       no   no  cellular    2   feb       297         1     -1         0   \n",
       "7664      yes   no  cellular   21   nov       127         2    176         2   \n",
       "10259     yes   no   unknown   14   may       257         1     -1         0   \n",
       "5834      yes   no   unknown   16   may       865         1     -1         0   \n",
       "11515      no   no  cellular   15   jul       317         1     -1         0   \n",
       "19747     yes  yes  cellular   17   nov       118         2     -1         0   \n",
       "15836     yes  yes  cellular    7   jul       459         1     -1         0   \n",
       "8997      yes   no   unknown   28   may       424         3     -1         0   \n",
       "15252      no   no  cellular    9   nov        98         1     91         2   \n",
       "8755      yes  yes   unknown   19   may       112         7     -1         0   \n",
       "30107     yes   no  cellular   30   jan       138         1    270         2   \n",
       "25333      no   no  cellular   23   jul      1360         4     -1         0   \n",
       "\n",
       "      poutcome subscribed  \n",
       "22354  unknown         no  \n",
       "14762  unknown         no  \n",
       "1451   failure        yes  \n",
       "1474   unknown        NaN  \n",
       "7664     other        NaN  \n",
       "10259  unknown        NaN  \n",
       "5834   unknown         no  \n",
       "11515  unknown        NaN  \n",
       "19747  unknown         no  \n",
       "15836  unknown         no  \n",
       "8997   unknown         no  \n",
       "15252  failure        yes  \n",
       "8755   unknown        NaN  \n",
       "30107  failure         no  \n",
       "25333  unknown        yes  "
      ]
     },
     "execution_count": 6,
     "metadata": {},
     "output_type": "execute_result"
    }
   ],
   "source": [
    "df.sample(15)"
   ]
  },
  {
   "cell_type": "code",
   "execution_count": 7,
   "id": "6300a1c9",
   "metadata": {},
   "outputs": [
    {
     "name": "stdout",
     "output_type": "stream",
     "text": [
      "<class 'pandas.core.frame.DataFrame'>\n",
      "Int64Index: 45211 entries, 0 to 13563\n",
      "Data columns (total 18 columns):\n",
      " #   Column      Non-Null Count  Dtype \n",
      "---  ------      --------------  ----- \n",
      " 0   ID          45211 non-null  int64 \n",
      " 1   age         45211 non-null  int64 \n",
      " 2   job         45211 non-null  object\n",
      " 3   marital     45211 non-null  object\n",
      " 4   education   45211 non-null  object\n",
      " 5   default     45211 non-null  object\n",
      " 6   balance     45211 non-null  int64 \n",
      " 7   housing     45211 non-null  object\n",
      " 8   loan        45211 non-null  object\n",
      " 9   contact     45211 non-null  object\n",
      " 10  day         45211 non-null  int64 \n",
      " 11  month       45211 non-null  object\n",
      " 12  duration    45211 non-null  int64 \n",
      " 13  campaign    45211 non-null  int64 \n",
      " 14  pdays       45211 non-null  int64 \n",
      " 15  previous    45211 non-null  int64 \n",
      " 16  poutcome    45211 non-null  object\n",
      " 17  subscribed  31647 non-null  object\n",
      "dtypes: int64(8), object(10)\n",
      "memory usage: 6.6+ MB\n"
     ]
    }
   ],
   "source": [
    "df.info()"
   ]
  },
  {
   "cell_type": "code",
   "execution_count": 8,
   "id": "5b21bfb3",
   "metadata": {},
   "outputs": [
    {
     "data": {
      "text/plain": [
       "ID             int64\n",
       "age            int64\n",
       "job           object\n",
       "marital       object\n",
       "education     object\n",
       "default       object\n",
       "balance        int64\n",
       "housing       object\n",
       "loan          object\n",
       "contact       object\n",
       "day            int64\n",
       "month         object\n",
       "duration       int64\n",
       "campaign       int64\n",
       "pdays          int64\n",
       "previous       int64\n",
       "poutcome      object\n",
       "subscribed    object\n",
       "dtype: object"
      ]
     },
     "execution_count": 8,
     "metadata": {},
     "output_type": "execute_result"
    }
   ],
   "source": [
    "df.dtypes"
   ]
  },
  {
   "cell_type": "markdown",
   "id": "0e21dfbd",
   "metadata": {},
   "source": [
    "Checked the datatypes and null values from the dataset of all the columns which results we do not have any null value present in the dataset, but dataset have columns with the string object and integers."
   ]
  },
  {
   "cell_type": "code",
   "execution_count": 9,
   "id": "fc82dc7b",
   "metadata": {},
   "outputs": [
    {
     "data": {
      "text/plain": [
       "ID                0\n",
       "age               0\n",
       "job               0\n",
       "marital           0\n",
       "education         0\n",
       "default           0\n",
       "balance           0\n",
       "housing           0\n",
       "loan              0\n",
       "contact           0\n",
       "day               0\n",
       "month             0\n",
       "duration          0\n",
       "campaign          0\n",
       "pdays             0\n",
       "previous          0\n",
       "poutcome          0\n",
       "subscribed    13564\n",
       "dtype: int64"
      ]
     },
     "execution_count": 9,
     "metadata": {},
     "output_type": "execute_result"
    }
   ],
   "source": [
    "df.isnull().sum()"
   ]
  },
  {
   "cell_type": "code",
   "execution_count": 10,
   "id": "518774fb",
   "metadata": {},
   "outputs": [
    {
     "data": {
      "text/plain": [
       "<Axes: >"
      ]
     },
     "execution_count": 10,
     "metadata": {},
     "output_type": "execute_result"
    },
    {
     "data": {
      "image/png": "[encoded data removed]",
      "text/plain": [
       "<Figure size 640x480 with 2 Axes>"
      ]
     },
     "metadata": {},
     "output_type": "display_data"
    }
   ],
   "source": [
    "sns.heatmap(df.isnull())"
   ]
  },
  {
   "cell_type": "code",
   "execution_count": 11,
   "id": "8b04d124",
   "metadata": {},
   "outputs": [
    {
     "data": {
      "text/plain": [
       "blue-collar      9732\n",
       "management       9458\n",
       "technician       7597\n",
       "admin.           5171\n",
       "services         4154\n",
       "retired          2264\n",
       "self-employed    1579\n",
       "entrepreneur     1487\n",
       "unemployed       1303\n",
       "housemaid        1240\n",
       "student           938\n",
       "unknown           288\n",
       "Name: job, dtype: int64"
      ]
     },
     "execution_count": 11,
     "metadata": {},
     "output_type": "execute_result"
    }
   ],
   "source": [
    "df[\"job\"].value_counts()"
   ]
  },
  {
   "cell_type": "code",
   "execution_count": 12,
   "id": "a636d7e0",
   "metadata": {},
   "outputs": [
    {
     "data": {
      "text/plain": [
       "married     27214\n",
       "single      12790\n",
       "divorced     5207\n",
       "Name: marital, dtype: int64"
      ]
     },
     "execution_count": 12,
     "metadata": {},
     "output_type": "execute_result"
    }
   ],
   "source": [
    "df[\"marital\"].value_counts()"
   ]
  },
  {
   "cell_type": "code",
   "execution_count": 13,
   "id": "568c45a7",
   "metadata": {},
   "outputs": [
    {
     "data": {
      "text/plain": [
       "secondary    23202\n",
       "tertiary     13301\n",
       "primary       6851\n",
       "unknown       1857\n",
       "Name: education, dtype: int64"
      ]
     },
     "execution_count": 13,
     "metadata": {},
     "output_type": "execute_result"
    }
   ],
   "source": [
    "df[\"education\"].value_counts()"
   ]
  },
  {
   "cell_type": "code",
   "execution_count": 14,
   "id": "2994c7f6",
   "metadata": {},
   "outputs": [
    {
     "data": {
      "text/plain": [
       "cellular     29285\n",
       "unknown      13020\n",
       "telephone     2906\n",
       "Name: contact, dtype: int64"
      ]
     },
     "execution_count": 14,
     "metadata": {},
     "output_type": "execute_result"
    }
   ],
   "source": [
    "df[\"contact\"].value_counts()"
   ]
  },
  {
   "cell_type": "code",
   "execution_count": 15,
   "id": "c4af2c01",
   "metadata": {},
   "outputs": [
    {
     "data": {
      "text/plain": [
       "unknown    36959\n",
       "failure     4901\n",
       "other       1840\n",
       "success     1511\n",
       "Name: poutcome, dtype: int64"
      ]
     },
     "execution_count": 15,
     "metadata": {},
     "output_type": "execute_result"
    }
   ],
   "source": [
    "df[\"poutcome\"].value_counts()"
   ]
  },
  {
   "cell_type": "markdown",
   "id": "5c85c591",
   "metadata": {},
   "source": [
    "Here we have extracted the value counts of the columns and the number of unique value present in the colmuns."
   ]
  },
  {
   "cell_type": "code",
   "execution_count": 16,
   "id": "c272523d",
   "metadata": {},
   "outputs": [
    {
     "data": {
      "text/plain": [
       "ID            45211\n",
       "age              77\n",
       "job              12\n",
       "marital           3\n",
       "education         4\n",
       "default           2\n",
       "balance        7168\n",
       "housing           2\n",
       "loan              2\n",
       "contact           3\n",
       "day              31\n",
       "month            12\n",
       "duration       1573\n",
       "campaign         48\n",
       "pdays           559\n",
       "previous         41\n",
       "poutcome          4\n",
       "subscribed        2\n",
       "dtype: int64"
      ]
     },
     "execution_count": 16,
     "metadata": {},
     "output_type": "execute_result"
    }
   ],
   "source": [
    "df.nunique()"
   ]
  },
  {
   "cell_type": "code",
   "execution_count": 17,
   "id": "9a1ae022",
   "metadata": {},
   "outputs": [],
   "source": [
    "from sklearn.preprocessing import OrdinalEncoder\n",
    "oe = OrdinalEncoder()"
   ]
  },
  {
   "cell_type": "code",
   "execution_count": 18,
   "id": "c227d44d",
   "metadata": {},
   "outputs": [],
   "source": [
    "encode = oe.fit_transform(df[[\"job\",\"marital\",\"education\",\"default\",\n",
    "                             \"housing\",\"loan\",\"contact\",\"month\",\n",
    "                             \"poutcome\",\"subscribed\"]])"
   ]
  },
  {
   "cell_type": "code",
   "execution_count": 19,
   "id": "b9f92366",
   "metadata": {},
   "outputs": [],
   "source": [
    "df[[\"job\",\"marital\",\"education\",\"default\",\n",
    "    \"housing\",\"loan\",\"contact\",\"month\",\n",
    "    \"poutcome\",\"subscribed\"]] = encode"
   ]
  },
  {
   "cell_type": "markdown",
   "id": "f71f98c4",
   "metadata": {},
   "source": [
    "We have encode the columns for proceeding further in the analysis and model building,\n",
    "Encoded the columns which have data in string object have been converted into integer we have used Ordinal Encoder for encoding the data."
   ]
  },
  {
   "cell_type": "code",
   "execution_count": 20,
   "id": "495f40e5",
   "metadata": {},
   "outputs": [
    {
     "data": {
      "text/html": [
       "<div>\n",
       "<style scoped>\n",
       "    .dataframe tbody tr th:only-of-type {\n",
       "        vertical-align: middle;\n",
       "    }\n",
       "\n",
       "    .dataframe tbody tr th {\n",
       "        vertical-align: top;\n",
       "    }\n",
       "\n",
       "    .dataframe thead th {\n",
       "        text-align: right;\n",
       "    }\n",
       "</style>\n",
       "<table border=\"1\" class=\"dataframe\">\n",
       "  <thead>\n",
       "    <tr style=\"text-align: right;\">\n",
       "      <th></th>\n",
       "      <th>ID</th>\n",
       "      <th>age</th>\n",
       "      <th>job</th>\n",
       "      <th>marital</th>\n",
       "      <th>education</th>\n",
       "      <th>default</th>\n",
       "      <th>balance</th>\n",
       "      <th>housing</th>\n",
       "      <th>loan</th>\n",
       "      <th>contact</th>\n",
       "      <th>day</th>\n",
       "      <th>month</th>\n",
       "      <th>duration</th>\n",
       "      <th>campaign</th>\n",
       "      <th>pdays</th>\n",
       "      <th>previous</th>\n",
       "      <th>poutcome</th>\n",
       "      <th>subscribed</th>\n",
       "    </tr>\n",
       "  </thead>\n",
       "  <tbody>\n",
       "    <tr>\n",
       "      <th>15760</th>\n",
       "      <td>21667</td>\n",
       "      <td>40</td>\n",
       "      <td>4.0</td>\n",
       "      <td>1.0</td>\n",
       "      <td>2.0</td>\n",
       "      <td>0.0</td>\n",
       "      <td>409</td>\n",
       "      <td>0.0</td>\n",
       "      <td>0.0</td>\n",
       "      <td>0.0</td>\n",
       "      <td>19</td>\n",
       "      <td>1.0</td>\n",
       "      <td>111</td>\n",
       "      <td>2</td>\n",
       "      <td>-1</td>\n",
       "      <td>0</td>\n",
       "      <td>3.0</td>\n",
       "      <td>0.0</td>\n",
       "    </tr>\n",
       "    <tr>\n",
       "      <th>4822</th>\n",
       "      <td>23024</td>\n",
       "      <td>53</td>\n",
       "      <td>9.0</td>\n",
       "      <td>1.0</td>\n",
       "      <td>1.0</td>\n",
       "      <td>0.0</td>\n",
       "      <td>0</td>\n",
       "      <td>0.0</td>\n",
       "      <td>0.0</td>\n",
       "      <td>0.0</td>\n",
       "      <td>26</td>\n",
       "      <td>1.0</td>\n",
       "      <td>392</td>\n",
       "      <td>2</td>\n",
       "      <td>-1</td>\n",
       "      <td>0</td>\n",
       "      <td>3.0</td>\n",
       "      <td>0.0</td>\n",
       "    </tr>\n",
       "    <tr>\n",
       "      <th>27556</th>\n",
       "      <td>2371</td>\n",
       "      <td>41</td>\n",
       "      <td>1.0</td>\n",
       "      <td>1.0</td>\n",
       "      <td>1.0</td>\n",
       "      <td>0.0</td>\n",
       "      <td>429</td>\n",
       "      <td>1.0</td>\n",
       "      <td>0.0</td>\n",
       "      <td>2.0</td>\n",
       "      <td>13</td>\n",
       "      <td>8.0</td>\n",
       "      <td>244</td>\n",
       "      <td>1</td>\n",
       "      <td>-1</td>\n",
       "      <td>0</td>\n",
       "      <td>3.0</td>\n",
       "      <td>0.0</td>\n",
       "    </tr>\n",
       "    <tr>\n",
       "      <th>24951</th>\n",
       "      <td>3498</td>\n",
       "      <td>60</td>\n",
       "      <td>7.0</td>\n",
       "      <td>2.0</td>\n",
       "      <td>0.0</td>\n",
       "      <td>0.0</td>\n",
       "      <td>313</td>\n",
       "      <td>1.0</td>\n",
       "      <td>0.0</td>\n",
       "      <td>2.0</td>\n",
       "      <td>15</td>\n",
       "      <td>8.0</td>\n",
       "      <td>920</td>\n",
       "      <td>2</td>\n",
       "      <td>-1</td>\n",
       "      <td>0</td>\n",
       "      <td>3.0</td>\n",
       "      <td>1.0</td>\n",
       "    </tr>\n",
       "    <tr>\n",
       "      <th>23991</th>\n",
       "      <td>23812</td>\n",
       "      <td>37</td>\n",
       "      <td>4.0</td>\n",
       "      <td>2.0</td>\n",
       "      <td>1.0</td>\n",
       "      <td>0.0</td>\n",
       "      <td>45</td>\n",
       "      <td>0.0</td>\n",
       "      <td>0.0</td>\n",
       "      <td>0.0</td>\n",
       "      <td>29</td>\n",
       "      <td>1.0</td>\n",
       "      <td>99</td>\n",
       "      <td>3</td>\n",
       "      <td>-1</td>\n",
       "      <td>0</td>\n",
       "      <td>3.0</td>\n",
       "      <td>0.0</td>\n",
       "    </tr>\n",
       "    <tr>\n",
       "      <th>21074</th>\n",
       "      <td>4462</td>\n",
       "      <td>36</td>\n",
       "      <td>9.0</td>\n",
       "      <td>1.0</td>\n",
       "      <td>1.0</td>\n",
       "      <td>0.0</td>\n",
       "      <td>412</td>\n",
       "      <td>1.0</td>\n",
       "      <td>1.0</td>\n",
       "      <td>2.0</td>\n",
       "      <td>20</td>\n",
       "      <td>8.0</td>\n",
       "      <td>127</td>\n",
       "      <td>1</td>\n",
       "      <td>-1</td>\n",
       "      <td>0</td>\n",
       "      <td>3.0</td>\n",
       "      <td>0.0</td>\n",
       "    </tr>\n",
       "    <tr>\n",
       "      <th>11357</th>\n",
       "      <td>43309</td>\n",
       "      <td>47</td>\n",
       "      <td>3.0</td>\n",
       "      <td>2.0</td>\n",
       "      <td>2.0</td>\n",
       "      <td>0.0</td>\n",
       "      <td>3232</td>\n",
       "      <td>0.0</td>\n",
       "      <td>0.0</td>\n",
       "      <td>1.0</td>\n",
       "      <td>16</td>\n",
       "      <td>7.0</td>\n",
       "      <td>294</td>\n",
       "      <td>1</td>\n",
       "      <td>274</td>\n",
       "      <td>2</td>\n",
       "      <td>0.0</td>\n",
       "      <td>0.0</td>\n",
       "    </tr>\n",
       "    <tr>\n",
       "      <th>10127</th>\n",
       "      <td>13885</td>\n",
       "      <td>46</td>\n",
       "      <td>1.0</td>\n",
       "      <td>1.0</td>\n",
       "      <td>0.0</td>\n",
       "      <td>0.0</td>\n",
       "      <td>-388</td>\n",
       "      <td>1.0</td>\n",
       "      <td>1.0</td>\n",
       "      <td>0.0</td>\n",
       "      <td>10</td>\n",
       "      <td>5.0</td>\n",
       "      <td>207</td>\n",
       "      <td>1</td>\n",
       "      <td>-1</td>\n",
       "      <td>0</td>\n",
       "      <td>3.0</td>\n",
       "      <td>0.0</td>\n",
       "    </tr>\n",
       "    <tr>\n",
       "      <th>10626</th>\n",
       "      <td>45188</td>\n",
       "      <td>32</td>\n",
       "      <td>7.0</td>\n",
       "      <td>2.0</td>\n",
       "      <td>1.0</td>\n",
       "      <td>0.0</td>\n",
       "      <td>1168</td>\n",
       "      <td>1.0</td>\n",
       "      <td>0.0</td>\n",
       "      <td>0.0</td>\n",
       "      <td>16</td>\n",
       "      <td>9.0</td>\n",
       "      <td>411</td>\n",
       "      <td>1</td>\n",
       "      <td>-1</td>\n",
       "      <td>0</td>\n",
       "      <td>3.0</td>\n",
       "      <td>1.0</td>\n",
       "    </tr>\n",
       "    <tr>\n",
       "      <th>1620</th>\n",
       "      <td>35295</td>\n",
       "      <td>36</td>\n",
       "      <td>2.0</td>\n",
       "      <td>1.0</td>\n",
       "      <td>2.0</td>\n",
       "      <td>0.0</td>\n",
       "      <td>4576</td>\n",
       "      <td>1.0</td>\n",
       "      <td>0.0</td>\n",
       "      <td>0.0</td>\n",
       "      <td>7</td>\n",
       "      <td>8.0</td>\n",
       "      <td>272</td>\n",
       "      <td>1</td>\n",
       "      <td>-1</td>\n",
       "      <td>0</td>\n",
       "      <td>3.0</td>\n",
       "      <td>0.0</td>\n",
       "    </tr>\n",
       "  </tbody>\n",
       "</table>\n",
       "</div>"
      ],
      "text/plain": [
       "          ID  age  job  marital  education  default  balance  housing  loan  \\\n",
       "15760  21667   40  4.0      1.0        2.0      0.0      409      0.0   0.0   \n",
       "4822   23024   53  9.0      1.0        1.0      0.0        0      0.0   0.0   \n",
       "27556   2371   41  1.0      1.0        1.0      0.0      429      1.0   0.0   \n",
       "24951   3498   60  7.0      2.0        0.0      0.0      313      1.0   0.0   \n",
       "23991  23812   37  4.0      2.0        1.0      0.0       45      0.0   0.0   \n",
       "21074   4462   36  9.0      1.0        1.0      0.0      412      1.0   1.0   \n",
       "11357  43309   47  3.0      2.0        2.0      0.0     3232      0.0   0.0   \n",
       "10127  13885   46  1.0      1.0        0.0      0.0     -388      1.0   1.0   \n",
       "10626  45188   32  7.0      2.0        1.0      0.0     1168      1.0   0.0   \n",
       "1620   35295   36  2.0      1.0        2.0      0.0     4576      1.0   0.0   \n",
       "\n",
       "       contact  day  month  duration  campaign  pdays  previous  poutcome  \\\n",
       "15760      0.0   19    1.0       111         2     -1         0       3.0   \n",
       "4822       0.0   26    1.0       392         2     -1         0       3.0   \n",
       "27556      2.0   13    8.0       244         1     -1         0       3.0   \n",
       "24951      2.0   15    8.0       920         2     -1         0       3.0   \n",
       "23991      0.0   29    1.0        99         3     -1         0       3.0   \n",
       "21074      2.0   20    8.0       127         1     -1         0       3.0   \n",
       "11357      1.0   16    7.0       294         1    274         2       0.0   \n",
       "10127      0.0   10    5.0       207         1     -1         0       3.0   \n",
       "10626      0.0   16    9.0       411         1     -1         0       3.0   \n",
       "1620       0.0    7    8.0       272         1     -1         0       3.0   \n",
       "\n",
       "       subscribed  \n",
       "15760         0.0  \n",
       "4822          0.0  \n",
       "27556         0.0  \n",
       "24951         1.0  \n",
       "23991         0.0  \n",
       "21074         0.0  \n",
       "11357         0.0  \n",
       "10127         0.0  \n",
       "10626         1.0  \n",
       "1620          0.0  "
      ]
     },
     "execution_count": 20,
     "metadata": {},
     "output_type": "execute_result"
    }
   ],
   "source": [
    "df.sample(10)"
   ]
  },
  {
   "cell_type": "code",
   "execution_count": 21,
   "id": "a02c00c1",
   "metadata": {},
   "outputs": [
    {
     "data": {
      "text/plain": [
       "ID              int64\n",
       "age             int64\n",
       "job           float64\n",
       "marital       float64\n",
       "education     float64\n",
       "default       float64\n",
       "balance         int64\n",
       "housing       float64\n",
       "loan          float64\n",
       "contact       float64\n",
       "day             int64\n",
       "month         float64\n",
       "duration        int64\n",
       "campaign        int64\n",
       "pdays           int64\n",
       "previous        int64\n",
       "poutcome      float64\n",
       "subscribed    float64\n",
       "dtype: object"
      ]
     },
     "execution_count": 21,
     "metadata": {},
     "output_type": "execute_result"
    }
   ],
   "source": [
    "df.dtypes"
   ]
  },
  {
   "cell_type": "code",
   "execution_count": 22,
   "id": "7f111ebe",
   "metadata": {},
   "outputs": [
    {
     "data": {
      "text/html": [
       "<div>\n",
       "<style scoped>\n",
       "    .dataframe tbody tr th:only-of-type {\n",
       "        vertical-align: middle;\n",
       "    }\n",
       "\n",
       "    .dataframe tbody tr th {\n",
       "        vertical-align: top;\n",
       "    }\n",
       "\n",
       "    .dataframe thead th {\n",
       "        text-align: right;\n",
       "    }\n",
       "</style>\n",
       "<table border=\"1\" class=\"dataframe\">\n",
       "  <thead>\n",
       "    <tr style=\"text-align: right;\">\n",
       "      <th></th>\n",
       "      <th>ID</th>\n",
       "      <th>age</th>\n",
       "      <th>job</th>\n",
       "      <th>marital</th>\n",
       "      <th>education</th>\n",
       "      <th>default</th>\n",
       "      <th>balance</th>\n",
       "      <th>housing</th>\n",
       "      <th>loan</th>\n",
       "      <th>contact</th>\n",
       "      <th>day</th>\n",
       "      <th>month</th>\n",
       "      <th>duration</th>\n",
       "      <th>campaign</th>\n",
       "      <th>pdays</th>\n",
       "      <th>previous</th>\n",
       "      <th>poutcome</th>\n",
       "      <th>subscribed</th>\n",
       "    </tr>\n",
       "  </thead>\n",
       "  <tbody>\n",
       "    <tr>\n",
       "      <th>count</th>\n",
       "      <td>45211.000000</td>\n",
       "      <td>45211.000000</td>\n",
       "      <td>45211.000000</td>\n",
       "      <td>45211.000000</td>\n",
       "      <td>45211.000000</td>\n",
       "      <td>45211.000000</td>\n",
       "      <td>45211.000000</td>\n",
       "      <td>45211.000000</td>\n",
       "      <td>45211.000000</td>\n",
       "      <td>45211.000000</td>\n",
       "      <td>45211.000000</td>\n",
       "      <td>45211.000000</td>\n",
       "      <td>45211.000000</td>\n",
       "      <td>45211.000000</td>\n",
       "      <td>45211.000000</td>\n",
       "      <td>45211.000000</td>\n",
       "      <td>45211.000000</td>\n",
       "      <td>31647.000000</td>\n",
       "    </tr>\n",
       "    <tr>\n",
       "      <th>mean</th>\n",
       "      <td>22606.000000</td>\n",
       "      <td>40.936210</td>\n",
       "      <td>4.339762</td>\n",
       "      <td>1.167725</td>\n",
       "      <td>1.224813</td>\n",
       "      <td>0.018027</td>\n",
       "      <td>1362.272058</td>\n",
       "      <td>0.555838</td>\n",
       "      <td>0.160226</td>\n",
       "      <td>0.640242</td>\n",
       "      <td>15.806419</td>\n",
       "      <td>5.523014</td>\n",
       "      <td>258.163080</td>\n",
       "      <td>2.763841</td>\n",
       "      <td>40.197828</td>\n",
       "      <td>0.580323</td>\n",
       "      <td>2.559974</td>\n",
       "      <td>0.117389</td>\n",
       "    </tr>\n",
       "    <tr>\n",
       "      <th>std</th>\n",
       "      <td>13051.435847</td>\n",
       "      <td>10.618762</td>\n",
       "      <td>3.272657</td>\n",
       "      <td>0.608230</td>\n",
       "      <td>0.747997</td>\n",
       "      <td>0.133049</td>\n",
       "      <td>3044.765829</td>\n",
       "      <td>0.496878</td>\n",
       "      <td>0.366820</td>\n",
       "      <td>0.897951</td>\n",
       "      <td>8.322476</td>\n",
       "      <td>3.006911</td>\n",
       "      <td>257.527812</td>\n",
       "      <td>3.098021</td>\n",
       "      <td>100.128746</td>\n",
       "      <td>2.303441</td>\n",
       "      <td>0.989059</td>\n",
       "      <td>0.321888</td>\n",
       "    </tr>\n",
       "    <tr>\n",
       "      <th>min</th>\n",
       "      <td>1.000000</td>\n",
       "      <td>18.000000</td>\n",
       "      <td>0.000000</td>\n",
       "      <td>0.000000</td>\n",
       "      <td>0.000000</td>\n",
       "      <td>0.000000</td>\n",
       "      <td>-8019.000000</td>\n",
       "      <td>0.000000</td>\n",
       "      <td>0.000000</td>\n",
       "      <td>0.000000</td>\n",
       "      <td>1.000000</td>\n",
       "      <td>0.000000</td>\n",
       "      <td>0.000000</td>\n",
       "      <td>1.000000</td>\n",
       "      <td>-1.000000</td>\n",
       "      <td>0.000000</td>\n",
       "      <td>0.000000</td>\n",
       "      <td>0.000000</td>\n",
       "    </tr>\n",
       "    <tr>\n",
       "      <th>25%</th>\n",
       "      <td>11303.500000</td>\n",
       "      <td>33.000000</td>\n",
       "      <td>1.000000</td>\n",
       "      <td>1.000000</td>\n",
       "      <td>1.000000</td>\n",
       "      <td>0.000000</td>\n",
       "      <td>72.000000</td>\n",
       "      <td>0.000000</td>\n",
       "      <td>0.000000</td>\n",
       "      <td>0.000000</td>\n",
       "      <td>8.000000</td>\n",
       "      <td>3.000000</td>\n",
       "      <td>103.000000</td>\n",
       "      <td>1.000000</td>\n",
       "      <td>-1.000000</td>\n",
       "      <td>0.000000</td>\n",
       "      <td>3.000000</td>\n",
       "      <td>0.000000</td>\n",
       "    </tr>\n",
       "    <tr>\n",
       "      <th>50%</th>\n",
       "      <td>22606.000000</td>\n",
       "      <td>39.000000</td>\n",
       "      <td>4.000000</td>\n",
       "      <td>1.000000</td>\n",
       "      <td>1.000000</td>\n",
       "      <td>0.000000</td>\n",
       "      <td>448.000000</td>\n",
       "      <td>1.000000</td>\n",
       "      <td>0.000000</td>\n",
       "      <td>0.000000</td>\n",
       "      <td>16.000000</td>\n",
       "      <td>6.000000</td>\n",
       "      <td>180.000000</td>\n",
       "      <td>2.000000</td>\n",
       "      <td>-1.000000</td>\n",
       "      <td>0.000000</td>\n",
       "      <td>3.000000</td>\n",
       "      <td>0.000000</td>\n",
       "    </tr>\n",
       "    <tr>\n",
       "      <th>75%</th>\n",
       "      <td>33908.500000</td>\n",
       "      <td>48.000000</td>\n",
       "      <td>7.000000</td>\n",
       "      <td>2.000000</td>\n",
       "      <td>2.000000</td>\n",
       "      <td>0.000000</td>\n",
       "      <td>1428.000000</td>\n",
       "      <td>1.000000</td>\n",
       "      <td>0.000000</td>\n",
       "      <td>2.000000</td>\n",
       "      <td>21.000000</td>\n",
       "      <td>8.000000</td>\n",
       "      <td>319.000000</td>\n",
       "      <td>3.000000</td>\n",
       "      <td>-1.000000</td>\n",
       "      <td>0.000000</td>\n",
       "      <td>3.000000</td>\n",
       "      <td>0.000000</td>\n",
       "    </tr>\n",
       "    <tr>\n",
       "      <th>max</th>\n",
       "      <td>45211.000000</td>\n",
       "      <td>95.000000</td>\n",
       "      <td>11.000000</td>\n",
       "      <td>2.000000</td>\n",
       "      <td>3.000000</td>\n",
       "      <td>1.000000</td>\n",
       "      <td>102127.000000</td>\n",
       "      <td>1.000000</td>\n",
       "      <td>1.000000</td>\n",
       "      <td>2.000000</td>\n",
       "      <td>31.000000</td>\n",
       "      <td>11.000000</td>\n",
       "      <td>4918.000000</td>\n",
       "      <td>63.000000</td>\n",
       "      <td>871.000000</td>\n",
       "      <td>275.000000</td>\n",
       "      <td>3.000000</td>\n",
       "      <td>1.000000</td>\n",
       "    </tr>\n",
       "  </tbody>\n",
       "</table>\n",
       "</div>"
      ],
      "text/plain": [
       "                 ID           age           job       marital     education  \\\n",
       "count  45211.000000  45211.000000  45211.000000  45211.000000  45211.000000   \n",
       "mean   22606.000000     40.936210      4.339762      1.167725      1.224813   \n",
       "std    13051.435847     10.618762      3.272657      0.608230      0.747997   \n",
       "min        1.000000     18.000000      0.000000      0.000000      0.000000   \n",
       "25%    11303.500000     33.000000      1.000000      1.000000      1.000000   \n",
       "50%    22606.000000     39.000000      4.000000      1.000000      1.000000   \n",
       "75%    33908.500000     48.000000      7.000000      2.000000      2.000000   \n",
       "max    45211.000000     95.000000     11.000000      2.000000      3.000000   \n",
       "\n",
       "            default        balance       housing          loan       contact  \\\n",
       "count  45211.000000   45211.000000  45211.000000  45211.000000  45211.000000   \n",
       "mean       0.018027    1362.272058      0.555838      0.160226      0.640242   \n",
       "std        0.133049    3044.765829      0.496878      0.366820      0.897951   \n",
       "min        0.000000   -8019.000000      0.000000      0.000000      0.000000   \n",
       "25%        0.000000      72.000000      0.000000      0.000000      0.000000   \n",
       "50%        0.000000     448.000000      1.000000      0.000000      0.000000   \n",
       "75%        0.000000    1428.000000      1.000000      0.000000      2.000000   \n",
       "max        1.000000  102127.000000      1.000000      1.000000      2.000000   \n",
       "\n",
       "                day         month      duration      campaign         pdays  \\\n",
       "count  45211.000000  45211.000000  45211.000000  45211.000000  45211.000000   \n",
       "mean      15.806419      5.523014    258.163080      2.763841     40.197828   \n",
       "std        8.322476      3.006911    257.527812      3.098021    100.128746   \n",
       "min        1.000000      0.000000      0.000000      1.000000     -1.000000   \n",
       "25%        8.000000      3.000000    103.000000      1.000000     -1.000000   \n",
       "50%       16.000000      6.000000    180.000000      2.000000     -1.000000   \n",
       "75%       21.000000      8.000000    319.000000      3.000000     -1.000000   \n",
       "max       31.000000     11.000000   4918.000000     63.000000    871.000000   \n",
       "\n",
       "           previous      poutcome    subscribed  \n",
       "count  45211.000000  45211.000000  31647.000000  \n",
       "mean       0.580323      2.559974      0.117389  \n",
       "std        2.303441      0.989059      0.321888  \n",
       "min        0.000000      0.000000      0.000000  \n",
       "25%        0.000000      3.000000      0.000000  \n",
       "50%        0.000000      3.000000      0.000000  \n",
       "75%        0.000000      3.000000      0.000000  \n",
       "max      275.000000      3.000000      1.000000  "
      ]
     },
     "execution_count": 22,
     "metadata": {},
     "output_type": "execute_result"
    }
   ],
   "source": [
    "df.describe()"
   ]
  },
  {
   "cell_type": "markdown",
   "id": "a04bc730",
   "metadata": {},
   "source": [
    "Filling out the null values and showing the mathematical description for the columns."
   ]
  },
  {
   "cell_type": "code",
   "execution_count": 23,
   "id": "45bdbc59",
   "metadata": {},
   "outputs": [],
   "source": [
    "df[\"subscribed\"].fillna(df[\"subscribed\"].median(), inplace=True)"
   ]
  },
  {
   "cell_type": "code",
   "execution_count": 24,
   "id": "29d6a15b",
   "metadata": {},
   "outputs": [
    {
     "data": {
      "text/plain": [
       "<seaborn.axisgrid.FacetGrid at 0x1aa2a1c22d0>"
      ]
     },
     "execution_count": 24,
     "metadata": {},
     "output_type": "execute_result"
    },
    {
     "data": {
      "image/png": "[encoded data removed]",
      "text/plain": [
       "<Figure size 500x500 with 1 Axes>"
      ]
     },
     "metadata": {},
     "output_type": "display_data"
    }
   ],
   "source": [
    "sns.catplot (x = \"job\", data=df, kind=\"count\")"
   ]
  },
  {
   "cell_type": "code",
   "execution_count": 25,
   "id": "73a98fda",
   "metadata": {},
   "outputs": [
    {
     "data": {
      "text/plain": [
       "<seaborn.axisgrid.FacetGrid at 0x1aa2bab6390>"
      ]
     },
     "execution_count": 25,
     "metadata": {},
     "output_type": "execute_result"
    },
    {
     "data": {
      "image/png": "[encoded data removed]",
      "text/plain": [
       "<Figure size 500x500 with 1 Axes>"
      ]
     },
     "metadata": {},
     "output_type": "display_data"
    }
   ],
   "source": [
    "sns.catplot (x=\"marital\" , data=df, kind=\"count\")"
   ]
  },
  {
   "cell_type": "code",
   "execution_count": 26,
   "id": "07e04bba",
   "metadata": {},
   "outputs": [
    {
     "data": {
      "text/plain": [
       "ID               Axes(0.125,0.653529;0.110714x0.226471)\n",
       "age           Axes(0.257857,0.653529;0.110714x0.226471)\n",
       "job           Axes(0.390714,0.653529;0.110714x0.226471)\n",
       "marital       Axes(0.523571,0.653529;0.110714x0.226471)\n",
       "education     Axes(0.656429,0.653529;0.110714x0.226471)\n",
       "default       Axes(0.789286,0.653529;0.110714x0.226471)\n",
       "balance          Axes(0.125,0.381765;0.110714x0.226471)\n",
       "housing       Axes(0.257857,0.381765;0.110714x0.226471)\n",
       "loan          Axes(0.390714,0.381765;0.110714x0.226471)\n",
       "contact       Axes(0.523571,0.381765;0.110714x0.226471)\n",
       "day           Axes(0.656429,0.381765;0.110714x0.226471)\n",
       "month         Axes(0.789286,0.381765;0.110714x0.226471)\n",
       "duration             Axes(0.125,0.11;0.110714x0.226471)\n",
       "campaign          Axes(0.257857,0.11;0.110714x0.226471)\n",
       "pdays             Axes(0.390714,0.11;0.110714x0.226471)\n",
       "previous          Axes(0.523571,0.11;0.110714x0.226471)\n",
       "poutcome          Axes(0.656429,0.11;0.110714x0.226471)\n",
       "subscribed        Axes(0.789286,0.11;0.110714x0.226471)\n",
       "dtype: object"
      ]
     },
     "execution_count": 26,
     "metadata": {},
     "output_type": "execute_result"
    },
    {
     "data": {
      "image/png": "[encoded data removed]",
      "text/plain": [
       "<Figure size 640x480 with 18 Axes>"
      ]
     },
     "metadata": {},
     "output_type": "display_data"
    }
   ],
   "source": [
    "df.plot (kind=\"box\", subplots=True, layout=(3,6))"
   ]
  },
  {
   "cell_type": "markdown",
   "id": "2e8b90fa",
   "metadata": {},
   "source": [
    "Finding out the outliers from the dataset."
   ]
  },
  {
   "cell_type": "code",
   "execution_count": 27,
   "id": "7c3e8427",
   "metadata": {},
   "outputs": [
    {
     "data": {
      "text/plain": [
       "<Axes: >"
      ]
     },
     "execution_count": 27,
     "metadata": {},
     "output_type": "execute_result"
    },
    {
     "data": {
      "image/png": "[encoded data removed]",
      "text/plain": [
       "<Figure size 640x480 with 1 Axes>"
      ]
     },
     "metadata": {},
     "output_type": "display_data"
    }
   ],
   "source": [
    "df[\"pdays\"].plot.box()"
   ]
  },
  {
   "cell_type": "code",
   "execution_count": 28,
   "id": "6d19f0cc",
   "metadata": {},
   "outputs": [
    {
     "data": {
      "text/plain": [
       "<Axes: >"
      ]
     },
     "execution_count": 28,
     "metadata": {},
     "output_type": "execute_result"
    },
    {
     "data": {
      "image/png": "[encoded data removed]",
      "text/plain": [
       "<Figure size 640x480 with 1 Axes>"
      ]
     },
     "metadata": {},
     "output_type": "display_data"
    }
   ],
   "source": [
    "df[\"balance\"].plot.box()"
   ]
  },
  {
   "cell_type": "code",
   "execution_count": 29,
   "id": "e31a308e",
   "metadata": {},
   "outputs": [
    {
     "data": {
      "text/plain": [
       "<seaborn.axisgrid.FacetGrid at 0x1aa2aafa7d0>"
      ]
     },
     "execution_count": 29,
     "metadata": {},
     "output_type": "execute_result"
    },
    {
     "data": {
      "image/png": "[encoded data removed]",
      "text/plain": [
       "<Figure size 500x500 with 1 Axes>"
      ]
     },
     "metadata": {},
     "output_type": "display_data"
    }
   ],
   "source": [
    "sns.catplot (x =\"job\", y=\"subscribed\", data=df, kind=\"bar\")"
   ]
  },
  {
   "cell_type": "code",
   "execution_count": 30,
   "id": "0bb05f76",
   "metadata": {},
   "outputs": [
    {
     "data": {
      "text/plain": [
       "<seaborn.axisgrid.FacetGrid at 0x1aa2aa54390>"
      ]
     },
     "execution_count": 30,
     "metadata": {},
     "output_type": "execute_result"
    },
    {
     "data": {
      "image/png": "[encoded data removed]",
      "text/plain": [
       "<Figure size 500x500 with 1 Axes>"
      ]
     },
     "metadata": {},
     "output_type": "display_data"
    }
   ],
   "source": [
    "sns.catplot(x=\"age\", data=df, kind=\"count\", )"
   ]
  },
  {
   "cell_type": "code",
   "execution_count": 31,
   "id": "3852d404",
   "metadata": {},
   "outputs": [
    {
     "data": {
      "text/html": [
       "<div>\n",
       "<style scoped>\n",
       "    .dataframe tbody tr th:only-of-type {\n",
       "        vertical-align: middle;\n",
       "    }\n",
       "\n",
       "    .dataframe tbody tr th {\n",
       "        vertical-align: top;\n",
       "    }\n",
       "\n",
       "    .dataframe thead th {\n",
       "        text-align: right;\n",
       "    }\n",
       "</style>\n",
       "<table border=\"1\" class=\"dataframe\">\n",
       "  <thead>\n",
       "    <tr style=\"text-align: right;\">\n",
       "      <th></th>\n",
       "      <th>ID</th>\n",
       "      <th>age</th>\n",
       "      <th>job</th>\n",
       "      <th>marital</th>\n",
       "      <th>education</th>\n",
       "      <th>default</th>\n",
       "      <th>balance</th>\n",
       "      <th>housing</th>\n",
       "      <th>loan</th>\n",
       "      <th>contact</th>\n",
       "      <th>day</th>\n",
       "      <th>month</th>\n",
       "      <th>duration</th>\n",
       "      <th>campaign</th>\n",
       "      <th>pdays</th>\n",
       "      <th>previous</th>\n",
       "      <th>poutcome</th>\n",
       "      <th>subscribed</th>\n",
       "    </tr>\n",
       "  </thead>\n",
       "  <tbody>\n",
       "    <tr>\n",
       "      <th>0</th>\n",
       "      <td>26110</td>\n",
       "      <td>56</td>\n",
       "      <td>0.0</td>\n",
       "      <td>1.0</td>\n",
       "      <td>3.0</td>\n",
       "      <td>0.0</td>\n",
       "      <td>1933</td>\n",
       "      <td>0.0</td>\n",
       "      <td>0.0</td>\n",
       "      <td>1.0</td>\n",
       "      <td>19</td>\n",
       "      <td>9.0</td>\n",
       "      <td>44</td>\n",
       "      <td>2</td>\n",
       "      <td>-1</td>\n",
       "      <td>0</td>\n",
       "      <td>3.0</td>\n",
       "      <td>0.0</td>\n",
       "    </tr>\n",
       "    <tr>\n",
       "      <th>1</th>\n",
       "      <td>40576</td>\n",
       "      <td>31</td>\n",
       "      <td>11.0</td>\n",
       "      <td>1.0</td>\n",
       "      <td>1.0</td>\n",
       "      <td>0.0</td>\n",
       "      <td>3</td>\n",
       "      <td>0.0</td>\n",
       "      <td>0.0</td>\n",
       "      <td>0.0</td>\n",
       "      <td>20</td>\n",
       "      <td>5.0</td>\n",
       "      <td>91</td>\n",
       "      <td>2</td>\n",
       "      <td>-1</td>\n",
       "      <td>0</td>\n",
       "      <td>3.0</td>\n",
       "      <td>0.0</td>\n",
       "    </tr>\n",
       "    <tr>\n",
       "      <th>2</th>\n",
       "      <td>15320</td>\n",
       "      <td>27</td>\n",
       "      <td>7.0</td>\n",
       "      <td>1.0</td>\n",
       "      <td>1.0</td>\n",
       "      <td>0.0</td>\n",
       "      <td>891</td>\n",
       "      <td>1.0</td>\n",
       "      <td>0.0</td>\n",
       "      <td>0.0</td>\n",
       "      <td>18</td>\n",
       "      <td>5.0</td>\n",
       "      <td>240</td>\n",
       "      <td>1</td>\n",
       "      <td>-1</td>\n",
       "      <td>0</td>\n",
       "      <td>3.0</td>\n",
       "      <td>0.0</td>\n",
       "    </tr>\n",
       "    <tr>\n",
       "      <th>3</th>\n",
       "      <td>43962</td>\n",
       "      <td>57</td>\n",
       "      <td>4.0</td>\n",
       "      <td>0.0</td>\n",
       "      <td>2.0</td>\n",
       "      <td>0.0</td>\n",
       "      <td>3287</td>\n",
       "      <td>0.0</td>\n",
       "      <td>0.0</td>\n",
       "      <td>0.0</td>\n",
       "      <td>22</td>\n",
       "      <td>6.0</td>\n",
       "      <td>867</td>\n",
       "      <td>1</td>\n",
       "      <td>84</td>\n",
       "      <td>3</td>\n",
       "      <td>2.0</td>\n",
       "      <td>1.0</td>\n",
       "    </tr>\n",
       "    <tr>\n",
       "      <th>4</th>\n",
       "      <td>29842</td>\n",
       "      <td>31</td>\n",
       "      <td>9.0</td>\n",
       "      <td>1.0</td>\n",
       "      <td>1.0</td>\n",
       "      <td>0.0</td>\n",
       "      <td>119</td>\n",
       "      <td>1.0</td>\n",
       "      <td>0.0</td>\n",
       "      <td>0.0</td>\n",
       "      <td>4</td>\n",
       "      <td>3.0</td>\n",
       "      <td>380</td>\n",
       "      <td>1</td>\n",
       "      <td>-1</td>\n",
       "      <td>0</td>\n",
       "      <td>3.0</td>\n",
       "      <td>0.0</td>\n",
       "    </tr>\n",
       "  </tbody>\n",
       "</table>\n",
       "</div>"
      ],
      "text/plain": [
       "      ID  age   job  marital  education  default  balance  housing  loan  \\\n",
       "0  26110   56   0.0      1.0        3.0      0.0     1933      0.0   0.0   \n",
       "1  40576   31  11.0      1.0        1.0      0.0        3      0.0   0.0   \n",
       "2  15320   27   7.0      1.0        1.0      0.0      891      1.0   0.0   \n",
       "3  43962   57   4.0      0.0        2.0      0.0     3287      0.0   0.0   \n",
       "4  29842   31   9.0      1.0        1.0      0.0      119      1.0   0.0   \n",
       "\n",
       "   contact  day  month  duration  campaign  pdays  previous  poutcome  \\\n",
       "0      1.0   19    9.0        44         2     -1         0       3.0   \n",
       "1      0.0   20    5.0        91         2     -1         0       3.0   \n",
       "2      0.0   18    5.0       240         1     -1         0       3.0   \n",
       "3      0.0   22    6.0       867         1     84         3       2.0   \n",
       "4      0.0    4    3.0       380         1     -1         0       3.0   \n",
       "\n",
       "   subscribed  \n",
       "0         0.0  \n",
       "1         0.0  \n",
       "2         0.0  \n",
       "3         1.0  \n",
       "4         0.0  "
      ]
     },
     "execution_count": 31,
     "metadata": {},
     "output_type": "execute_result"
    }
   ],
   "source": [
    "df.head()"
   ]
  },
  {
   "cell_type": "markdown",
   "id": "bed6356e",
   "metadata": {},
   "source": [
    "Spillting out the Data into X and Y."
   ]
  },
  {
   "cell_type": "code",
   "execution_count": 32,
   "id": "3f1790b7",
   "metadata": {},
   "outputs": [
    {
     "data": {
      "text/html": [
       "<div>\n",
       "<style scoped>\n",
       "    .dataframe tbody tr th:only-of-type {\n",
       "        vertical-align: middle;\n",
       "    }\n",
       "\n",
       "    .dataframe tbody tr th {\n",
       "        vertical-align: top;\n",
       "    }\n",
       "\n",
       "    .dataframe thead th {\n",
       "        text-align: right;\n",
       "    }\n",
       "</style>\n",
       "<table border=\"1\" class=\"dataframe\">\n",
       "  <thead>\n",
       "    <tr style=\"text-align: right;\">\n",
       "      <th></th>\n",
       "      <th>job</th>\n",
       "      <th>marital</th>\n",
       "      <th>education</th>\n",
       "      <th>default</th>\n",
       "      <th>balance</th>\n",
       "      <th>housing</th>\n",
       "      <th>loan</th>\n",
       "      <th>contact</th>\n",
       "      <th>day</th>\n",
       "      <th>month</th>\n",
       "      <th>duration</th>\n",
       "      <th>campaign</th>\n",
       "      <th>pdays</th>\n",
       "      <th>previous</th>\n",
       "      <th>poutcome</th>\n",
       "    </tr>\n",
       "  </thead>\n",
       "  <tbody>\n",
       "    <tr>\n",
       "      <th>0</th>\n",
       "      <td>0.0</td>\n",
       "      <td>1.0</td>\n",
       "      <td>3.0</td>\n",
       "      <td>0.0</td>\n",
       "      <td>1933</td>\n",
       "      <td>0.0</td>\n",
       "      <td>0.0</td>\n",
       "      <td>1.0</td>\n",
       "      <td>19</td>\n",
       "      <td>9.0</td>\n",
       "      <td>44</td>\n",
       "      <td>2</td>\n",
       "      <td>-1</td>\n",
       "      <td>0</td>\n",
       "      <td>3.0</td>\n",
       "    </tr>\n",
       "    <tr>\n",
       "      <th>1</th>\n",
       "      <td>11.0</td>\n",
       "      <td>1.0</td>\n",
       "      <td>1.0</td>\n",
       "      <td>0.0</td>\n",
       "      <td>3</td>\n",
       "      <td>0.0</td>\n",
       "      <td>0.0</td>\n",
       "      <td>0.0</td>\n",
       "      <td>20</td>\n",
       "      <td>5.0</td>\n",
       "      <td>91</td>\n",
       "      <td>2</td>\n",
       "      <td>-1</td>\n",
       "      <td>0</td>\n",
       "      <td>3.0</td>\n",
       "    </tr>\n",
       "    <tr>\n",
       "      <th>2</th>\n",
       "      <td>7.0</td>\n",
       "      <td>1.0</td>\n",
       "      <td>1.0</td>\n",
       "      <td>0.0</td>\n",
       "      <td>891</td>\n",
       "      <td>1.0</td>\n",
       "      <td>0.0</td>\n",
       "      <td>0.0</td>\n",
       "      <td>18</td>\n",
       "      <td>5.0</td>\n",
       "      <td>240</td>\n",
       "      <td>1</td>\n",
       "      <td>-1</td>\n",
       "      <td>0</td>\n",
       "      <td>3.0</td>\n",
       "    </tr>\n",
       "    <tr>\n",
       "      <th>3</th>\n",
       "      <td>4.0</td>\n",
       "      <td>0.0</td>\n",
       "      <td>2.0</td>\n",
       "      <td>0.0</td>\n",
       "      <td>3287</td>\n",
       "      <td>0.0</td>\n",
       "      <td>0.0</td>\n",
       "      <td>0.0</td>\n",
       "      <td>22</td>\n",
       "      <td>6.0</td>\n",
       "      <td>867</td>\n",
       "      <td>1</td>\n",
       "      <td>84</td>\n",
       "      <td>3</td>\n",
       "      <td>2.0</td>\n",
       "    </tr>\n",
       "    <tr>\n",
       "      <th>4</th>\n",
       "      <td>9.0</td>\n",
       "      <td>1.0</td>\n",
       "      <td>1.0</td>\n",
       "      <td>0.0</td>\n",
       "      <td>119</td>\n",
       "      <td>1.0</td>\n",
       "      <td>0.0</td>\n",
       "      <td>0.0</td>\n",
       "      <td>4</td>\n",
       "      <td>3.0</td>\n",
       "      <td>380</td>\n",
       "      <td>1</td>\n",
       "      <td>-1</td>\n",
       "      <td>0</td>\n",
       "      <td>3.0</td>\n",
       "    </tr>\n",
       "    <tr>\n",
       "      <th>...</th>\n",
       "      <td>...</td>\n",
       "      <td>...</td>\n",
       "      <td>...</td>\n",
       "      <td>...</td>\n",
       "      <td>...</td>\n",
       "      <td>...</td>\n",
       "      <td>...</td>\n",
       "      <td>...</td>\n",
       "      <td>...</td>\n",
       "      <td>...</td>\n",
       "      <td>...</td>\n",
       "      <td>...</td>\n",
       "      <td>...</td>\n",
       "      <td>...</td>\n",
       "      <td>...</td>\n",
       "    </tr>\n",
       "    <tr>\n",
       "      <th>13559</th>\n",
       "      <td>4.0</td>\n",
       "      <td>1.0</td>\n",
       "      <td>2.0</td>\n",
       "      <td>0.0</td>\n",
       "      <td>45</td>\n",
       "      <td>0.0</td>\n",
       "      <td>0.0</td>\n",
       "      <td>0.0</td>\n",
       "      <td>28</td>\n",
       "      <td>1.0</td>\n",
       "      <td>148</td>\n",
       "      <td>4</td>\n",
       "      <td>-1</td>\n",
       "      <td>0</td>\n",
       "      <td>3.0</td>\n",
       "    </tr>\n",
       "    <tr>\n",
       "      <th>13560</th>\n",
       "      <td>1.0</td>\n",
       "      <td>1.0</td>\n",
       "      <td>0.0</td>\n",
       "      <td>0.0</td>\n",
       "      <td>2281</td>\n",
       "      <td>1.0</td>\n",
       "      <td>0.0</td>\n",
       "      <td>2.0</td>\n",
       "      <td>20</td>\n",
       "      <td>6.0</td>\n",
       "      <td>158</td>\n",
       "      <td>1</td>\n",
       "      <td>-1</td>\n",
       "      <td>0</td>\n",
       "      <td>3.0</td>\n",
       "    </tr>\n",
       "    <tr>\n",
       "      <th>13561</th>\n",
       "      <td>5.0</td>\n",
       "      <td>1.0</td>\n",
       "      <td>0.0</td>\n",
       "      <td>0.0</td>\n",
       "      <td>285</td>\n",
       "      <td>1.0</td>\n",
       "      <td>0.0</td>\n",
       "      <td>0.0</td>\n",
       "      <td>29</td>\n",
       "      <td>4.0</td>\n",
       "      <td>136</td>\n",
       "      <td>1</td>\n",
       "      <td>-1</td>\n",
       "      <td>0</td>\n",
       "      <td>3.0</td>\n",
       "    </tr>\n",
       "    <tr>\n",
       "      <th>13562</th>\n",
       "      <td>0.0</td>\n",
       "      <td>2.0</td>\n",
       "      <td>1.0</td>\n",
       "      <td>0.0</td>\n",
       "      <td>464</td>\n",
       "      <td>0.0</td>\n",
       "      <td>0.0</td>\n",
       "      <td>0.0</td>\n",
       "      <td>9</td>\n",
       "      <td>9.0</td>\n",
       "      <td>208</td>\n",
       "      <td>2</td>\n",
       "      <td>91</td>\n",
       "      <td>3</td>\n",
       "      <td>2.0</td>\n",
       "    </tr>\n",
       "    <tr>\n",
       "      <th>13563</th>\n",
       "      <td>0.0</td>\n",
       "      <td>1.0</td>\n",
       "      <td>1.0</td>\n",
       "      <td>0.0</td>\n",
       "      <td>2</td>\n",
       "      <td>1.0</td>\n",
       "      <td>0.0</td>\n",
       "      <td>0.0</td>\n",
       "      <td>6</td>\n",
       "      <td>8.0</td>\n",
       "      <td>339</td>\n",
       "      <td>1</td>\n",
       "      <td>362</td>\n",
       "      <td>1</td>\n",
       "      <td>0.0</td>\n",
       "    </tr>\n",
       "  </tbody>\n",
       "</table>\n",
       "<p>45211 rows × 15 columns</p>\n",
       "</div>"
      ],
      "text/plain": [
       "        job  marital  education  default  balance  housing  loan  contact  \\\n",
       "0       0.0      1.0        3.0      0.0     1933      0.0   0.0      1.0   \n",
       "1      11.0      1.0        1.0      0.0        3      0.0   0.0      0.0   \n",
       "2       7.0      1.0        1.0      0.0      891      1.0   0.0      0.0   \n",
       "3       4.0      0.0        2.0      0.0     3287      0.0   0.0      0.0   \n",
       "4       9.0      1.0        1.0      0.0      119      1.0   0.0      0.0   \n",
       "...     ...      ...        ...      ...      ...      ...   ...      ...   \n",
       "13559   4.0      1.0        2.0      0.0       45      0.0   0.0      0.0   \n",
       "13560   1.0      1.0        0.0      0.0     2281      1.0   0.0      2.0   \n",
       "13561   5.0      1.0        0.0      0.0      285      1.0   0.0      0.0   \n",
       "13562   0.0      2.0        1.0      0.0      464      0.0   0.0      0.0   \n",
       "13563   0.0      1.0        1.0      0.0        2      1.0   0.0      0.0   \n",
       "\n",
       "       day  month  duration  campaign  pdays  previous  poutcome  \n",
       "0       19    9.0        44         2     -1         0       3.0  \n",
       "1       20    5.0        91         2     -1         0       3.0  \n",
       "2       18    5.0       240         1     -1         0       3.0  \n",
       "3       22    6.0       867         1     84         3       2.0  \n",
       "4        4    3.0       380         1     -1         0       3.0  \n",
       "...    ...    ...       ...       ...    ...       ...       ...  \n",
       "13559   28    1.0       148         4     -1         0       3.0  \n",
       "13560   20    6.0       158         1     -1         0       3.0  \n",
       "13561   29    4.0       136         1     -1         0       3.0  \n",
       "13562    9    9.0       208         2     91         3       2.0  \n",
       "13563    6    8.0       339         1    362         1       0.0  \n",
       "\n",
       "[45211 rows x 15 columns]"
      ]
     },
     "execution_count": 32,
     "metadata": {},
     "output_type": "execute_result"
    }
   ],
   "source": [
    "x = df.drop([\"ID\",\"subscribed\",\"age\"], axis=1)\n",
    "x"
   ]
  },
  {
   "cell_type": "code",
   "execution_count": 33,
   "id": "752dab38",
   "metadata": {},
   "outputs": [
    {
     "data": {
      "text/plain": [
       "0        0.0\n",
       "1        0.0\n",
       "2        0.0\n",
       "3        1.0\n",
       "4        0.0\n",
       "        ... \n",
       "13559    0.0\n",
       "13560    0.0\n",
       "13561    0.0\n",
       "13562    0.0\n",
       "13563    0.0\n",
       "Name: subscribed, Length: 45211, dtype: float64"
      ]
     },
     "execution_count": 33,
     "metadata": {},
     "output_type": "execute_result"
    }
   ],
   "source": [
    "y = df[\"subscribed\"]\n",
    "y"
   ]
  },
  {
   "cell_type": "code",
   "execution_count": 34,
   "id": "6205bccb",
   "metadata": {},
   "outputs": [],
   "source": [
    "from sklearn.model_selection import train_test_split\n",
    "x_train ,  x_test , y_train , y_test = train_test_split(x , y , test_size=0.20, random_state=42)"
   ]
  },
  {
   "cell_type": "code",
   "execution_count": 35,
   "id": "550c56c4",
   "metadata": {},
   "outputs": [
    {
     "data": {
      "text/plain": [
       "((36168, 15), (9043, 15), (36168,), (9043,))"
      ]
     },
     "execution_count": 35,
     "metadata": {},
     "output_type": "execute_result"
    }
   ],
   "source": [
    "x_train.shape , x_test.shape , y_train.shape , y_test.shape"
   ]
  },
  {
   "cell_type": "code",
   "execution_count": 36,
   "id": "de9e6451",
   "metadata": {},
   "outputs": [
    {
     "data": {
      "text/html": [
       "<style>#sk-container-id-1 {color: black;}#sk-container-id-1 pre{padding: 0;}#sk-container-id-1 div.sk-toggleable {background-color: white;}#sk-container-id-1 label.sk-toggleable__label {cursor: pointer;display: block;width: 100%;margin-bottom: 0;padding: 0.3em;box-sizing: border-box;text-align: center;}#sk-container-id-1 label.sk-toggleable__label-arrow:before {content: \"▸\";float: left;margin-right: 0.25em;color: #696969;}#sk-container-id-1 label.sk-toggleable__label-arrow:hover:before {color: black;}#sk-container-id-1 div.sk-estimator:hover label.sk-toggleable__label-arrow:before {color: black;}#sk-container-id-1 div.sk-toggleable__content {max-height: 0;max-width: 0;overflow: hidden;text-align: left;background-color: #f0f8ff;}#sk-container-id-1 div.sk-toggleable__content pre {margin: 0.2em;color: black;border-radius: 0.25em;background-color: #f0f8ff;}#sk-container-id-1 input.sk-toggleable__control:checked~div.sk-toggleable__content {max-height: 200px;max-width: 100%;overflow: auto;}#sk-container-id-1 input.sk-toggleable__control:checked~label.sk-toggleable__label-arrow:before {content: \"▾\";}#sk-container-id-1 div.sk-estimator input.sk-toggleable__control:checked~label.sk-toggleable__label {background-color: #d4ebff;}#sk-container-id-1 div.sk-label input.sk-toggleable__control:checked~label.sk-toggleable__label {background-color: #d4ebff;}#sk-container-id-1 input.sk-hidden--visually {border: 0;clip: rect(1px 1px 1px 1px);clip: rect(1px, 1px, 1px, 1px);height: 1px;margin: -1px;overflow: hidden;padding: 0;position: absolute;width: 1px;}#sk-container-id-1 div.sk-estimator {font-family: monospace;background-color: #f0f8ff;border: 1px dotted black;border-radius: 0.25em;box-sizing: border-box;margin-bottom: 0.5em;}#sk-container-id-1 div.sk-estimator:hover {background-color: #d4ebff;}#sk-container-id-1 div.sk-parallel-item::after {content: \"\";width: 100%;border-bottom: 1px solid gray;flex-grow: 1;}#sk-container-id-1 div.sk-label:hover label.sk-toggleable__label {background-color: #d4ebff;}#sk-container-id-1 div.sk-serial::before {content: \"\";position: absolute;border-left: 1px solid gray;box-sizing: border-box;top: 0;bottom: 0;left: 50%;z-index: 0;}#sk-container-id-1 div.sk-serial {display: flex;flex-direction: column;align-items: center;background-color: white;padding-right: 0.2em;padding-left: 0.2em;position: relative;}#sk-container-id-1 div.sk-item {position: relative;z-index: 1;}#sk-container-id-1 div.sk-parallel {display: flex;align-items: stretch;justify-content: center;background-color: white;position: relative;}#sk-container-id-1 div.sk-item::before, #sk-container-id-1 div.sk-parallel-item::before {content: \"\";position: absolute;border-left: 1px solid gray;box-sizing: border-box;top: 0;bottom: 0;left: 50%;z-index: -1;}#sk-container-id-1 div.sk-parallel-item {display: flex;flex-direction: column;z-index: 1;position: relative;background-color: white;}#sk-container-id-1 div.sk-parallel-item:first-child::after {align-self: flex-end;width: 50%;}#sk-container-id-1 div.sk-parallel-item:last-child::after {align-self: flex-start;width: 50%;}#sk-container-id-1 div.sk-parallel-item:only-child::after {width: 0;}#sk-container-id-1 div.sk-dashed-wrapped {border: 1px dashed gray;margin: 0 0.4em 0.5em 0.4em;box-sizing: border-box;padding-bottom: 0.4em;background-color: white;}#sk-container-id-1 div.sk-label label {font-family: monospace;font-weight: bold;display: inline-block;line-height: 1.2em;}#sk-container-id-1 div.sk-label-container {text-align: center;}#sk-container-id-1 div.sk-container {/* jupyter's `normalize.less` sets `[hidden] { display: none; }` but bootstrap.min.css set `[hidden] { display: none !important; }` so we also need the `!important` here to be able to override the default hidden behavior on the sphinx rendered scikit-learn.org. See: https://github.com/scikit-learn/scikit-learn/issues/21755 */display: inline-block !important;position: relative;}#sk-container-id-1 div.sk-text-repr-fallback {display: none;}</style><div id=\"sk-container-id-1\" class=\"sk-top-container\"><div class=\"sk-text-repr-fallback\"><pre>RandomForestClassifier()</pre><b>In a Jupyter environment, please rerun this cell to show the HTML representation or trust the notebook. <br />On GitHub, the HTML representation is unable to render, please try loading this page with nbviewer.org.</b></div><div class=\"sk-container\" hidden><div class=\"sk-item\"><div class=\"sk-estimator sk-toggleable\"><input class=\"sk-toggleable__control sk-hidden--visually\" id=\"sk-estimator-id-1\" type=\"checkbox\" checked><label for=\"sk-estimator-id-1\" class=\"sk-toggleable__label sk-toggleable__label-arrow\">RandomForestClassifier</label><div class=\"sk-toggleable__content\"><pre>RandomForestClassifier()</pre></div></div></div></div></div>"
      ],
      "text/plain": [
       "RandomForestClassifier()"
      ]
     },
     "execution_count": 36,
     "metadata": {},
     "output_type": "execute_result"
    }
   ],
   "source": [
    "from sklearn.metrics import accuracy_score\n",
    "from sklearn.ensemble import RandomForestClassifier\n",
    "rfc = RandomForestClassifier()\n",
    "rfc.fit(x_train , y_train)"
   ]
  },
  {
   "cell_type": "code",
   "execution_count": 37,
   "id": "3865c336",
   "metadata": {},
   "outputs": [
    {
     "data": {
      "text/plain": [
       "array([0., 0., 0., ..., 0., 0., 0.])"
      ]
     },
     "execution_count": 37,
     "metadata": {},
     "output_type": "execute_result"
    }
   ],
   "source": [
    "pred_rfc =  rfc.predict(x_test)\n",
    "pred_rfc"
   ]
  },
  {
   "cell_type": "code",
   "execution_count": 38,
   "id": "146187c9",
   "metadata": {},
   "outputs": [
    {
     "data": {
      "text/plain": [
       "0.9185004976224704"
      ]
     },
     "execution_count": 38,
     "metadata": {},
     "output_type": "execute_result"
    }
   ],
   "source": [
    "sc_rfc = accuracy_score(y_test , pred_rfc)\n",
    "sc_rfc"
   ]
  },
  {
   "cell_type": "code",
   "execution_count": 39,
   "id": "143d2290",
   "metadata": {},
   "outputs": [
    {
     "data": {
      "text/html": [
       "<style>#sk-container-id-2 {color: black;}#sk-container-id-2 pre{padding: 0;}#sk-container-id-2 div.sk-toggleable {background-color: white;}#sk-container-id-2 label.sk-toggleable__label {cursor: pointer;display: block;width: 100%;margin-bottom: 0;padding: 0.3em;box-sizing: border-box;text-align: center;}#sk-container-id-2 label.sk-toggleable__label-arrow:before {content: \"▸\";float: left;margin-right: 0.25em;color: #696969;}#sk-container-id-2 label.sk-toggleable__label-arrow:hover:before {color: black;}#sk-container-id-2 div.sk-estimator:hover label.sk-toggleable__label-arrow:before {color: black;}#sk-container-id-2 div.sk-toggleable__content {max-height: 0;max-width: 0;overflow: hidden;text-align: left;background-color: #f0f8ff;}#sk-container-id-2 div.sk-toggleable__content pre {margin: 0.2em;color: black;border-radius: 0.25em;background-color: #f0f8ff;}#sk-container-id-2 input.sk-toggleable__control:checked~div.sk-toggleable__content {max-height: 200px;max-width: 100%;overflow: auto;}#sk-container-id-2 input.sk-toggleable__control:checked~label.sk-toggleable__label-arrow:before {content: \"▾\";}#sk-container-id-2 div.sk-estimator input.sk-toggleable__control:checked~label.sk-toggleable__label {background-color: #d4ebff;}#sk-container-id-2 div.sk-label input.sk-toggleable__control:checked~label.sk-toggleable__label {background-color: #d4ebff;}#sk-container-id-2 input.sk-hidden--visually {border: 0;clip: rect(1px 1px 1px 1px);clip: rect(1px, 1px, 1px, 1px);height: 1px;margin: -1px;overflow: hidden;padding: 0;position: absolute;width: 1px;}#sk-container-id-2 div.sk-estimator {font-family: monospace;background-color: #f0f8ff;border: 1px dotted black;border-radius: 0.25em;box-sizing: border-box;margin-bottom: 0.5em;}#sk-container-id-2 div.sk-estimator:hover {background-color: #d4ebff;}#sk-container-id-2 div.sk-parallel-item::after {content: \"\";width: 100%;border-bottom: 1px solid gray;flex-grow: 1;}#sk-container-id-2 div.sk-label:hover label.sk-toggleable__label {background-color: #d4ebff;}#sk-container-id-2 div.sk-serial::before {content: \"\";position: absolute;border-left: 1px solid gray;box-sizing: border-box;top: 0;bottom: 0;left: 50%;z-index: 0;}#sk-container-id-2 div.sk-serial {display: flex;flex-direction: column;align-items: center;background-color: white;padding-right: 0.2em;padding-left: 0.2em;position: relative;}#sk-container-id-2 div.sk-item {position: relative;z-index: 1;}#sk-container-id-2 div.sk-parallel {display: flex;align-items: stretch;justify-content: center;background-color: white;position: relative;}#sk-container-id-2 div.sk-item::before, #sk-container-id-2 div.sk-parallel-item::before {content: \"\";position: absolute;border-left: 1px solid gray;box-sizing: border-box;top: 0;bottom: 0;left: 50%;z-index: -1;}#sk-container-id-2 div.sk-parallel-item {display: flex;flex-direction: column;z-index: 1;position: relative;background-color: white;}#sk-container-id-2 div.sk-parallel-item:first-child::after {align-self: flex-end;width: 50%;}#sk-container-id-2 div.sk-parallel-item:last-child::after {align-self: flex-start;width: 50%;}#sk-container-id-2 div.sk-parallel-item:only-child::after {width: 0;}#sk-container-id-2 div.sk-dashed-wrapped {border: 1px dashed gray;margin: 0 0.4em 0.5em 0.4em;box-sizing: border-box;padding-bottom: 0.4em;background-color: white;}#sk-container-id-2 div.sk-label label {font-family: monospace;font-weight: bold;display: inline-block;line-height: 1.2em;}#sk-container-id-2 div.sk-label-container {text-align: center;}#sk-container-id-2 div.sk-container {/* jupyter's `normalize.less` sets `[hidden] { display: none; }` but bootstrap.min.css set `[hidden] { display: none !important; }` so we also need the `!important` here to be able to override the default hidden behavior on the sphinx rendered scikit-learn.org. See: https://github.com/scikit-learn/scikit-learn/issues/21755 */display: inline-block !important;position: relative;}#sk-container-id-2 div.sk-text-repr-fallback {display: none;}</style><div id=\"sk-container-id-2\" class=\"sk-top-container\"><div class=\"sk-text-repr-fallback\"><pre>LogisticRegression()</pre><b>In a Jupyter environment, please rerun this cell to show the HTML representation or trust the notebook. <br />On GitHub, the HTML representation is unable to render, please try loading this page with nbviewer.org.</b></div><div class=\"sk-container\" hidden><div class=\"sk-item\"><div class=\"sk-estimator sk-toggleable\"><input class=\"sk-toggleable__control sk-hidden--visually\" id=\"sk-estimator-id-2\" type=\"checkbox\" checked><label for=\"sk-estimator-id-2\" class=\"sk-toggleable__label sk-toggleable__label-arrow\">LogisticRegression</label><div class=\"sk-toggleable__content\"><pre>LogisticRegression()</pre></div></div></div></div></div>"
      ],
      "text/plain": [
       "LogisticRegression()"
      ]
     },
     "execution_count": 39,
     "metadata": {},
     "output_type": "execute_result"
    }
   ],
   "source": [
    "from sklearn.linear_model import LogisticRegression\n",
    "lr = LogisticRegression()\n",
    "lr.fit(x_train , y_train)"
   ]
  },
  {
   "cell_type": "code",
   "execution_count": 40,
   "id": "7f1bb22d",
   "metadata": {},
   "outputs": [
    {
     "data": {
      "text/plain": [
       "array([0., 0., 0., ..., 0., 0., 0.])"
      ]
     },
     "execution_count": 40,
     "metadata": {},
     "output_type": "execute_result"
    }
   ],
   "source": [
    "pred_lr = lr.predict(x_test)\n",
    "pred_lr"
   ]
  },
  {
   "cell_type": "code",
   "execution_count": 41,
   "id": "1138faec",
   "metadata": {},
   "outputs": [
    {
     "data": {
      "text/plain": [
       "0.917394669910428"
      ]
     },
     "execution_count": 41,
     "metadata": {},
     "output_type": "execute_result"
    }
   ],
   "source": [
    "sc_lr = accuracy_score(y_test , pred_lr)\n",
    "sc_lr"
   ]
  },
  {
   "cell_type": "code",
   "execution_count": 42,
   "id": "30509d86",
   "metadata": {},
   "outputs": [
    {
     "data": {
      "text/html": [
       "<style>#sk-container-id-3 {color: black;}#sk-container-id-3 pre{padding: 0;}#sk-container-id-3 div.sk-toggleable {background-color: white;}#sk-container-id-3 label.sk-toggleable__label {cursor: pointer;display: block;width: 100%;margin-bottom: 0;padding: 0.3em;box-sizing: border-box;text-align: center;}#sk-container-id-3 label.sk-toggleable__label-arrow:before {content: \"▸\";float: left;margin-right: 0.25em;color: #696969;}#sk-container-id-3 label.sk-toggleable__label-arrow:hover:before {color: black;}#sk-container-id-3 div.sk-estimator:hover label.sk-toggleable__label-arrow:before {color: black;}#sk-container-id-3 div.sk-toggleable__content {max-height: 0;max-width: 0;overflow: hidden;text-align: left;background-color: #f0f8ff;}#sk-container-id-3 div.sk-toggleable__content pre {margin: 0.2em;color: black;border-radius: 0.25em;background-color: #f0f8ff;}#sk-container-id-3 input.sk-toggleable__control:checked~div.sk-toggleable__content {max-height: 200px;max-width: 100%;overflow: auto;}#sk-container-id-3 input.sk-toggleable__control:checked~label.sk-toggleable__label-arrow:before {content: \"▾\";}#sk-container-id-3 div.sk-estimator input.sk-toggleable__control:checked~label.sk-toggleable__label {background-color: #d4ebff;}#sk-container-id-3 div.sk-label input.sk-toggleable__control:checked~label.sk-toggleable__label {background-color: #d4ebff;}#sk-container-id-3 input.sk-hidden--visually {border: 0;clip: rect(1px 1px 1px 1px);clip: rect(1px, 1px, 1px, 1px);height: 1px;margin: -1px;overflow: hidden;padding: 0;position: absolute;width: 1px;}#sk-container-id-3 div.sk-estimator {font-family: monospace;background-color: #f0f8ff;border: 1px dotted black;border-radius: 0.25em;box-sizing: border-box;margin-bottom: 0.5em;}#sk-container-id-3 div.sk-estimator:hover {background-color: #d4ebff;}#sk-container-id-3 div.sk-parallel-item::after {content: \"\";width: 100%;border-bottom: 1px solid gray;flex-grow: 1;}#sk-container-id-3 div.sk-label:hover label.sk-toggleable__label {background-color: #d4ebff;}#sk-container-id-3 div.sk-serial::before {content: \"\";position: absolute;border-left: 1px solid gray;box-sizing: border-box;top: 0;bottom: 0;left: 50%;z-index: 0;}#sk-container-id-3 div.sk-serial {display: flex;flex-direction: column;align-items: center;background-color: white;padding-right: 0.2em;padding-left: 0.2em;position: relative;}#sk-container-id-3 div.sk-item {position: relative;z-index: 1;}#sk-container-id-3 div.sk-parallel {display: flex;align-items: stretch;justify-content: center;background-color: white;position: relative;}#sk-container-id-3 div.sk-item::before, #sk-container-id-3 div.sk-parallel-item::before {content: \"\";position: absolute;border-left: 1px solid gray;box-sizing: border-box;top: 0;bottom: 0;left: 50%;z-index: -1;}#sk-container-id-3 div.sk-parallel-item {display: flex;flex-direction: column;z-index: 1;position: relative;background-color: white;}#sk-container-id-3 div.sk-parallel-item:first-child::after {align-self: flex-end;width: 50%;}#sk-container-id-3 div.sk-parallel-item:last-child::after {align-self: flex-start;width: 50%;}#sk-container-id-3 div.sk-parallel-item:only-child::after {width: 0;}#sk-container-id-3 div.sk-dashed-wrapped {border: 1px dashed gray;margin: 0 0.4em 0.5em 0.4em;box-sizing: border-box;padding-bottom: 0.4em;background-color: white;}#sk-container-id-3 div.sk-label label {font-family: monospace;font-weight: bold;display: inline-block;line-height: 1.2em;}#sk-container-id-3 div.sk-label-container {text-align: center;}#sk-container-id-3 div.sk-container {/* jupyter's `normalize.less` sets `[hidden] { display: none; }` but bootstrap.min.css set `[hidden] { display: none !important; }` so we also need the `!important` here to be able to override the default hidden behavior on the sphinx rendered scikit-learn.org. See: https://github.com/scikit-learn/scikit-learn/issues/21755 */display: inline-block !important;position: relative;}#sk-container-id-3 div.sk-text-repr-fallback {display: none;}</style><div id=\"sk-container-id-3\" class=\"sk-top-container\"><div class=\"sk-text-repr-fallback\"><pre>SVC()</pre><b>In a Jupyter environment, please rerun this cell to show the HTML representation or trust the notebook. <br />On GitHub, the HTML representation is unable to render, please try loading this page with nbviewer.org.</b></div><div class=\"sk-container\" hidden><div class=\"sk-item\"><div class=\"sk-estimator sk-toggleable\"><input class=\"sk-toggleable__control sk-hidden--visually\" id=\"sk-estimator-id-3\" type=\"checkbox\" checked><label for=\"sk-estimator-id-3\" class=\"sk-toggleable__label sk-toggleable__label-arrow\">SVC</label><div class=\"sk-toggleable__content\"><pre>SVC()</pre></div></div></div></div></div>"
      ],
      "text/plain": [
       "SVC()"
      ]
     },
     "execution_count": 42,
     "metadata": {},
     "output_type": "execute_result"
    }
   ],
   "source": [
    "from sklearn.svm import SVC\n",
    "svc = SVC()\n",
    "svc.fit(x_train , y_train)"
   ]
  },
  {
   "cell_type": "code",
   "execution_count": 43,
   "id": "a9d9c8ed",
   "metadata": {},
   "outputs": [
    {
     "data": {
      "text/plain": [
       "array([0., 0., 0., ..., 0., 0., 0.])"
      ]
     },
     "execution_count": 43,
     "metadata": {},
     "output_type": "execute_result"
    }
   ],
   "source": [
    "pred_svc = svc.predict(x_test)\n",
    "pred_svc"
   ]
  },
  {
   "cell_type": "code",
   "execution_count": 44,
   "id": "92b8bcea",
   "metadata": {},
   "outputs": [
    {
     "data": {
      "text/plain": [
       "0.9185004976224704"
      ]
     },
     "execution_count": 44,
     "metadata": {},
     "output_type": "execute_result"
    }
   ],
   "source": [
    "sc_svc = accuracy_score(y_test , pred_svc)\n",
    "sc_svc"
   ]
  },
  {
   "cell_type": "code",
   "execution_count": 45,
   "id": "b8c673d8",
   "metadata": {},
   "outputs": [
    {
     "data": {
      "text/html": [
       "<style>#sk-container-id-4 {color: black;}#sk-container-id-4 pre{padding: 0;}#sk-container-id-4 div.sk-toggleable {background-color: white;}#sk-container-id-4 label.sk-toggleable__label {cursor: pointer;display: block;width: 100%;margin-bottom: 0;padding: 0.3em;box-sizing: border-box;text-align: center;}#sk-container-id-4 label.sk-toggleable__label-arrow:before {content: \"▸\";float: left;margin-right: 0.25em;color: #696969;}#sk-container-id-4 label.sk-toggleable__label-arrow:hover:before {color: black;}#sk-container-id-4 div.sk-estimator:hover label.sk-toggleable__label-arrow:before {color: black;}#sk-container-id-4 div.sk-toggleable__content {max-height: 0;max-width: 0;overflow: hidden;text-align: left;background-color: #f0f8ff;}#sk-container-id-4 div.sk-toggleable__content pre {margin: 0.2em;color: black;border-radius: 0.25em;background-color: #f0f8ff;}#sk-container-id-4 input.sk-toggleable__control:checked~div.sk-toggleable__content {max-height: 200px;max-width: 100%;overflow: auto;}#sk-container-id-4 input.sk-toggleable__control:checked~label.sk-toggleable__label-arrow:before {content: \"▾\";}#sk-container-id-4 div.sk-estimator input.sk-toggleable__control:checked~label.sk-toggleable__label {background-color: #d4ebff;}#sk-container-id-4 div.sk-label input.sk-toggleable__control:checked~label.sk-toggleable__label {background-color: #d4ebff;}#sk-container-id-4 input.sk-hidden--visually {border: 0;clip: rect(1px 1px 1px 1px);clip: rect(1px, 1px, 1px, 1px);height: 1px;margin: -1px;overflow: hidden;padding: 0;position: absolute;width: 1px;}#sk-container-id-4 div.sk-estimator {font-family: monospace;background-color: #f0f8ff;border: 1px dotted black;border-radius: 0.25em;box-sizing: border-box;margin-bottom: 0.5em;}#sk-container-id-4 div.sk-estimator:hover {background-color: #d4ebff;}#sk-container-id-4 div.sk-parallel-item::after {content: \"\";width: 100%;border-bottom: 1px solid gray;flex-grow: 1;}#sk-container-id-4 div.sk-label:hover label.sk-toggleable__label {background-color: #d4ebff;}#sk-container-id-4 div.sk-serial::before {content: \"\";position: absolute;border-left: 1px solid gray;box-sizing: border-box;top: 0;bottom: 0;left: 50%;z-index: 0;}#sk-container-id-4 div.sk-serial {display: flex;flex-direction: column;align-items: center;background-color: white;padding-right: 0.2em;padding-left: 0.2em;position: relative;}#sk-container-id-4 div.sk-item {position: relative;z-index: 1;}#sk-container-id-4 div.sk-parallel {display: flex;align-items: stretch;justify-content: center;background-color: white;position: relative;}#sk-container-id-4 div.sk-item::before, #sk-container-id-4 div.sk-parallel-item::before {content: \"\";position: absolute;border-left: 1px solid gray;box-sizing: border-box;top: 0;bottom: 0;left: 50%;z-index: -1;}#sk-container-id-4 div.sk-parallel-item {display: flex;flex-direction: column;z-index: 1;position: relative;background-color: white;}#sk-container-id-4 div.sk-parallel-item:first-child::after {align-self: flex-end;width: 50%;}#sk-container-id-4 div.sk-parallel-item:last-child::after {align-self: flex-start;width: 50%;}#sk-container-id-4 div.sk-parallel-item:only-child::after {width: 0;}#sk-container-id-4 div.sk-dashed-wrapped {border: 1px dashed gray;margin: 0 0.4em 0.5em 0.4em;box-sizing: border-box;padding-bottom: 0.4em;background-color: white;}#sk-container-id-4 div.sk-label label {font-family: monospace;font-weight: bold;display: inline-block;line-height: 1.2em;}#sk-container-id-4 div.sk-label-container {text-align: center;}#sk-container-id-4 div.sk-container {/* jupyter's `normalize.less` sets `[hidden] { display: none; }` but bootstrap.min.css set `[hidden] { display: none !important; }` so we also need the `!important` here to be able to override the default hidden behavior on the sphinx rendered scikit-learn.org. See: https://github.com/scikit-learn/scikit-learn/issues/21755 */display: inline-block !important;position: relative;}#sk-container-id-4 div.sk-text-repr-fallback {display: none;}</style><div id=\"sk-container-id-4\" class=\"sk-top-container\"><div class=\"sk-text-repr-fallback\"><pre>DecisionTreeClassifier()</pre><b>In a Jupyter environment, please rerun this cell to show the HTML representation or trust the notebook. <br />On GitHub, the HTML representation is unable to render, please try loading this page with nbviewer.org.</b></div><div class=\"sk-container\" hidden><div class=\"sk-item\"><div class=\"sk-estimator sk-toggleable\"><input class=\"sk-toggleable__control sk-hidden--visually\" id=\"sk-estimator-id-4\" type=\"checkbox\" checked><label for=\"sk-estimator-id-4\" class=\"sk-toggleable__label sk-toggleable__label-arrow\">DecisionTreeClassifier</label><div class=\"sk-toggleable__content\"><pre>DecisionTreeClassifier()</pre></div></div></div></div></div>"
      ],
      "text/plain": [
       "DecisionTreeClassifier()"
      ]
     },
     "execution_count": 45,
     "metadata": {},
     "output_type": "execute_result"
    }
   ],
   "source": [
    "from sklearn.tree import DecisionTreeClassifier\n",
    "dtc = DecisionTreeClassifier()\n",
    "dtc.fit(x_train , y_train)"
   ]
  },
  {
   "cell_type": "code",
   "execution_count": 46,
   "id": "eda69f12",
   "metadata": {},
   "outputs": [
    {
     "data": {
      "text/plain": [
       "array([0., 0., 0., ..., 0., 0., 0.])"
      ]
     },
     "execution_count": 46,
     "metadata": {},
     "output_type": "execute_result"
    }
   ],
   "source": [
    "pred_dtc = dtc.predict(x_test)\n",
    "pred_dtc"
   ]
  },
  {
   "cell_type": "code",
   "execution_count": 47,
   "id": "10799687",
   "metadata": {},
   "outputs": [
    {
     "data": {
      "text/plain": [
       "0.8853256662611965"
      ]
     },
     "execution_count": 47,
     "metadata": {},
     "output_type": "execute_result"
    }
   ],
   "source": [
    "sc_dtc = accuracy_score(y_test , pred_dtc)\n",
    "sc_dtc"
   ]
  },
  {
   "cell_type": "code",
   "execution_count": 48,
   "id": "6cf747f4",
   "metadata": {},
   "outputs": [
    {
     "data": {
      "text/html": [
       "<style>#sk-container-id-5 {color: black;}#sk-container-id-5 pre{padding: 0;}#sk-container-id-5 div.sk-toggleable {background-color: white;}#sk-container-id-5 label.sk-toggleable__label {cursor: pointer;display: block;width: 100%;margin-bottom: 0;padding: 0.3em;box-sizing: border-box;text-align: center;}#sk-container-id-5 label.sk-toggleable__label-arrow:before {content: \"▸\";float: left;margin-right: 0.25em;color: #696969;}#sk-container-id-5 label.sk-toggleable__label-arrow:hover:before {color: black;}#sk-container-id-5 div.sk-estimator:hover label.sk-toggleable__label-arrow:before {color: black;}#sk-container-id-5 div.sk-toggleable__content {max-height: 0;max-width: 0;overflow: hidden;text-align: left;background-color: #f0f8ff;}#sk-container-id-5 div.sk-toggleable__content pre {margin: 0.2em;color: black;border-radius: 0.25em;background-color: #f0f8ff;}#sk-container-id-5 input.sk-toggleable__control:checked~div.sk-toggleable__content {max-height: 200px;max-width: 100%;overflow: auto;}#sk-container-id-5 input.sk-toggleable__control:checked~label.sk-toggleable__label-arrow:before {content: \"▾\";}#sk-container-id-5 div.sk-estimator input.sk-toggleable__control:checked~label.sk-toggleable__label {background-color: #d4ebff;}#sk-container-id-5 div.sk-label input.sk-toggleable__control:checked~label.sk-toggleable__label {background-color: #d4ebff;}#sk-container-id-5 input.sk-hidden--visually {border: 0;clip: rect(1px 1px 1px 1px);clip: rect(1px, 1px, 1px, 1px);height: 1px;margin: -1px;overflow: hidden;padding: 0;position: absolute;width: 1px;}#sk-container-id-5 div.sk-estimator {font-family: monospace;background-color: #f0f8ff;border: 1px dotted black;border-radius: 0.25em;box-sizing: border-box;margin-bottom: 0.5em;}#sk-container-id-5 div.sk-estimator:hover {background-color: #d4ebff;}#sk-container-id-5 div.sk-parallel-item::after {content: \"\";width: 100%;border-bottom: 1px solid gray;flex-grow: 1;}#sk-container-id-5 div.sk-label:hover label.sk-toggleable__label {background-color: #d4ebff;}#sk-container-id-5 div.sk-serial::before {content: \"\";position: absolute;border-left: 1px solid gray;box-sizing: border-box;top: 0;bottom: 0;left: 50%;z-index: 0;}#sk-container-id-5 div.sk-serial {display: flex;flex-direction: column;align-items: center;background-color: white;padding-right: 0.2em;padding-left: 0.2em;position: relative;}#sk-container-id-5 div.sk-item {position: relative;z-index: 1;}#sk-container-id-5 div.sk-parallel {display: flex;align-items: stretch;justify-content: center;background-color: white;position: relative;}#sk-container-id-5 div.sk-item::before, #sk-container-id-5 div.sk-parallel-item::before {content: \"\";position: absolute;border-left: 1px solid gray;box-sizing: border-box;top: 0;bottom: 0;left: 50%;z-index: -1;}#sk-container-id-5 div.sk-parallel-item {display: flex;flex-direction: column;z-index: 1;position: relative;background-color: white;}#sk-container-id-5 div.sk-parallel-item:first-child::after {align-self: flex-end;width: 50%;}#sk-container-id-5 div.sk-parallel-item:last-child::after {align-self: flex-start;width: 50%;}#sk-container-id-5 div.sk-parallel-item:only-child::after {width: 0;}#sk-container-id-5 div.sk-dashed-wrapped {border: 1px dashed gray;margin: 0 0.4em 0.5em 0.4em;box-sizing: border-box;padding-bottom: 0.4em;background-color: white;}#sk-container-id-5 div.sk-label label {font-family: monospace;font-weight: bold;display: inline-block;line-height: 1.2em;}#sk-container-id-5 div.sk-label-container {text-align: center;}#sk-container-id-5 div.sk-container {/* jupyter's `normalize.less` sets `[hidden] { display: none; }` but bootstrap.min.css set `[hidden] { display: none !important; }` so we also need the `!important` here to be able to override the default hidden behavior on the sphinx rendered scikit-learn.org. See: https://github.com/scikit-learn/scikit-learn/issues/21755 */display: inline-block !important;position: relative;}#sk-container-id-5 div.sk-text-repr-fallback {display: none;}</style><div id=\"sk-container-id-5\" class=\"sk-top-container\"><div class=\"sk-text-repr-fallback\"><pre>GaussianNB()</pre><b>In a Jupyter environment, please rerun this cell to show the HTML representation or trust the notebook. <br />On GitHub, the HTML representation is unable to render, please try loading this page with nbviewer.org.</b></div><div class=\"sk-container\" hidden><div class=\"sk-item\"><div class=\"sk-estimator sk-toggleable\"><input class=\"sk-toggleable__control sk-hidden--visually\" id=\"sk-estimator-id-5\" type=\"checkbox\" checked><label for=\"sk-estimator-id-5\" class=\"sk-toggleable__label sk-toggleable__label-arrow\">GaussianNB</label><div class=\"sk-toggleable__content\"><pre>GaussianNB()</pre></div></div></div></div></div>"
      ],
      "text/plain": [
       "GaussianNB()"
      ]
     },
     "execution_count": 48,
     "metadata": {},
     "output_type": "execute_result"
    }
   ],
   "source": [
    "from sklearn.naive_bayes import GaussianNB\n",
    "gnb = GaussianNB()\n",
    "gnb.fit(x_train , y_train)"
   ]
  },
  {
   "cell_type": "code",
   "execution_count": 49,
   "id": "5824cddd",
   "metadata": {},
   "outputs": [
    {
     "data": {
      "text/plain": [
       "array([0., 0., 0., ..., 0., 1., 0.])"
      ]
     },
     "execution_count": 49,
     "metadata": {},
     "output_type": "execute_result"
    }
   ],
   "source": [
    "pred_gnb = gnb.predict(x_test)\n",
    "pred_gnb"
   ]
  },
  {
   "cell_type": "code",
   "execution_count": 50,
   "id": "224cceff",
   "metadata": {},
   "outputs": [
    {
     "data": {
      "text/plain": [
       "0.8614397876810793"
      ]
     },
     "execution_count": 50,
     "metadata": {},
     "output_type": "execute_result"
    }
   ],
   "source": [
    "sc_gnb = accuracy_score(y_test , pred_gnb)\n",
    "sc_gnb"
   ]
  },
  {
   "cell_type": "code",
   "execution_count": 51,
   "id": "8cb24e94",
   "metadata": {},
   "outputs": [
    {
     "data": {
      "text/html": [
       "<style>#sk-container-id-6 {color: black;}#sk-container-id-6 pre{padding: 0;}#sk-container-id-6 div.sk-toggleable {background-color: white;}#sk-container-id-6 label.sk-toggleable__label {cursor: pointer;display: block;width: 100%;margin-bottom: 0;padding: 0.3em;box-sizing: border-box;text-align: center;}#sk-container-id-6 label.sk-toggleable__label-arrow:before {content: \"▸\";float: left;margin-right: 0.25em;color: #696969;}#sk-container-id-6 label.sk-toggleable__label-arrow:hover:before {color: black;}#sk-container-id-6 div.sk-estimator:hover label.sk-toggleable__label-arrow:before {color: black;}#sk-container-id-6 div.sk-toggleable__content {max-height: 0;max-width: 0;overflow: hidden;text-align: left;background-color: #f0f8ff;}#sk-container-id-6 div.sk-toggleable__content pre {margin: 0.2em;color: black;border-radius: 0.25em;background-color: #f0f8ff;}#sk-container-id-6 input.sk-toggleable__control:checked~div.sk-toggleable__content {max-height: 200px;max-width: 100%;overflow: auto;}#sk-container-id-6 input.sk-toggleable__control:checked~label.sk-toggleable__label-arrow:before {content: \"▾\";}#sk-container-id-6 div.sk-estimator input.sk-toggleable__control:checked~label.sk-toggleable__label {background-color: #d4ebff;}#sk-container-id-6 div.sk-label input.sk-toggleable__control:checked~label.sk-toggleable__label {background-color: #d4ebff;}#sk-container-id-6 input.sk-hidden--visually {border: 0;clip: rect(1px 1px 1px 1px);clip: rect(1px, 1px, 1px, 1px);height: 1px;margin: -1px;overflow: hidden;padding: 0;position: absolute;width: 1px;}#sk-container-id-6 div.sk-estimator {font-family: monospace;background-color: #f0f8ff;border: 1px dotted black;border-radius: 0.25em;box-sizing: border-box;margin-bottom: 0.5em;}#sk-container-id-6 div.sk-estimator:hover {background-color: #d4ebff;}#sk-container-id-6 div.sk-parallel-item::after {content: \"\";width: 100%;border-bottom: 1px solid gray;flex-grow: 1;}#sk-container-id-6 div.sk-label:hover label.sk-toggleable__label {background-color: #d4ebff;}#sk-container-id-6 div.sk-serial::before {content: \"\";position: absolute;border-left: 1px solid gray;box-sizing: border-box;top: 0;bottom: 0;left: 50%;z-index: 0;}#sk-container-id-6 div.sk-serial {display: flex;flex-direction: column;align-items: center;background-color: white;padding-right: 0.2em;padding-left: 0.2em;position: relative;}#sk-container-id-6 div.sk-item {position: relative;z-index: 1;}#sk-container-id-6 div.sk-parallel {display: flex;align-items: stretch;justify-content: center;background-color: white;position: relative;}#sk-container-id-6 div.sk-item::before, #sk-container-id-6 div.sk-parallel-item::before {content: \"\";position: absolute;border-left: 1px solid gray;box-sizing: border-box;top: 0;bottom: 0;left: 50%;z-index: -1;}#sk-container-id-6 div.sk-parallel-item {display: flex;flex-direction: column;z-index: 1;position: relative;background-color: white;}#sk-container-id-6 div.sk-parallel-item:first-child::after {align-self: flex-end;width: 50%;}#sk-container-id-6 div.sk-parallel-item:last-child::after {align-self: flex-start;width: 50%;}#sk-container-id-6 div.sk-parallel-item:only-child::after {width: 0;}#sk-container-id-6 div.sk-dashed-wrapped {border: 1px dashed gray;margin: 0 0.4em 0.5em 0.4em;box-sizing: border-box;padding-bottom: 0.4em;background-color: white;}#sk-container-id-6 div.sk-label label {font-family: monospace;font-weight: bold;display: inline-block;line-height: 1.2em;}#sk-container-id-6 div.sk-label-container {text-align: center;}#sk-container-id-6 div.sk-container {/* jupyter's `normalize.less` sets `[hidden] { display: none; }` but bootstrap.min.css set `[hidden] { display: none !important; }` so we also need the `!important` here to be able to override the default hidden behavior on the sphinx rendered scikit-learn.org. See: https://github.com/scikit-learn/scikit-learn/issues/21755 */display: inline-block !important;position: relative;}#sk-container-id-6 div.sk-text-repr-fallback {display: none;}</style><div id=\"sk-container-id-6\" class=\"sk-top-container\"><div class=\"sk-text-repr-fallback\"><pre>ExtraTreesClassifier()</pre><b>In a Jupyter environment, please rerun this cell to show the HTML representation or trust the notebook. <br />On GitHub, the HTML representation is unable to render, please try loading this page with nbviewer.org.</b></div><div class=\"sk-container\" hidden><div class=\"sk-item\"><div class=\"sk-estimator sk-toggleable\"><input class=\"sk-toggleable__control sk-hidden--visually\" id=\"sk-estimator-id-6\" type=\"checkbox\" checked><label for=\"sk-estimator-id-6\" class=\"sk-toggleable__label sk-toggleable__label-arrow\">ExtraTreesClassifier</label><div class=\"sk-toggleable__content\"><pre>ExtraTreesClassifier()</pre></div></div></div></div></div>"
      ],
      "text/plain": [
       "ExtraTreesClassifier()"
      ]
     },
     "execution_count": 51,
     "metadata": {},
     "output_type": "execute_result"
    }
   ],
   "source": [
    "from sklearn.ensemble import ExtraTreesClassifier\n",
    "etc = ExtraTreesClassifier()\n",
    "etc.fit(x_train , y_train)"
   ]
  },
  {
   "cell_type": "code",
   "execution_count": 52,
   "id": "33cf6ea9",
   "metadata": {},
   "outputs": [
    {
     "data": {
      "text/plain": [
       "array([0., 0., 0., ..., 0., 0., 0.])"
      ]
     },
     "execution_count": 52,
     "metadata": {},
     "output_type": "execute_result"
    }
   ],
   "source": [
    "pred_etc = etc.predict(x_test)\n",
    "pred_etc"
   ]
  },
  {
   "cell_type": "code",
   "execution_count": 53,
   "id": "18f334a9",
   "metadata": {},
   "outputs": [
    {
     "data": {
      "text/plain": [
       "0.9180581665376535"
      ]
     },
     "execution_count": 53,
     "metadata": {},
     "output_type": "execute_result"
    }
   ],
   "source": [
    "sc_etc = accuracy_score(y_test , pred_etc)\n",
    "sc_etc"
   ]
  },
  {
   "cell_type": "code",
   "execution_count": 54,
   "id": "f54d13de",
   "metadata": {},
   "outputs": [
    {
     "name": "stdout",
     "output_type": "stream",
     "text": [
      "Results from Random Forest Classifier :- 0.9185004976224704\n",
      "Results from Logistic Regression :- 0.917394669910428\n",
      "Results from SVC :- 0.9185004976224704\n",
      "Results from Decision Tree Classifier :- 0.8853256662611965\n",
      "Results from GaussianNB :- 0.8614397876810793\n",
      "Results from Extra Tree Classifier :- 0.9180581665376535\n"
     ]
    }
   ],
   "source": [
    "print(\"Results from Random Forest Classifier :-\",sc_rfc)\n",
    "print(\"Results from Logistic Regression :-\",sc_lr)\n",
    "print(\"Results from SVC :-\",sc_svc)\n",
    "print(\"Results from Decision Tree Classifier :-\",sc_dtc)\n",
    "print(\"Results from GaussianNB :-\",sc_gnb)\n",
    "print(\"Results from Extra Tree Classifier :-\",sc_etc)"
   ]
  },
  {
   "cell_type": "code",
   "execution_count": 55,
   "id": "a5614943",
   "metadata": {},
   "outputs": [
    {
     "name": "stdout",
     "output_type": "stream",
     "text": [
      "[1.]\n"
     ]
    }
   ],
   "source": [
    "data = (4.0,0.0,2.0,0.0,3287,0.0,0.0,0.0,22,6.0,867,1,84,3,2.0)\n",
    "data_as_np_array = np.asarray(data)\n",
    "data_reshaped = data_as_np_array.reshape(1,-1)\n",
    "prediction = rfc.predict(data_reshaped)\n",
    "print(prediction)"
   ]
  },
  {
   "cell_type": "code",
   "execution_count": 56,
   "id": "6914f0dc",
   "metadata": {},
   "outputs": [
    {
     "name": "stdout",
     "output_type": "stream",
     "text": [
      "Subscribed\n"
     ]
    }
   ],
   "source": [
    "if (prediction[0]==1):\n",
    "    print(\"Subscribed\")\n",
    "else:\n",
    "    print(\"Not Subscribed\")"
   ]
  },
  {
   "cell_type": "markdown",
   "id": "1af31ba8",
   "metadata": {},
   "source": [
    "Here we have built the model to predict that customer has Subscribed for the Term Deposit or Not Subcribed for the Term Deposit,\n",
    "Model is been built using the Random Forest Classifier which show result of 0.9185004976224704 and we have also used other classifier for the model result but best result is coming from Random Forest Classifier."
   ]
  },
  {
   "cell_type": "markdown",
   "id": "d2f84407",
   "metadata": {},
   "source": [
    "# Restaurant Food Cost"
   ]
  },
  {
   "cell_type": "code",
   "execution_count": 3,
   "id": "f9debd0e",
   "metadata": {},
   "outputs": [],
   "source": [
    "train_df = pd.read_excel(r\"C:\\Users\\abc\\Downloads\\Data_Train.xlsx\")\n",
    "test_df = pd.read_excel(r\"C:\\Users\\abc\\Downloads\\Data_Test.xlsx\")"
   ]
  },
  {
   "cell_type": "code",
   "execution_count": 4,
   "id": "a318fda7",
   "metadata": {},
   "outputs": [
    {
     "data": {
      "text/plain": [
       "(12690, 9)"
      ]
     },
     "execution_count": 4,
     "metadata": {},
     "output_type": "execute_result"
    }
   ],
   "source": [
    "train_df.shape"
   ]
  },
  {
   "cell_type": "code",
   "execution_count": 5,
   "id": "c19acff1",
   "metadata": {},
   "outputs": [
    {
     "data": {
      "text/plain": [
       "(4231, 8)"
      ]
     },
     "execution_count": 5,
     "metadata": {},
     "output_type": "execute_result"
    }
   ],
   "source": [
    "test_df.shape"
   ]
  },
  {
   "cell_type": "code",
   "execution_count": 6,
   "id": "4160e7e2",
   "metadata": {},
   "outputs": [
    {
     "data": {
      "text/html": [
       "<div>\n",
       "<style scoped>\n",
       "    .dataframe tbody tr th:only-of-type {\n",
       "        vertical-align: middle;\n",
       "    }\n",
       "\n",
       "    .dataframe tbody tr th {\n",
       "        vertical-align: top;\n",
       "    }\n",
       "\n",
       "    .dataframe thead th {\n",
       "        text-align: right;\n",
       "    }\n",
       "</style>\n",
       "<table border=\"1\" class=\"dataframe\">\n",
       "  <thead>\n",
       "    <tr style=\"text-align: right;\">\n",
       "      <th></th>\n",
       "      <th>TITLE</th>\n",
       "      <th>RESTAURANT_ID</th>\n",
       "      <th>CUISINES</th>\n",
       "      <th>TIME</th>\n",
       "      <th>CITY</th>\n",
       "      <th>LOCALITY</th>\n",
       "      <th>RATING</th>\n",
       "      <th>VOTES</th>\n",
       "      <th>COST</th>\n",
       "    </tr>\n",
       "  </thead>\n",
       "  <tbody>\n",
       "    <tr>\n",
       "      <th>0</th>\n",
       "      <td>CASUAL DINING</td>\n",
       "      <td>9438</td>\n",
       "      <td>Malwani, Goan, North Indian</td>\n",
       "      <td>11am – 4pm, 7:30pm – 11:30pm (Mon-Sun)</td>\n",
       "      <td>Thane</td>\n",
       "      <td>Dombivali East</td>\n",
       "      <td>3.6</td>\n",
       "      <td>49 votes</td>\n",
       "      <td>1200.0</td>\n",
       "    </tr>\n",
       "    <tr>\n",
       "      <th>1</th>\n",
       "      <td>CASUAL DINING,BAR</td>\n",
       "      <td>13198</td>\n",
       "      <td>Asian, Modern Indian, Japanese</td>\n",
       "      <td>6pm – 11pm (Mon-Sun)</td>\n",
       "      <td>Chennai</td>\n",
       "      <td>Ramapuram</td>\n",
       "      <td>4.2</td>\n",
       "      <td>30 votes</td>\n",
       "      <td>1500.0</td>\n",
       "    </tr>\n",
       "    <tr>\n",
       "      <th>2</th>\n",
       "      <td>CASUAL DINING</td>\n",
       "      <td>10915</td>\n",
       "      <td>North Indian, Chinese, Biryani, Hyderabadi</td>\n",
       "      <td>11am – 3:30pm, 7pm – 11pm (Mon-Sun)</td>\n",
       "      <td>Chennai</td>\n",
       "      <td>Saligramam</td>\n",
       "      <td>3.8</td>\n",
       "      <td>221 votes</td>\n",
       "      <td>800.0</td>\n",
       "    </tr>\n",
       "    <tr>\n",
       "      <th>3</th>\n",
       "      <td>QUICK BITES</td>\n",
       "      <td>6346</td>\n",
       "      <td>Tibetan, Chinese</td>\n",
       "      <td>11:30am – 1am (Mon-Sun)</td>\n",
       "      <td>Mumbai</td>\n",
       "      <td>Bandra West</td>\n",
       "      <td>4.1</td>\n",
       "      <td>24 votes</td>\n",
       "      <td>800.0</td>\n",
       "    </tr>\n",
       "    <tr>\n",
       "      <th>4</th>\n",
       "      <td>DESSERT PARLOR</td>\n",
       "      <td>15387</td>\n",
       "      <td>Desserts</td>\n",
       "      <td>11am – 1am (Mon-Sun)</td>\n",
       "      <td>Mumbai</td>\n",
       "      <td>Lower Parel</td>\n",
       "      <td>3.8</td>\n",
       "      <td>165 votes</td>\n",
       "      <td>300.0</td>\n",
       "    </tr>\n",
       "    <tr>\n",
       "      <th>...</th>\n",
       "      <td>...</td>\n",
       "      <td>...</td>\n",
       "      <td>...</td>\n",
       "      <td>...</td>\n",
       "      <td>...</td>\n",
       "      <td>...</td>\n",
       "      <td>...</td>\n",
       "      <td>...</td>\n",
       "      <td>...</td>\n",
       "    </tr>\n",
       "    <tr>\n",
       "      <th>4226</th>\n",
       "      <td>CASUAL DINING</td>\n",
       "      <td>9057</td>\n",
       "      <td>North Indian, Mughlai, Chinese</td>\n",
       "      <td>11:30am – 11:30pm (Mon-Sun)</td>\n",
       "      <td>New Delhi</td>\n",
       "      <td>Punjabi Bagh</td>\n",
       "      <td>3.9</td>\n",
       "      <td>287 votes</td>\n",
       "      <td>NaN</td>\n",
       "    </tr>\n",
       "    <tr>\n",
       "      <th>4227</th>\n",
       "      <td>None</td>\n",
       "      <td>1247</td>\n",
       "      <td>Biryani, North Indian, Sandwich, Salad, Wraps</td>\n",
       "      <td>11am – 1am (Mon-Sun)</td>\n",
       "      <td>Bangalore</td>\n",
       "      <td>HSR Layout</td>\n",
       "      <td>4.3</td>\n",
       "      <td>469 votes</td>\n",
       "      <td>NaN</td>\n",
       "    </tr>\n",
       "    <tr>\n",
       "      <th>4228</th>\n",
       "      <td>QUICK BITES</td>\n",
       "      <td>8617</td>\n",
       "      <td>Continental, North Indian</td>\n",
       "      <td>9:30am – 10:30pm (Mon-Sun)</td>\n",
       "      <td>Faridabad</td>\n",
       "      <td>Sector 86</td>\n",
       "      <td>3.7</td>\n",
       "      <td>53 votes</td>\n",
       "      <td>NaN</td>\n",
       "    </tr>\n",
       "    <tr>\n",
       "      <th>4229</th>\n",
       "      <td>QUICK BITES</td>\n",
       "      <td>6485</td>\n",
       "      <td>Rolls, Beverages</td>\n",
       "      <td>11am – 11:30pm (Mon, Tue, Wed, Thu, Sat, Sun),...</td>\n",
       "      <td>Kochi</td>\n",
       "      <td>Kochi</td>\n",
       "      <td>-</td>\n",
       "      <td>NaN</td>\n",
       "      <td>NaN</td>\n",
       "    </tr>\n",
       "    <tr>\n",
       "      <th>4230</th>\n",
       "      <td>QUICK BITES</td>\n",
       "      <td>2421</td>\n",
       "      <td>Mughlai</td>\n",
       "      <td>5pm – 1am (Mon-Sun)</td>\n",
       "      <td>Bandra West</td>\n",
       "      <td>Perry Cross Road</td>\n",
       "      <td>3.7</td>\n",
       "      <td>63 votes</td>\n",
       "      <td>NaN</td>\n",
       "    </tr>\n",
       "  </tbody>\n",
       "</table>\n",
       "<p>16921 rows × 9 columns</p>\n",
       "</div>"
      ],
      "text/plain": [
       "                  TITLE  RESTAURANT_ID  \\\n",
       "0         CASUAL DINING           9438   \n",
       "1     CASUAL DINING,BAR          13198   \n",
       "2         CASUAL DINING          10915   \n",
       "3           QUICK BITES           6346   \n",
       "4        DESSERT PARLOR          15387   \n",
       "...                 ...            ...   \n",
       "4226      CASUAL DINING           9057   \n",
       "4227               None           1247   \n",
       "4228        QUICK BITES           8617   \n",
       "4229        QUICK BITES           6485   \n",
       "4230        QUICK BITES           2421   \n",
       "\n",
       "                                           CUISINES  \\\n",
       "0                       Malwani, Goan, North Indian   \n",
       "1                    Asian, Modern Indian, Japanese   \n",
       "2        North Indian, Chinese, Biryani, Hyderabadi   \n",
       "3                                  Tibetan, Chinese   \n",
       "4                                          Desserts   \n",
       "...                                             ...   \n",
       "4226                 North Indian, Mughlai, Chinese   \n",
       "4227  Biryani, North Indian, Sandwich, Salad, Wraps   \n",
       "4228                      Continental, North Indian   \n",
       "4229                               Rolls, Beverages   \n",
       "4230                                        Mughlai   \n",
       "\n",
       "                                                   TIME         CITY  \\\n",
       "0                11am – 4pm, 7:30pm – 11:30pm (Mon-Sun)        Thane   \n",
       "1                                  6pm – 11pm (Mon-Sun)      Chennai   \n",
       "2                   11am – 3:30pm, 7pm – 11pm (Mon-Sun)      Chennai   \n",
       "3                               11:30am – 1am (Mon-Sun)       Mumbai   \n",
       "4                                  11am – 1am (Mon-Sun)       Mumbai   \n",
       "...                                                 ...          ...   \n",
       "4226                        11:30am – 11:30pm (Mon-Sun)    New Delhi   \n",
       "4227                               11am – 1am (Mon-Sun)    Bangalore   \n",
       "4228                         9:30am – 10:30pm (Mon-Sun)    Faridabad   \n",
       "4229  11am – 11:30pm (Mon, Tue, Wed, Thu, Sat, Sun),...        Kochi   \n",
       "4230                                5pm – 1am (Mon-Sun)  Bandra West   \n",
       "\n",
       "              LOCALITY RATING      VOTES    COST  \n",
       "0       Dombivali East    3.6   49 votes  1200.0  \n",
       "1            Ramapuram    4.2   30 votes  1500.0  \n",
       "2           Saligramam    3.8  221 votes   800.0  \n",
       "3          Bandra West    4.1   24 votes   800.0  \n",
       "4          Lower Parel    3.8  165 votes   300.0  \n",
       "...                ...    ...        ...     ...  \n",
       "4226      Punjabi Bagh    3.9  287 votes     NaN  \n",
       "4227        HSR Layout    4.3  469 votes     NaN  \n",
       "4228         Sector 86    3.7   53 votes     NaN  \n",
       "4229             Kochi      -        NaN     NaN  \n",
       "4230  Perry Cross Road    3.7   63 votes     NaN  \n",
       "\n",
       "[16921 rows x 9 columns]"
      ]
     },
     "execution_count": 6,
     "metadata": {},
     "output_type": "execute_result"
    }
   ],
   "source": [
    "df = train_df.append(test_df)\n",
    "df"
   ]
  },
  {
   "cell_type": "markdown",
   "id": "e4a0eb0a",
   "metadata": {},
   "source": [
    "In this Dataset we have 16921 Number of Rows and Number of columns is 9 where columns Cost is the target variable and other columns have data on that basis model to predict the COST of 02 person is predicted."
   ]
  },
  {
   "cell_type": "code",
   "execution_count": 7,
   "id": "d75ca26d",
   "metadata": {},
   "outputs": [
    {
     "name": "stdout",
     "output_type": "stream",
     "text": [
      "Number of Rows =  16921\n",
      "Number of Columns =  9\n"
     ]
    }
   ],
   "source": [
    "print('Number of Rows = ',df.shape[0])\n",
    "print('Number of Columns = ',df.shape[1])"
   ]
  },
  {
   "cell_type": "code",
   "execution_count": 8,
   "id": "49d4c96e",
   "metadata": {},
   "outputs": [
    {
     "data": {
      "text/html": [
       "<div>\n",
       "<style scoped>\n",
       "    .dataframe tbody tr th:only-of-type {\n",
       "        vertical-align: middle;\n",
       "    }\n",
       "\n",
       "    .dataframe tbody tr th {\n",
       "        vertical-align: top;\n",
       "    }\n",
       "\n",
       "    .dataframe thead th {\n",
       "        text-align: right;\n",
       "    }\n",
       "</style>\n",
       "<table border=\"1\" class=\"dataframe\">\n",
       "  <thead>\n",
       "    <tr style=\"text-align: right;\">\n",
       "      <th></th>\n",
       "      <th>TITLE</th>\n",
       "      <th>RESTAURANT_ID</th>\n",
       "      <th>CUISINES</th>\n",
       "      <th>TIME</th>\n",
       "      <th>CITY</th>\n",
       "      <th>LOCALITY</th>\n",
       "      <th>RATING</th>\n",
       "      <th>VOTES</th>\n",
       "      <th>COST</th>\n",
       "    </tr>\n",
       "  </thead>\n",
       "  <tbody>\n",
       "    <tr>\n",
       "      <th>2198</th>\n",
       "      <td>CASUAL DINING</td>\n",
       "      <td>7327</td>\n",
       "      <td>Biryani</td>\n",
       "      <td>12noon – 10:30pm (Mon-Fri),12:30pm – 11:30pm...</td>\n",
       "      <td>Bangalore</td>\n",
       "      <td>Kalyan Nagar</td>\n",
       "      <td>4.0</td>\n",
       "      <td>249 votes</td>\n",
       "      <td>NaN</td>\n",
       "    </tr>\n",
       "    <tr>\n",
       "      <th>1655</th>\n",
       "      <td>CASUAL DINING</td>\n",
       "      <td>14932</td>\n",
       "      <td>South Indian, North Indian, Chinese, Maharasht...</td>\n",
       "      <td>7am – 10:30pm (Mon-Sun)</td>\n",
       "      <td>Bangalore</td>\n",
       "      <td>Mysore Road</td>\n",
       "      <td>4.0</td>\n",
       "      <td>967 votes</td>\n",
       "      <td>NaN</td>\n",
       "    </tr>\n",
       "    <tr>\n",
       "      <th>10890</th>\n",
       "      <td>CASUAL DINING</td>\n",
       "      <td>2994</td>\n",
       "      <td>Biryani, Chettinad, Chinese, Arabian, Mughlai</td>\n",
       "      <td>11am – 3:30pm, 5pm – 2am (Mon-Sun)</td>\n",
       "      <td>Chennai</td>\n",
       "      <td>Ashok Nagar</td>\n",
       "      <td>3.9</td>\n",
       "      <td>192 votes</td>\n",
       "      <td>500.0</td>\n",
       "    </tr>\n",
       "    <tr>\n",
       "      <th>2841</th>\n",
       "      <td>FOOD TRUCK</td>\n",
       "      <td>13802</td>\n",
       "      <td>Italian</td>\n",
       "      <td>4:30pm – 10:30pm (Mon-Sun)</td>\n",
       "      <td>Chennai</td>\n",
       "      <td>Ashok Nagar</td>\n",
       "      <td>3.7</td>\n",
       "      <td>38 votes</td>\n",
       "      <td>300.0</td>\n",
       "    </tr>\n",
       "    <tr>\n",
       "      <th>2541</th>\n",
       "      <td>PUB,MICROBREWERY</td>\n",
       "      <td>1530</td>\n",
       "      <td>Bar Food</td>\n",
       "      <td>12noon – 12midnight (Mon-Sun)</td>\n",
       "      <td>Gurgaon</td>\n",
       "      <td>Sector 29</td>\n",
       "      <td>4.2</td>\n",
       "      <td>1626 votes</td>\n",
       "      <td>1500.0</td>\n",
       "    </tr>\n",
       "    <tr>\n",
       "      <th>11387</th>\n",
       "      <td>CASUAL DINING</td>\n",
       "      <td>10937</td>\n",
       "      <td>Chinese</td>\n",
       "      <td>Closed (Mon),12noon – 2:45pm, 7pm – 10:45pm...</td>\n",
       "      <td>Chennai</td>\n",
       "      <td>Nungambakkam</td>\n",
       "      <td>4.0</td>\n",
       "      <td>317 votes</td>\n",
       "      <td>450.0</td>\n",
       "    </tr>\n",
       "    <tr>\n",
       "      <th>12376</th>\n",
       "      <td>QUICK BITES</td>\n",
       "      <td>9427</td>\n",
       "      <td>Fast Food, Beverages, Ice Cream, Juices, Sandwich</td>\n",
       "      <td>8am – 10pm (Mon-Sun)</td>\n",
       "      <td>Bangalore</td>\n",
       "      <td>Sarjapur Road</td>\n",
       "      <td>3.7</td>\n",
       "      <td>28 votes</td>\n",
       "      <td>150.0</td>\n",
       "    </tr>\n",
       "    <tr>\n",
       "      <th>9953</th>\n",
       "      <td>QUICK BITES</td>\n",
       "      <td>6809</td>\n",
       "      <td>Italian, Pizza</td>\n",
       "      <td>11am – 5am (Mon-Sun)</td>\n",
       "      <td>Mumbai</td>\n",
       "      <td>Khar West</td>\n",
       "      <td>3.7</td>\n",
       "      <td>332 votes</td>\n",
       "      <td>500.0</td>\n",
       "    </tr>\n",
       "    <tr>\n",
       "      <th>11619</th>\n",
       "      <td>QUICK BITES</td>\n",
       "      <td>463</td>\n",
       "      <td>Arabian, North Indian</td>\n",
       "      <td>11am – 12midnight (Mon-Sun)</td>\n",
       "      <td>Kochi</td>\n",
       "      <td>Aluva</td>\n",
       "      <td>NEW</td>\n",
       "      <td>NaN</td>\n",
       "      <td>300.0</td>\n",
       "    </tr>\n",
       "    <tr>\n",
       "      <th>7206</th>\n",
       "      <td>CASUAL DINING</td>\n",
       "      <td>12675</td>\n",
       "      <td>Andhra, North Indian, Chinese</td>\n",
       "      <td>12noon – 4pm, 7pm – 11pm (Mon-Sun)</td>\n",
       "      <td>Hyderabad</td>\n",
       "      <td>Somajiguda</td>\n",
       "      <td>4.1</td>\n",
       "      <td>819 votes</td>\n",
       "      <td>800.0</td>\n",
       "    </tr>\n",
       "    <tr>\n",
       "      <th>1693</th>\n",
       "      <td>DESSERT PARLOR</td>\n",
       "      <td>10874</td>\n",
       "      <td>Ice Cream, Desserts</td>\n",
       "      <td>10am – 9pm (Mon-Sun)</td>\n",
       "      <td>Kochi</td>\n",
       "      <td>Tripunithura</td>\n",
       "      <td>4.0</td>\n",
       "      <td>58 votes</td>\n",
       "      <td>NaN</td>\n",
       "    </tr>\n",
       "    <tr>\n",
       "      <th>331</th>\n",
       "      <td>None</td>\n",
       "      <td>10910</td>\n",
       "      <td>Street Food</td>\n",
       "      <td>9am – 9:30pm (Mon-Sun)</td>\n",
       "      <td>Noida</td>\n",
       "      <td>Sector 15</td>\n",
       "      <td>3.7</td>\n",
       "      <td>140 votes</td>\n",
       "      <td>NaN</td>\n",
       "    </tr>\n",
       "    <tr>\n",
       "      <th>3017</th>\n",
       "      <td>CASUAL DINING</td>\n",
       "      <td>5969</td>\n",
       "      <td>North Indian, South Indian, Chinese, Biryani</td>\n",
       "      <td>12noon – 11pm (Mon-Sun)</td>\n",
       "      <td>Hyderabad</td>\n",
       "      <td>Moosapet</td>\n",
       "      <td>2.8</td>\n",
       "      <td>76 votes</td>\n",
       "      <td>NaN</td>\n",
       "    </tr>\n",
       "    <tr>\n",
       "      <th>9060</th>\n",
       "      <td>QUICK BITES</td>\n",
       "      <td>9508</td>\n",
       "      <td>Biryani, North Indian</td>\n",
       "      <td>11am – 12midnight (Mon-Sun)</td>\n",
       "      <td>Hyderabad</td>\n",
       "      <td>Jeedimetla</td>\n",
       "      <td>4.0</td>\n",
       "      <td>346 votes</td>\n",
       "      <td>300.0</td>\n",
       "    </tr>\n",
       "    <tr>\n",
       "      <th>4039</th>\n",
       "      <td>QUICK BITES</td>\n",
       "      <td>8247</td>\n",
       "      <td>Street Food, Chinese</td>\n",
       "      <td>7am – 11pm (Mon-Sun)</td>\n",
       "      <td>Hyderabad</td>\n",
       "      <td>Mehdipatnam</td>\n",
       "      <td>3.8</td>\n",
       "      <td>83 votes</td>\n",
       "      <td>200.0</td>\n",
       "    </tr>\n",
       "    <tr>\n",
       "      <th>3143</th>\n",
       "      <td>QUICK BITES</td>\n",
       "      <td>302</td>\n",
       "      <td>Chinese</td>\n",
       "      <td>1pm – 11pm (Mon-Sun)</td>\n",
       "      <td>Hyderabad</td>\n",
       "      <td>S R Nagar</td>\n",
       "      <td>3.4</td>\n",
       "      <td>55 votes</td>\n",
       "      <td>NaN</td>\n",
       "    </tr>\n",
       "    <tr>\n",
       "      <th>7671</th>\n",
       "      <td>CASUAL DINING</td>\n",
       "      <td>6532</td>\n",
       "      <td>North Indian, Mughlai</td>\n",
       "      <td>12noon – 3:30pm, 7pm – 12:30AM (Mon-Sun)</td>\n",
       "      <td>New Delhi</td>\n",
       "      <td>Greater Kailash (GK) 2</td>\n",
       "      <td>3.8</td>\n",
       "      <td>110 votes</td>\n",
       "      <td>2000.0</td>\n",
       "    </tr>\n",
       "    <tr>\n",
       "      <th>3992</th>\n",
       "      <td>QUICK BITES</td>\n",
       "      <td>13935</td>\n",
       "      <td>Hyderabadi, Indian, Kebab</td>\n",
       "      <td>8am – 10pm (Mon-Sat),Closed (Sun)</td>\n",
       "      <td>Kochi</td>\n",
       "      <td>Near Aster Medcity</td>\n",
       "      <td>-</td>\n",
       "      <td>NaN</td>\n",
       "      <td>NaN</td>\n",
       "    </tr>\n",
       "    <tr>\n",
       "      <th>5481</th>\n",
       "      <td>BAKERY</td>\n",
       "      <td>9740</td>\n",
       "      <td>Bakery, Desserts</td>\n",
       "      <td>Closed (Mon),11:30am – 11:30pm (Tue-Sun)</td>\n",
       "      <td>Mumbai</td>\n",
       "      <td>Fort</td>\n",
       "      <td>4.3</td>\n",
       "      <td>423 votes</td>\n",
       "      <td>500.0</td>\n",
       "    </tr>\n",
       "    <tr>\n",
       "      <th>2082</th>\n",
       "      <td>QUICK BITES</td>\n",
       "      <td>5585</td>\n",
       "      <td>Momos, Fast Food</td>\n",
       "      <td>12:30pm – 11:15pm (Mon-Sun)</td>\n",
       "      <td>Mumbai</td>\n",
       "      <td>Girgaum</td>\n",
       "      <td>3.5</td>\n",
       "      <td>22 votes</td>\n",
       "      <td>NaN</td>\n",
       "    </tr>\n",
       "  </tbody>\n",
       "</table>\n",
       "</div>"
      ],
      "text/plain": [
       "                  TITLE  RESTAURANT_ID  \\\n",
       "2198      CASUAL DINING           7327   \n",
       "1655      CASUAL DINING          14932   \n",
       "10890     CASUAL DINING           2994   \n",
       "2841         FOOD TRUCK          13802   \n",
       "2541   PUB,MICROBREWERY           1530   \n",
       "11387     CASUAL DINING          10937   \n",
       "12376       QUICK BITES           9427   \n",
       "9953        QUICK BITES           6809   \n",
       "11619       QUICK BITES            463   \n",
       "7206      CASUAL DINING          12675   \n",
       "1693     DESSERT PARLOR          10874   \n",
       "331                None          10910   \n",
       "3017      CASUAL DINING           5969   \n",
       "9060        QUICK BITES           9508   \n",
       "4039        QUICK BITES           8247   \n",
       "3143        QUICK BITES            302   \n",
       "7671      CASUAL DINING           6532   \n",
       "3992        QUICK BITES          13935   \n",
       "5481             BAKERY           9740   \n",
       "2082        QUICK BITES           5585   \n",
       "\n",
       "                                                CUISINES  \\\n",
       "2198                                             Biryani   \n",
       "1655   South Indian, North Indian, Chinese, Maharasht...   \n",
       "10890      Biryani, Chettinad, Chinese, Arabian, Mughlai   \n",
       "2841                                             Italian   \n",
       "2541                                            Bar Food   \n",
       "11387                                            Chinese   \n",
       "12376  Fast Food, Beverages, Ice Cream, Juices, Sandwich   \n",
       "9953                                      Italian, Pizza   \n",
       "11619                              Arabian, North Indian   \n",
       "7206                       Andhra, North Indian, Chinese   \n",
       "1693                                 Ice Cream, Desserts   \n",
       "331                                          Street Food   \n",
       "3017        North Indian, South Indian, Chinese, Biryani   \n",
       "9060                               Biryani, North Indian   \n",
       "4039                                Street Food, Chinese   \n",
       "3143                                             Chinese   \n",
       "7671                               North Indian, Mughlai   \n",
       "3992                           Hyderabadi, Indian, Kebab   \n",
       "5481                                    Bakery, Desserts   \n",
       "2082                                    Momos, Fast Food   \n",
       "\n",
       "                                                  TIME       CITY  \\\n",
       "2198   12noon – 10:30pm (Mon-Fri),12:30pm – 11:30pm...  Bangalore   \n",
       "1655                           7am – 10:30pm (Mon-Sun)  Bangalore   \n",
       "10890               11am – 3:30pm, 5pm – 2am (Mon-Sun)    Chennai   \n",
       "2841                        4:30pm – 10:30pm (Mon-Sun)    Chennai   \n",
       "2541                     12noon – 12midnight (Mon-Sun)    Gurgaon   \n",
       "11387   Closed (Mon),12noon – 2:45pm, 7pm – 10:45pm...    Chennai   \n",
       "12376                             8am – 10pm (Mon-Sun)  Bangalore   \n",
       "9953                              11am – 5am (Mon-Sun)     Mumbai   \n",
       "11619                      11am – 12midnight (Mon-Sun)      Kochi   \n",
       "7206                12noon – 4pm, 7pm – 11pm (Mon-Sun)  Hyderabad   \n",
       "1693                              10am – 9pm (Mon-Sun)      Kochi   \n",
       "331                             9am – 9:30pm (Mon-Sun)      Noida   \n",
       "3017                           12noon – 11pm (Mon-Sun)  Hyderabad   \n",
       "9060                       11am – 12midnight (Mon-Sun)  Hyderabad   \n",
       "4039                              7am – 11pm (Mon-Sun)  Hyderabad   \n",
       "3143                              1pm – 11pm (Mon-Sun)  Hyderabad   \n",
       "7671          12noon – 3:30pm, 7pm – 12:30AM (Mon-Sun)  New Delhi   \n",
       "3992                 8am – 10pm (Mon-Sat),Closed (Sun)      Kochi   \n",
       "5481          Closed (Mon),11:30am – 11:30pm (Tue-Sun)     Mumbai   \n",
       "2082                       12:30pm – 11:15pm (Mon-Sun)     Mumbai   \n",
       "\n",
       "                     LOCALITY RATING       VOTES    COST  \n",
       "2198             Kalyan Nagar    4.0   249 votes     NaN  \n",
       "1655              Mysore Road    4.0   967 votes     NaN  \n",
       "10890             Ashok Nagar    3.9   192 votes   500.0  \n",
       "2841              Ashok Nagar    3.7    38 votes   300.0  \n",
       "2541                Sector 29    4.2  1626 votes  1500.0  \n",
       "11387            Nungambakkam    4.0   317 votes   450.0  \n",
       "12376           Sarjapur Road    3.7    28 votes   150.0  \n",
       "9953                Khar West    3.7   332 votes   500.0  \n",
       "11619                   Aluva    NEW         NaN   300.0  \n",
       "7206               Somajiguda    4.1   819 votes   800.0  \n",
       "1693             Tripunithura    4.0    58 votes     NaN  \n",
       "331                 Sector 15    3.7   140 votes     NaN  \n",
       "3017                 Moosapet    2.8    76 votes     NaN  \n",
       "9060               Jeedimetla    4.0   346 votes   300.0  \n",
       "4039              Mehdipatnam    3.8    83 votes   200.0  \n",
       "3143                S R Nagar    3.4    55 votes     NaN  \n",
       "7671   Greater Kailash (GK) 2    3.8   110 votes  2000.0  \n",
       "3992       Near Aster Medcity      -         NaN     NaN  \n",
       "5481                     Fort    4.3   423 votes   500.0  \n",
       "2082                  Girgaum    3.5    22 votes     NaN  "
      ]
     },
     "execution_count": 8,
     "metadata": {},
     "output_type": "execute_result"
    }
   ],
   "source": [
    "df.sample(20)"
   ]
  },
  {
   "cell_type": "code",
   "execution_count": 9,
   "id": "dd58f615",
   "metadata": {},
   "outputs": [
    {
     "data": {
      "text/plain": [
       "TITLE             object\n",
       "RESTAURANT_ID      int64\n",
       "CUISINES          object\n",
       "TIME              object\n",
       "CITY              object\n",
       "LOCALITY          object\n",
       "RATING            object\n",
       "VOTES             object\n",
       "COST             float64\n",
       "dtype: object"
      ]
     },
     "execution_count": 9,
     "metadata": {},
     "output_type": "execute_result"
    }
   ],
   "source": [
    "df.dtypes"
   ]
  },
  {
   "cell_type": "code",
   "execution_count": 10,
   "id": "5b4ce327",
   "metadata": {},
   "outputs": [
    {
     "data": {
      "text/plain": [
       "TITLE               0\n",
       "RESTAURANT_ID       0\n",
       "CUISINES            0\n",
       "TIME                0\n",
       "CITY              147\n",
       "LOCALITY          128\n",
       "RATING              4\n",
       "VOTES            1606\n",
       "COST             4231\n",
       "dtype: int64"
      ]
     },
     "execution_count": 10,
     "metadata": {},
     "output_type": "execute_result"
    }
   ],
   "source": [
    "df.isnull().sum()"
   ]
  },
  {
   "cell_type": "code",
   "execution_count": 11,
   "id": "b8d4592e",
   "metadata": {},
   "outputs": [
    {
     "name": "stdout",
     "output_type": "stream",
     "text": [
      "<class 'pandas.core.frame.DataFrame'>\n",
      "Int64Index: 16921 entries, 0 to 4230\n",
      "Data columns (total 9 columns):\n",
      " #   Column         Non-Null Count  Dtype  \n",
      "---  ------         --------------  -----  \n",
      " 0   TITLE          16921 non-null  object \n",
      " 1   RESTAURANT_ID  16921 non-null  int64  \n",
      " 2   CUISINES       16921 non-null  object \n",
      " 3   TIME           16921 non-null  object \n",
      " 4   CITY           16774 non-null  object \n",
      " 5   LOCALITY       16793 non-null  object \n",
      " 6   RATING         16917 non-null  object \n",
      " 7   VOTES          15315 non-null  object \n",
      " 8   COST           12690 non-null  float64\n",
      "dtypes: float64(1), int64(1), object(7)\n",
      "memory usage: 1.3+ MB\n"
     ]
    }
   ],
   "source": [
    "df.info()"
   ]
  },
  {
   "cell_type": "code",
   "execution_count": 12,
   "id": "f1096334",
   "metadata": {},
   "outputs": [],
   "source": [
    "df['VOTES']=df['VOTES'].str.replace('votes','').astype(float)"
   ]
  },
  {
   "cell_type": "code",
   "execution_count": 13,
   "id": "25b1e8b1",
   "metadata": {},
   "outputs": [],
   "source": [
    "df['VOTES']=df['VOTES'].fillna(df['VOTES'].mean())"
   ]
  },
  {
   "cell_type": "code",
   "execution_count": 14,
   "id": "b3390837",
   "metadata": {},
   "outputs": [
    {
     "data": {
      "text/plain": [
       "0"
      ]
     },
     "execution_count": 14,
     "metadata": {},
     "output_type": "execute_result"
    }
   ],
   "source": [
    "df['VOTES'].isnull().sum()"
   ]
  },
  {
   "cell_type": "code",
   "execution_count": 15,
   "id": "5a15653c",
   "metadata": {},
   "outputs": [],
   "source": [
    "df['RATING'] = df[\"RATING\"].replace(\"-\", np.NaN)\n",
    "df['RATING'] = df[\"RATING\"].replace(\"NEW\", np.NaN)"
   ]
  },
  {
   "cell_type": "code",
   "execution_count": 16,
   "id": "ffa0e96b",
   "metadata": {},
   "outputs": [
    {
     "data": {
      "text/plain": [
       "1606"
      ]
     },
     "execution_count": 16,
     "metadata": {},
     "output_type": "execute_result"
    }
   ],
   "source": [
    "df['RATING'].isnull().sum()"
   ]
  },
  {
   "cell_type": "code",
   "execution_count": 17,
   "id": "047fb54d",
   "metadata": {},
   "outputs": [],
   "source": [
    "df['RATING'].fillna(df['RATING'].mode().values[0], inplace=True)"
   ]
  },
  {
   "cell_type": "code",
   "execution_count": 18,
   "id": "1da9f051",
   "metadata": {},
   "outputs": [],
   "source": [
    "df['RATING']=df['RATING'].astype(float)"
   ]
  },
  {
   "cell_type": "code",
   "execution_count": 19,
   "id": "1903d56e",
   "metadata": {},
   "outputs": [
    {
     "data": {
      "text/plain": [
       "0"
      ]
     },
     "execution_count": 19,
     "metadata": {},
     "output_type": "execute_result"
    }
   ],
   "source": [
    "df['RATING'].isnull().sum()"
   ]
  },
  {
   "cell_type": "code",
   "execution_count": 20,
   "id": "8df50374",
   "metadata": {},
   "outputs": [],
   "source": [
    "df['CITY']=df['CITY'].fillna('missing')\n",
    "df['LOCALITY']=df['LOCALITY'].fillna('missing')"
   ]
  },
  {
   "cell_type": "code",
   "execution_count": 21,
   "id": "1f9d3415",
   "metadata": {},
   "outputs": [
    {
     "data": {
      "text/plain": [
       "TITLE               0\n",
       "RESTAURANT_ID       0\n",
       "CUISINES            0\n",
       "TIME                0\n",
       "CITY                0\n",
       "LOCALITY            0\n",
       "RATING              0\n",
       "VOTES               0\n",
       "COST             4231\n",
       "dtype: int64"
      ]
     },
     "execution_count": 21,
     "metadata": {},
     "output_type": "execute_result"
    }
   ],
   "source": [
    "df.isnull().sum()"
   ]
  },
  {
   "cell_type": "code",
   "execution_count": 22,
   "id": "61e6cf29",
   "metadata": {},
   "outputs": [],
   "source": [
    "from sklearn.preprocessing import LabelEncoder\n",
    "le = LabelEncoder()\n",
    "col=['TITLE','CUISINES','TIME','CITY','LOCALITY'] \n",
    "for i in col:\n",
    "    df[i] = le.fit_transform(df[i])"
   ]
  },
  {
   "cell_type": "code",
   "execution_count": 23,
   "id": "9491f8a6",
   "metadata": {},
   "outputs": [
    {
     "data": {
      "text/html": [
       "<div>\n",
       "<style scoped>\n",
       "    .dataframe tbody tr th:only-of-type {\n",
       "        vertical-align: middle;\n",
       "    }\n",
       "\n",
       "    .dataframe tbody tr th {\n",
       "        vertical-align: top;\n",
       "    }\n",
       "\n",
       "    .dataframe thead th {\n",
       "        text-align: right;\n",
       "    }\n",
       "</style>\n",
       "<table border=\"1\" class=\"dataframe\">\n",
       "  <thead>\n",
       "    <tr style=\"text-align: right;\">\n",
       "      <th></th>\n",
       "      <th>TITLE</th>\n",
       "      <th>RESTAURANT_ID</th>\n",
       "      <th>CUISINES</th>\n",
       "      <th>TIME</th>\n",
       "      <th>CITY</th>\n",
       "      <th>LOCALITY</th>\n",
       "      <th>RATING</th>\n",
       "      <th>VOTES</th>\n",
       "      <th>COST</th>\n",
       "    </tr>\n",
       "  </thead>\n",
       "  <tbody>\n",
       "    <tr>\n",
       "      <th>0</th>\n",
       "      <td>34</td>\n",
       "      <td>9438</td>\n",
       "      <td>3294</td>\n",
       "      <td>898</td>\n",
       "      <td>400</td>\n",
       "      <td>328</td>\n",
       "      <td>3.6</td>\n",
       "      <td>49.000000</td>\n",
       "      <td>1200.0</td>\n",
       "    </tr>\n",
       "    <tr>\n",
       "      <th>1</th>\n",
       "      <td>36</td>\n",
       "      <td>13198</td>\n",
       "      <td>364</td>\n",
       "      <td>2301</td>\n",
       "      <td>75</td>\n",
       "      <td>1214</td>\n",
       "      <td>4.2</td>\n",
       "      <td>30.000000</td>\n",
       "      <td>1500.0</td>\n",
       "    </tr>\n",
       "    <tr>\n",
       "      <th>2</th>\n",
       "      <td>34</td>\n",
       "      <td>10915</td>\n",
       "      <td>3729</td>\n",
       "      <td>806</td>\n",
       "      <td>75</td>\n",
       "      <td>1272</td>\n",
       "      <td>3.8</td>\n",
       "      <td>221.000000</td>\n",
       "      <td>800.0</td>\n",
       "    </tr>\n",
       "    <tr>\n",
       "      <th>3</th>\n",
       "      <td>104</td>\n",
       "      <td>6346</td>\n",
       "      <td>5156</td>\n",
       "      <td>340</td>\n",
       "      <td>277</td>\n",
       "      <td>161</td>\n",
       "      <td>4.1</td>\n",
       "      <td>24.000000</td>\n",
       "      <td>800.0</td>\n",
       "    </tr>\n",
       "    <tr>\n",
       "      <th>4</th>\n",
       "      <td>55</td>\n",
       "      <td>15387</td>\n",
       "      <td>2218</td>\n",
       "      <td>750</td>\n",
       "      <td>277</td>\n",
       "      <td>709</td>\n",
       "      <td>3.8</td>\n",
       "      <td>165.000000</td>\n",
       "      <td>300.0</td>\n",
       "    </tr>\n",
       "    <tr>\n",
       "      <th>...</th>\n",
       "      <td>...</td>\n",
       "      <td>...</td>\n",
       "      <td>...</td>\n",
       "      <td>...</td>\n",
       "      <td>...</td>\n",
       "      <td>...</td>\n",
       "      <td>...</td>\n",
       "      <td>...</td>\n",
       "      <td>...</td>\n",
       "    </tr>\n",
       "    <tr>\n",
       "      <th>4226</th>\n",
       "      <td>34</td>\n",
       "      <td>9057</td>\n",
       "      <td>4259</td>\n",
       "      <td>290</td>\n",
       "      <td>316</td>\n",
       "      <td>1184</td>\n",
       "      <td>3.9</td>\n",
       "      <td>287.000000</td>\n",
       "      <td>NaN</td>\n",
       "    </tr>\n",
       "    <tr>\n",
       "      <th>4227</th>\n",
       "      <td>95</td>\n",
       "      <td>1247</td>\n",
       "      <td>785</td>\n",
       "      <td>750</td>\n",
       "      <td>42</td>\n",
       "      <td>461</td>\n",
       "      <td>4.3</td>\n",
       "      <td>469.000000</td>\n",
       "      <td>NaN</td>\n",
       "    </tr>\n",
       "    <tr>\n",
       "      <th>4228</th>\n",
       "      <td>104</td>\n",
       "      <td>8617</td>\n",
       "      <td>2089</td>\n",
       "      <td>2896</td>\n",
       "      <td>128</td>\n",
       "      <td>1370</td>\n",
       "      <td>3.7</td>\n",
       "      <td>53.000000</td>\n",
       "      <td>NaN</td>\n",
       "    </tr>\n",
       "    <tr>\n",
       "      <th>4229</th>\n",
       "      <td>104</td>\n",
       "      <td>6485</td>\n",
       "      <td>4580</td>\n",
       "      <td>605</td>\n",
       "      <td>216</td>\n",
       "      <td>642</td>\n",
       "      <td>3.9</td>\n",
       "      <td>419.194254</td>\n",
       "      <td>NaN</td>\n",
       "    </tr>\n",
       "    <tr>\n",
       "      <th>4230</th>\n",
       "      <td>104</td>\n",
       "      <td>2421</td>\n",
       "      <td>3491</td>\n",
       "      <td>2150</td>\n",
       "      <td>40</td>\n",
       "      <td>1148</td>\n",
       "      <td>3.7</td>\n",
       "      <td>63.000000</td>\n",
       "      <td>NaN</td>\n",
       "    </tr>\n",
       "  </tbody>\n",
       "</table>\n",
       "<p>16921 rows × 9 columns</p>\n",
       "</div>"
      ],
      "text/plain": [
       "      TITLE  RESTAURANT_ID  CUISINES  TIME  CITY  LOCALITY  RATING  \\\n",
       "0        34           9438      3294   898   400       328     3.6   \n",
       "1        36          13198       364  2301    75      1214     4.2   \n",
       "2        34          10915      3729   806    75      1272     3.8   \n",
       "3       104           6346      5156   340   277       161     4.1   \n",
       "4        55          15387      2218   750   277       709     3.8   \n",
       "...     ...            ...       ...   ...   ...       ...     ...   \n",
       "4226     34           9057      4259   290   316      1184     3.9   \n",
       "4227     95           1247       785   750    42       461     4.3   \n",
       "4228    104           8617      2089  2896   128      1370     3.7   \n",
       "4229    104           6485      4580   605   216       642     3.9   \n",
       "4230    104           2421      3491  2150    40      1148     3.7   \n",
       "\n",
       "           VOTES    COST  \n",
       "0      49.000000  1200.0  \n",
       "1      30.000000  1500.0  \n",
       "2     221.000000   800.0  \n",
       "3      24.000000   800.0  \n",
       "4     165.000000   300.0  \n",
       "...          ...     ...  \n",
       "4226  287.000000     NaN  \n",
       "4227  469.000000     NaN  \n",
       "4228   53.000000     NaN  \n",
       "4229  419.194254     NaN  \n",
       "4230   63.000000     NaN  \n",
       "\n",
       "[16921 rows x 9 columns]"
      ]
     },
     "execution_count": 23,
     "metadata": {},
     "output_type": "execute_result"
    }
   ],
   "source": [
    "df"
   ]
  },
  {
   "cell_type": "code",
   "execution_count": 24,
   "id": "0ad3d432",
   "metadata": {},
   "outputs": [],
   "source": [
    "df[\"COST\"].fillna(df[\"COST\"].mean(), inplace=True)"
   ]
  },
  {
   "cell_type": "code",
   "execution_count": 25,
   "id": "828b1240",
   "metadata": {},
   "outputs": [
    {
     "data": {
      "text/html": [
       "<div>\n",
       "<style scoped>\n",
       "    .dataframe tbody tr th:only-of-type {\n",
       "        vertical-align: middle;\n",
       "    }\n",
       "\n",
       "    .dataframe tbody tr th {\n",
       "        vertical-align: top;\n",
       "    }\n",
       "\n",
       "    .dataframe thead th {\n",
       "        text-align: right;\n",
       "    }\n",
       "</style>\n",
       "<table border=\"1\" class=\"dataframe\">\n",
       "  <thead>\n",
       "    <tr style=\"text-align: right;\">\n",
       "      <th></th>\n",
       "      <th>TITLE</th>\n",
       "      <th>RESTAURANT_ID</th>\n",
       "      <th>CUISINES</th>\n",
       "      <th>TIME</th>\n",
       "      <th>CITY</th>\n",
       "      <th>LOCALITY</th>\n",
       "      <th>RATING</th>\n",
       "      <th>VOTES</th>\n",
       "      <th>COST</th>\n",
       "    </tr>\n",
       "  </thead>\n",
       "  <tbody>\n",
       "    <tr>\n",
       "      <th>count</th>\n",
       "      <td>16921.000000</td>\n",
       "      <td>16921.000000</td>\n",
       "      <td>16921.000000</td>\n",
       "      <td>16921.000000</td>\n",
       "      <td>16921.000000</td>\n",
       "      <td>16921.000000</td>\n",
       "      <td>16921.000000</td>\n",
       "      <td>16921.000000</td>\n",
       "      <td>16921.000000</td>\n",
       "    </tr>\n",
       "    <tr>\n",
       "      <th>mean</th>\n",
       "      <td>65.004137</td>\n",
       "      <td>7767.211631</td>\n",
       "      <td>2801.322380</td>\n",
       "      <td>1446.928491</td>\n",
       "      <td>178.173808</td>\n",
       "      <td>761.234206</td>\n",
       "      <td>3.795438</td>\n",
       "      <td>419.194254</td>\n",
       "      <td>655.252246</td>\n",
       "    </tr>\n",
       "    <tr>\n",
       "      <th>std</th>\n",
       "      <td>35.875571</td>\n",
       "      <td>4493.287626</td>\n",
       "      <td>1504.771403</td>\n",
       "      <td>925.974559</td>\n",
       "      <td>109.323333</td>\n",
       "      <td>464.107691</td>\n",
       "      <td>0.405681</td>\n",
       "      <td>799.060550</td>\n",
       "      <td>542.979598</td>\n",
       "    </tr>\n",
       "    <tr>\n",
       "      <th>min</th>\n",
       "      <td>0.000000</td>\n",
       "      <td>0.000000</td>\n",
       "      <td>0.000000</td>\n",
       "      <td>0.000000</td>\n",
       "      <td>0.000000</td>\n",
       "      <td>0.000000</td>\n",
       "      <td>2.000000</td>\n",
       "      <td>3.000000</td>\n",
       "      <td>20.000000</td>\n",
       "    </tr>\n",
       "    <tr>\n",
       "      <th>25%</th>\n",
       "      <td>34.000000</td>\n",
       "      <td>3873.000000</td>\n",
       "      <td>1478.000000</td>\n",
       "      <td>681.000000</td>\n",
       "      <td>75.000000</td>\n",
       "      <td>389.000000</td>\n",
       "      <td>3.600000</td>\n",
       "      <td>64.000000</td>\n",
       "      <td>350.000000</td>\n",
       "    </tr>\n",
       "    <tr>\n",
       "      <th>50%</th>\n",
       "      <td>64.000000</td>\n",
       "      <td>7751.000000</td>\n",
       "      <td>3054.000000</td>\n",
       "      <td>1372.000000</td>\n",
       "      <td>160.000000</td>\n",
       "      <td>674.000000</td>\n",
       "      <td>3.900000</td>\n",
       "      <td>202.000000</td>\n",
       "      <td>600.000000</td>\n",
       "    </tr>\n",
       "    <tr>\n",
       "      <th>75%</th>\n",
       "      <td>104.000000</td>\n",
       "      <td>11672.000000</td>\n",
       "      <td>4008.000000</td>\n",
       "      <td>2265.000000</td>\n",
       "      <td>277.000000</td>\n",
       "      <td>1174.000000</td>\n",
       "      <td>4.000000</td>\n",
       "      <td>419.194254</td>\n",
       "      <td>655.252246</td>\n",
       "    </tr>\n",
       "    <tr>\n",
       "      <th>max</th>\n",
       "      <td>122.000000</td>\n",
       "      <td>15573.000000</td>\n",
       "      <td>5182.000000</td>\n",
       "      <td>3294.000000</td>\n",
       "      <td>450.000000</td>\n",
       "      <td>1636.000000</td>\n",
       "      <td>4.900000</td>\n",
       "      <td>41186.000000</td>\n",
       "      <td>14000.000000</td>\n",
       "    </tr>\n",
       "  </tbody>\n",
       "</table>\n",
       "</div>"
      ],
      "text/plain": [
       "              TITLE  RESTAURANT_ID      CUISINES          TIME          CITY  \\\n",
       "count  16921.000000   16921.000000  16921.000000  16921.000000  16921.000000   \n",
       "mean      65.004137    7767.211631   2801.322380   1446.928491    178.173808   \n",
       "std       35.875571    4493.287626   1504.771403    925.974559    109.323333   \n",
       "min        0.000000       0.000000      0.000000      0.000000      0.000000   \n",
       "25%       34.000000    3873.000000   1478.000000    681.000000     75.000000   \n",
       "50%       64.000000    7751.000000   3054.000000   1372.000000    160.000000   \n",
       "75%      104.000000   11672.000000   4008.000000   2265.000000    277.000000   \n",
       "max      122.000000   15573.000000   5182.000000   3294.000000    450.000000   \n",
       "\n",
       "           LOCALITY        RATING         VOTES          COST  \n",
       "count  16921.000000  16921.000000  16921.000000  16921.000000  \n",
       "mean     761.234206      3.795438    419.194254    655.252246  \n",
       "std      464.107691      0.405681    799.060550    542.979598  \n",
       "min        0.000000      2.000000      3.000000     20.000000  \n",
       "25%      389.000000      3.600000     64.000000    350.000000  \n",
       "50%      674.000000      3.900000    202.000000    600.000000  \n",
       "75%     1174.000000      4.000000    419.194254    655.252246  \n",
       "max     1636.000000      4.900000  41186.000000  14000.000000  "
      ]
     },
     "execution_count": 25,
     "metadata": {},
     "output_type": "execute_result"
    }
   ],
   "source": [
    "df.describe()"
   ]
  },
  {
   "cell_type": "code",
   "execution_count": 26,
   "id": "061cc1d7",
   "metadata": {},
   "outputs": [
    {
     "data": {
      "text/plain": [
       "<Axes: >"
      ]
     },
     "execution_count": 26,
     "metadata": {},
     "output_type": "execute_result"
    },
    {
     "data": {
      "image/png": "[encoded data removed]",
      "text/plain": [
       "<Figure size 640x480 with 2 Axes>"
      ]
     },
     "metadata": {},
     "output_type": "display_data"
    }
   ],
   "source": [
    "sns.heatmap(df.corr(), annot=True , fmt=\".1f\")"
   ]
  },
  {
   "cell_type": "code",
   "execution_count": 27,
   "id": "0ea9054f",
   "metadata": {},
   "outputs": [
    {
     "data": {
      "text/plain": [
       "TITLE               Axes(0.125,0.653529;0.227941x0.226471)\n",
       "RESTAURANT_ID    Axes(0.398529,0.653529;0.227941x0.226471)\n",
       "CUISINES         Axes(0.672059,0.653529;0.227941x0.226471)\n",
       "TIME                Axes(0.125,0.381765;0.227941x0.226471)\n",
       "CITY             Axes(0.398529,0.381765;0.227941x0.226471)\n",
       "LOCALITY         Axes(0.672059,0.381765;0.227941x0.226471)\n",
       "RATING                  Axes(0.125,0.11;0.227941x0.226471)\n",
       "VOTES                Axes(0.398529,0.11;0.227941x0.226471)\n",
       "COST                 Axes(0.672059,0.11;0.227941x0.226471)\n",
       "dtype: object"
      ]
     },
     "execution_count": 27,
     "metadata": {},
     "output_type": "execute_result"
    },
    {
     "data": {
      "image/png": "[encoded data removed]",
      "text/plain": [
       "<Figure size 640x480 with 9 Axes>"
      ]
     },
     "metadata": {},
     "output_type": "display_data"
    }
   ],
   "source": [
    "df.plot(kind=\"box\", subplots=True, layout=(3,3))"
   ]
  },
  {
   "cell_type": "code",
   "execution_count": 28,
   "id": "15ee892f",
   "metadata": {},
   "outputs": [
    {
     "data": {
      "text/plain": [
       "<Axes: >"
      ]
     },
     "execution_count": 28,
     "metadata": {},
     "output_type": "execute_result"
    },
    {
     "data": {
      "image/png": "[encoded data removed]",
      "text/plain": [
       "<Figure size 640x480 with 1 Axes>"
      ]
     },
     "metadata": {},
     "output_type": "display_data"
    }
   ],
   "source": [
    "df[\"RATING\"].plot.box()"
   ]
  },
  {
   "cell_type": "code",
   "execution_count": 29,
   "id": "64103780",
   "metadata": {},
   "outputs": [
    {
     "data": {
      "text/plain": [
       "<Axes: >"
      ]
     },
     "execution_count": 29,
     "metadata": {},
     "output_type": "execute_result"
    },
    {
     "data": {
      "image/png": "[encoded data removed]",
      "text/plain": [
       "<Figure size 640x480 with 1 Axes>"
      ]
     },
     "metadata": {},
     "output_type": "display_data"
    }
   ],
   "source": [
    "df[\"COST\"].plot.box()"
   ]
  },
  {
   "cell_type": "code",
   "execution_count": 30,
   "id": "b084edfd",
   "metadata": {},
   "outputs": [
    {
     "data": {
      "text/plain": [
       "<Axes: >"
      ]
     },
     "execution_count": 30,
     "metadata": {},
     "output_type": "execute_result"
    },
    {
     "data": {
      "image/png": "[encoded data removed]",
      "text/plain": [
       "<Figure size 640x480 with 1 Axes>"
      ]
     },
     "metadata": {},
     "output_type": "display_data"
    }
   ],
   "source": [
    "df[\"VOTES\"].plot.box()"
   ]
  },
  {
   "cell_type": "code",
   "execution_count": 31,
   "id": "1b3b2cb8",
   "metadata": {},
   "outputs": [
    {
     "name": "stdout",
     "output_type": "stream",
     "text": [
      "(array([   68,    84,   159,   186,   196,   208,   293,   303,   304,\n",
      "         308,   337,   344,   354,   379,   422,   431,   469,   502,\n",
      "         510,   563,   599,   637,   672,   688,   731,   770,   775,\n",
      "         796,   839,   852,   855,   872,   897,   913,   933,   966,\n",
      "         967,   973,  1008,  1020,  1034,  1038,  1078,  1132,  1133,\n",
      "        1147,  1151,  1193,  1244,  1288,  1345,  1346,  1395,  1467,\n",
      "        1470,  1475,  1476,  1519,  1522,  1540,  1589,  1594,  1617,\n",
      "        1632,  1652,  1657,  1681,  1685,  1752,  1759,  1773,  1778,\n",
      "        1816,  1828,  1850,  1878,  1884,  1916,  1930,  1931,  1973,\n",
      "        2068,  2090,  2100,  2111,  2116,  2123,  2130,  2144,  2188,\n",
      "        2204,  2205,  2207,  2247,  2258,  2268,  2290,  2302,  2305,\n",
      "        2305,  2333,  2339,  2349,  2369,  2459,  2488,  2523,  2531,\n",
      "        2565,  2604,  2610,  2622,  2683,  2686,  2689,  2695,  2740,\n",
      "        2778,  2839,  2886,  2905,  2921,  2940,  2969,  2973,  2977,\n",
      "        3002,  3028,  3033,  3033,  3036,  3049,  3137,  3170,  3197,\n",
      "        3206,  3211,  3289,  3289,  3309,  3333,  3338,  3396,  3397,\n",
      "        3398,  3408,  3465,  3483,  3491,  3492,  3507,  3526,  3528,\n",
      "        3532,  3554,  3578,  3587,  3603,  3688,  3692,  3704,  3706,\n",
      "        3715,  3728,  3730,  3773,  3841,  3847,  3855,  3862,  3877,\n",
      "        3885,  3891,  3896,  3905,  3909,  3942,  3952,  3953,  3962,\n",
      "        3974,  3987,  4042,  4085,  4114,  4124,  4147,  4152,  4192,\n",
      "        4193,  4224,  4268,  4273,  4279,  4285,  4288,  4298,  4315,\n",
      "        4323,  4367,  4391,  4401,  4409,  4470,  4490,  4494,  4503,\n",
      "        4512,  4524,  4554,  4557,  4558,  4563,  4578,  4592,  4618,\n",
      "        4628,  4634,  4636,  4647,  4658,  4659,  4691,  4693,  4708,\n",
      "        4709,  4728,  4731,  4737,  4753,  4760,  4768,  4855,  4868,\n",
      "        4904,  4931,  4947,  4987,  5012,  5078,  5098,  5108,  5133,\n",
      "        5140,  5159,  5173,  5202,  5205,  5225,  5257,  5264,  5375,\n",
      "        5384,  5401,  5492,  5502,  5507,  5531,  5588,  5590,  5594,\n",
      "        5629,  5662,  5665,  5682,  5721,  5774,  5792,  5836,  5841,\n",
      "        5843,  5859,  5874,  5880,  5897,  5934,  5944,  5947,  5969,\n",
      "        5975,  5987,  5996,  6005,  6020,  6024,  6136,  6142,  6147,\n",
      "        6165,  6303,  6337,  6343,  6390,  6421,  6443,  6445,  6446,\n",
      "        6448,  6472,  6475,  6486,  6496,  6505,  6506,  6519,  6522,\n",
      "        6592,  6608,  6626,  6640,  6644,  6649,  6684,  6690,  6714,\n",
      "        6722,  6760,  6804,  6867,  6878,  6922,  6949,  6952,  6982,\n",
      "        6997,  7028,  7034,  7034,  7045,  7059,  7073,  7078,  7092,\n",
      "        7173,  7189,  7202,  7241,  7242,  7259,  7262,  7275,  7310,\n",
      "        7316,  7362,  7369,  7442,  7459,  7494,  7504,  7572,  7613,\n",
      "        7626,  7630,  7652,  7755,  7758,  7784,  7789,  7808,  7813,\n",
      "        7822,  7830,  7883,  7901,  7986,  7988,  7997,  8000,  8009,\n",
      "        8065,  8070,  8078,  8094,  8106,  8123,  8143,  8164,  8184,\n",
      "        8219,  8222,  8234,  8308,  8311,  8341,  8370,  8400,  8442,\n",
      "        8448,  8459,  8472,  8509,  8510,  8577,  8578,  8598,  8606,\n",
      "        8630,  8649,  8659,  8673,  8674,  8680,  8709,  8793,  8797,\n",
      "        8801,  8837,  8839,  8851,  8907,  8925,  8941,  8965,  9008,\n",
      "        9017,  9022,  9022,  9067,  9069,  9074,  9088,  9100,  9124,\n",
      "        9124,  9132,  9141,  9192,  9200,  9227,  9264,  9272,  9281,\n",
      "        9288,  9300,  9330,  9389,  9463,  9546,  9552,  9570,  9575,\n",
      "        9577,  9580,  9586,  9609,  9616,  9617,  9659,  9701,  9702,\n",
      "        9734,  9752,  9763,  9770,  9775,  9783,  9809,  9818,  9828,\n",
      "        9830,  9875,  9876,  9878,  9879,  9884,  9894,  9903,  9934,\n",
      "        9941,  9963,  9998, 10043, 10065, 10065, 10068, 10143, 10168,\n",
      "       10168, 10175, 10198, 10219, 10221, 10257, 10266, 10275, 10278,\n",
      "       10280, 10320, 10345, 10364, 10365, 10380, 10394, 10465, 10467,\n",
      "       10480, 10480, 10538, 10546, 10568, 10571, 10589, 10628, 10629,\n",
      "       10635, 10636, 10677, 10727, 10736, 10749, 10751, 10760, 10769,\n",
      "       10816, 10863, 10868, 10893, 10895, 10898, 10907, 10948, 10950,\n",
      "       10992, 11021, 11021, 11050, 11073, 11125, 11129, 11130, 11146,\n",
      "       11147, 11158, 11169, 11170, 11179, 11197, 11216, 11232, 11262,\n",
      "       11266, 11269, 11295, 11308, 11311, 11361, 11373, 11377, 11410,\n",
      "       11410, 11441, 11457, 11473, 11475, 11488, 11521, 11534, 11558,\n",
      "       11568, 11589, 11595, 11657, 11704, 11712, 11714, 11743, 11785,\n",
      "       11786, 11798, 11800, 11804, 11847, 11861, 11899, 11904, 11926,\n",
      "       11936, 11943, 11954, 11972, 12021, 12050, 12083, 12090, 12120,\n",
      "       12138, 12140, 12143, 12196, 12236, 12271, 12271, 12318, 12338,\n",
      "       12352, 12360, 12413, 12422, 12426, 12472, 12506, 12562, 12609,\n",
      "       12628, 12650, 12668, 12721, 12768, 12773, 12776, 12782, 12972,\n",
      "       13067, 13169, 13224, 13406, 13420, 13449, 13453, 13494, 13565,\n",
      "       13570, 13578, 13622, 13677, 13783, 13788, 13801, 13820, 13837,\n",
      "       13846, 13863, 13991, 13998, 14004, 14014, 14157, 14196, 14240,\n",
      "       14310, 14339, 14349, 14382, 14441, 14475, 14479, 14486, 14560,\n",
      "       14609, 14688, 14709, 14783, 14811, 14820, 14830, 14868, 14884,\n",
      "       14905, 14972, 14994, 15005, 15016, 15045, 15047, 15053, 15105,\n",
      "       15176, 15180, 15284, 15329, 15331, 15347, 15387, 15439, 15461,\n",
      "       15488, 15524, 15533, 15540, 15601, 15630, 15652, 15705, 15731,\n",
      "       15819, 15820, 15899, 15919, 15969, 16007, 16011, 16076, 16132,\n",
      "       16133, 16191, 16210, 16244, 16373, 16393, 16418, 16424, 16478,\n",
      "       16533, 16547, 16640, 16696, 16757, 16809, 16814, 16841, 16853],\n",
      "      dtype=int64), array([8, 8, 6, 7, 7, 8, 7, 7, 7, 8, 8, 7, 7, 8, 8, 7, 8, 8, 7, 8, 6, 8,\n",
      "       6, 8, 8, 8, 7, 7, 8, 7, 7, 7, 8, 7, 8, 8, 8, 8, 6, 6, 7, 7, 8, 7,\n",
      "       8, 7, 7, 8, 7, 8, 8, 7, 8, 7, 8, 8, 7, 8, 7, 7, 8, 8, 7, 8, 8, 8,\n",
      "       7, 7, 8, 8, 6, 8, 6, 8, 7, 8, 8, 8, 8, 8, 6, 6, 7, 8, 8, 8, 8, 8,\n",
      "       8, 6, 7, 8, 8, 8, 8, 7, 8, 7, 7, 8, 8, 8, 8, 8, 8, 8, 8, 8, 8, 8,\n",
      "       8, 8, 8, 8, 8, 8, 8, 6, 8, 7, 7, 6, 8, 6, 8, 7, 8, 7, 7, 8, 8, 8,\n",
      "       8, 6, 8, 6, 8, 7, 8, 8, 7, 8, 8, 6, 7, 7, 8, 6, 6, 8, 7, 8, 6, 8,\n",
      "       8, 7, 7, 8, 8, 8, 8, 7, 8, 7, 8, 8, 7, 8, 7, 8, 7, 8, 8, 8, 8, 7,\n",
      "       8, 7, 8, 8, 7, 7, 6, 8, 8, 7, 8, 8, 7, 7, 8, 7, 8, 8, 8, 8, 8, 6,\n",
      "       8, 7, 6, 6, 6, 7, 8, 8, 8, 7, 8, 8, 7, 8, 6, 7, 7, 7, 7, 7, 8, 7,\n",
      "       7, 8, 7, 8, 8, 7, 8, 8, 8, 8, 7, 7, 7, 8, 8, 8, 7, 7, 6, 7, 8, 8,\n",
      "       8, 7, 8, 8, 8, 8, 8, 7, 8, 7, 8, 6, 7, 7, 8, 6, 8, 6, 7, 7, 7, 8,\n",
      "       6, 8, 7, 7, 7, 8, 8, 8, 8, 7, 7, 8, 8, 6, 7, 8, 8, 7, 7, 8, 8, 8,\n",
      "       7, 8, 8, 6, 8, 8, 7, 7, 8, 6, 7, 7, 7, 8, 6, 7, 8, 7, 7, 8, 6, 7,\n",
      "       6, 8, 8, 7, 7, 7, 7, 6, 7, 8, 6, 7, 7, 8, 8, 7, 8, 7, 7, 8, 6, 7,\n",
      "       8, 8, 8, 8, 7, 7, 6, 6, 8, 7, 8, 8, 8, 8, 8, 8, 7, 7, 8, 8, 8, 7,\n",
      "       8, 8, 6, 8, 8, 6, 8, 6, 8, 8, 8, 8, 8, 7, 7, 8, 7, 8, 8, 8, 8, 8,\n",
      "       7, 8, 8, 8, 6, 8, 8, 8, 8, 8, 8, 7, 8, 7, 7, 8, 7, 7, 8, 7, 8, 8,\n",
      "       7, 8, 8, 8, 7, 8, 8, 8, 7, 6, 8, 8, 8, 8, 7, 6, 8, 8, 7, 7, 8, 8,\n",
      "       8, 8, 8, 8, 7, 8, 8, 6, 8, 7, 7, 6, 6, 7, 8, 7, 6, 8, 8, 7, 7, 6,\n",
      "       6, 7, 8, 8, 8, 7, 8, 6, 8, 7, 6, 8, 8, 8, 8, 7, 7, 8, 8, 8, 6, 7,\n",
      "       7, 8, 8, 8, 8, 8, 7, 8, 8, 8, 7, 8, 8, 8, 7, 8, 8, 8, 7, 7, 8, 7,\n",
      "       8, 8, 8, 8, 8, 8, 7, 7, 8, 7, 8, 7, 8, 7, 8, 7, 8, 8, 7, 7, 6, 8,\n",
      "       8, 7, 7, 8, 6, 6, 8, 8, 7, 7, 8, 7, 7, 8, 8, 8, 8, 7, 8, 6, 7, 7,\n",
      "       8, 8, 8, 8, 8, 8, 7, 7, 7, 7, 8, 6, 8, 8, 7, 8, 6, 6, 7, 8, 7, 8,\n",
      "       7, 8, 8, 8, 8, 8, 8, 6, 8, 6, 6, 7, 8, 8, 8, 8, 8, 7, 8, 8, 8, 8,\n",
      "       7, 6, 7, 8, 8, 8, 7, 8, 7, 7, 7, 8, 7, 7, 8, 7, 7, 7, 7, 8, 8, 7,\n",
      "       8, 7, 8, 8, 8, 8, 7, 8, 8, 7, 8, 8, 7, 6, 7, 7, 7, 7, 7, 7, 7, 6,\n",
      "       7, 7, 7, 7, 6, 7, 6, 6, 7, 7, 7, 7, 6, 7, 7, 6, 6, 6, 7, 7, 6, 6,\n",
      "       6, 6, 6, 6, 7, 7, 6, 7, 6, 7, 6, 7, 7, 7, 6, 7, 7, 6, 7, 7, 6, 7,\n",
      "       6, 7, 7, 6, 7, 7, 7, 6, 6, 7, 7, 7, 7, 7, 7, 7, 7, 7, 7, 7, 7, 7,\n",
      "       7, 7, 7, 6, 7, 6, 7, 7, 6, 6, 7, 7, 7, 7, 6, 7, 7, 7, 7, 6, 6, 6,\n",
      "       7, 7, 7, 7, 7, 7, 7], dtype=int64))\n"
     ]
    }
   ],
   "source": [
    "from scipy.stats import zscore\n",
    "z=np.abs(zscore(df))   \n",
    "z\n",
    "threshold = 3\n",
    "print(np.where(z>3))"
   ]
  },
  {
   "cell_type": "code",
   "execution_count": 32,
   "id": "b2c89ea6",
   "metadata": {},
   "outputs": [
    {
     "data": {
      "text/plain": [
       "<Axes: ylabel='Frequency'>"
      ]
     },
     "execution_count": 32,
     "metadata": {},
     "output_type": "execute_result"
    },
    {
     "data": {
      "image/png": "[encoded data removed]",
      "text/plain": [
       "<Figure size 640x480 with 1 Axes>"
      ]
     },
     "metadata": {},
     "output_type": "display_data"
    }
   ],
   "source": [
    "df[\"VOTES\"].plot.hist()"
   ]
  },
  {
   "cell_type": "code",
   "execution_count": 33,
   "id": "e1e05f79",
   "metadata": {},
   "outputs": [
    {
     "data": {
      "text/plain": [
       "<Axes: ylabel='Frequency'>"
      ]
     },
     "execution_count": 33,
     "metadata": {},
     "output_type": "execute_result"
    },
    {
     "data": {
      "image/png": "[encoded data removed]",
      "text/plain": [
       "<Figure size 640x480 with 1 Axes>"
      ]
     },
     "metadata": {},
     "output_type": "display_data"
    }
   ],
   "source": [
    "df[\"RATING\"].plot.hist()"
   ]
  },
  {
   "cell_type": "code",
   "execution_count": 34,
   "id": "38f99fb0",
   "metadata": {},
   "outputs": [
    {
     "data": {
      "text/plain": [
       "<Axes: ylabel='Frequency'>"
      ]
     },
     "execution_count": 34,
     "metadata": {},
     "output_type": "execute_result"
    },
    {
     "data": {
      "image/png": "[encoded data removed]",
      "text/plain": [
       "<Figure size 640x480 with 1 Axes>"
      ]
     },
     "metadata": {},
     "output_type": "display_data"
    }
   ],
   "source": [
    "df[\"COST\"].plot.hist()"
   ]
  },
  {
   "cell_type": "code",
   "execution_count": 35,
   "id": "5c732dbe",
   "metadata": {},
   "outputs": [],
   "source": [
    "from scipy.stats import boxcox\n",
    "df[\"RATING\"] = boxcox(df[\"RATING\"],0)\n",
    "df[\"VOTES\"] = boxcox(df[\"VOTES\"],0)\n",
    "df[\"COST\"] = boxcox(df[\"COST\"],0)"
   ]
  },
  {
   "cell_type": "code",
   "execution_count": 36,
   "id": "0a946721",
   "metadata": {},
   "outputs": [
    {
     "data": {
      "text/plain": [
       "<Axes: ylabel='Frequency'>"
      ]
     },
     "execution_count": 36,
     "metadata": {},
     "output_type": "execute_result"
    },
    {
     "data": {
      "image/png": "[encoded data removed]",
      "text/plain": [
       "<Figure size 640x480 with 1 Axes>"
      ]
     },
     "metadata": {},
     "output_type": "display_data"
    }
   ],
   "source": [
    "df[\"RATING\"].plot.hist()"
   ]
  },
  {
   "cell_type": "code",
   "execution_count": 37,
   "id": "9a76ea8a",
   "metadata": {},
   "outputs": [
    {
     "data": {
      "text/plain": [
       "<Axes: ylabel='Frequency'>"
      ]
     },
     "execution_count": 37,
     "metadata": {},
     "output_type": "execute_result"
    },
    {
     "data": {
      "image/png": "[encoded data removed]",
      "text/plain": [
       "<Figure size 640x480 with 1 Axes>"
      ]
     },
     "metadata": {},
     "output_type": "display_data"
    }
   ],
   "source": [
    "df[\"VOTES\"].plot.hist()"
   ]
  },
  {
   "cell_type": "code",
   "execution_count": 38,
   "id": "ffbb930f",
   "metadata": {},
   "outputs": [
    {
     "data": {
      "text/plain": [
       "<Axes: ylabel='Frequency'>"
      ]
     },
     "execution_count": 38,
     "metadata": {},
     "output_type": "execute_result"
    },
    {
     "data": {
      "image/png": "[encoded data removed]",
      "text/plain": [
       "<Figure size 640x480 with 1 Axes>"
      ]
     },
     "metadata": {},
     "output_type": "display_data"
    }
   ],
   "source": [
    "df[\"COST\"].plot.hist()"
   ]
  },
  {
   "cell_type": "code",
   "execution_count": 39,
   "id": "3773ab62",
   "metadata": {},
   "outputs": [
    {
     "data": {
      "text/plain": [
       "<matplotlib.collections.PathCollection at 0x223f7501a10>"
      ]
     },
     "execution_count": 39,
     "metadata": {},
     "output_type": "execute_result"
    },
    {
     "data": {
      "image/png": "[encoded data removed]",
      "text/plain": [
       "<Figure size 640x480 with 1 Axes>"
      ]
     },
     "metadata": {},
     "output_type": "display_data"
    }
   ],
   "source": [
    "plt.scatter(df[\"RATING\"],df[\"COST\"])"
   ]
  },
  {
   "cell_type": "code",
   "execution_count": 40,
   "id": "40f4921e",
   "metadata": {},
   "outputs": [
    {
     "data": {
      "text/plain": [
       "<matplotlib.collections.PathCollection at 0x223f75497d0>"
      ]
     },
     "execution_count": 40,
     "metadata": {},
     "output_type": "execute_result"
    },
    {
     "data": {
      "image/png": "[encoded data removed]",
      "text/plain": [
       "<Figure size 640x480 with 1 Axes>"
      ]
     },
     "metadata": {},
     "output_type": "display_data"
    }
   ],
   "source": [
    "plt.scatter(df[\"COST\"],df[\"VOTES\"])"
   ]
  },
  {
   "cell_type": "code",
   "execution_count": 41,
   "id": "16bd35d5",
   "metadata": {},
   "outputs": [
    {
     "data": {
      "text/html": [
       "<div>\n",
       "<style scoped>\n",
       "    .dataframe tbody tr th:only-of-type {\n",
       "        vertical-align: middle;\n",
       "    }\n",
       "\n",
       "    .dataframe tbody tr th {\n",
       "        vertical-align: top;\n",
       "    }\n",
       "\n",
       "    .dataframe thead th {\n",
       "        text-align: right;\n",
       "    }\n",
       "</style>\n",
       "<table border=\"1\" class=\"dataframe\">\n",
       "  <thead>\n",
       "    <tr style=\"text-align: right;\">\n",
       "      <th></th>\n",
       "      <th>TITLE</th>\n",
       "      <th>CUISINES</th>\n",
       "      <th>TIME</th>\n",
       "      <th>CITY</th>\n",
       "      <th>LOCALITY</th>\n",
       "      <th>RATING</th>\n",
       "      <th>VOTES</th>\n",
       "    </tr>\n",
       "  </thead>\n",
       "  <tbody>\n",
       "    <tr>\n",
       "      <th>0</th>\n",
       "      <td>34</td>\n",
       "      <td>3294</td>\n",
       "      <td>898</td>\n",
       "      <td>400</td>\n",
       "      <td>328</td>\n",
       "      <td>1.280934</td>\n",
       "      <td>3.891820</td>\n",
       "    </tr>\n",
       "    <tr>\n",
       "      <th>1</th>\n",
       "      <td>36</td>\n",
       "      <td>364</td>\n",
       "      <td>2301</td>\n",
       "      <td>75</td>\n",
       "      <td>1214</td>\n",
       "      <td>1.435085</td>\n",
       "      <td>3.401197</td>\n",
       "    </tr>\n",
       "    <tr>\n",
       "      <th>2</th>\n",
       "      <td>34</td>\n",
       "      <td>3729</td>\n",
       "      <td>806</td>\n",
       "      <td>75</td>\n",
       "      <td>1272</td>\n",
       "      <td>1.335001</td>\n",
       "      <td>5.398163</td>\n",
       "    </tr>\n",
       "    <tr>\n",
       "      <th>3</th>\n",
       "      <td>104</td>\n",
       "      <td>5156</td>\n",
       "      <td>340</td>\n",
       "      <td>277</td>\n",
       "      <td>161</td>\n",
       "      <td>1.410987</td>\n",
       "      <td>3.178054</td>\n",
       "    </tr>\n",
       "    <tr>\n",
       "      <th>4</th>\n",
       "      <td>55</td>\n",
       "      <td>2218</td>\n",
       "      <td>750</td>\n",
       "      <td>277</td>\n",
       "      <td>709</td>\n",
       "      <td>1.335001</td>\n",
       "      <td>5.105945</td>\n",
       "    </tr>\n",
       "    <tr>\n",
       "      <th>...</th>\n",
       "      <td>...</td>\n",
       "      <td>...</td>\n",
       "      <td>...</td>\n",
       "      <td>...</td>\n",
       "      <td>...</td>\n",
       "      <td>...</td>\n",
       "      <td>...</td>\n",
       "    </tr>\n",
       "    <tr>\n",
       "      <th>4226</th>\n",
       "      <td>34</td>\n",
       "      <td>4259</td>\n",
       "      <td>290</td>\n",
       "      <td>316</td>\n",
       "      <td>1184</td>\n",
       "      <td>1.360977</td>\n",
       "      <td>5.659482</td>\n",
       "    </tr>\n",
       "    <tr>\n",
       "      <th>4227</th>\n",
       "      <td>95</td>\n",
       "      <td>785</td>\n",
       "      <td>750</td>\n",
       "      <td>42</td>\n",
       "      <td>461</td>\n",
       "      <td>1.458615</td>\n",
       "      <td>6.150603</td>\n",
       "    </tr>\n",
       "    <tr>\n",
       "      <th>4228</th>\n",
       "      <td>104</td>\n",
       "      <td>2089</td>\n",
       "      <td>2896</td>\n",
       "      <td>128</td>\n",
       "      <td>1370</td>\n",
       "      <td>1.308333</td>\n",
       "      <td>3.970292</td>\n",
       "    </tr>\n",
       "    <tr>\n",
       "      <th>4229</th>\n",
       "      <td>104</td>\n",
       "      <td>4580</td>\n",
       "      <td>605</td>\n",
       "      <td>216</td>\n",
       "      <td>642</td>\n",
       "      <td>1.360977</td>\n",
       "      <td>6.038334</td>\n",
       "    </tr>\n",
       "    <tr>\n",
       "      <th>4230</th>\n",
       "      <td>104</td>\n",
       "      <td>3491</td>\n",
       "      <td>2150</td>\n",
       "      <td>40</td>\n",
       "      <td>1148</td>\n",
       "      <td>1.308333</td>\n",
       "      <td>4.143135</td>\n",
       "    </tr>\n",
       "  </tbody>\n",
       "</table>\n",
       "<p>16921 rows × 7 columns</p>\n",
       "</div>"
      ],
      "text/plain": [
       "      TITLE  CUISINES  TIME  CITY  LOCALITY    RATING     VOTES\n",
       "0        34      3294   898   400       328  1.280934  3.891820\n",
       "1        36       364  2301    75      1214  1.435085  3.401197\n",
       "2        34      3729   806    75      1272  1.335001  5.398163\n",
       "3       104      5156   340   277       161  1.410987  3.178054\n",
       "4        55      2218   750   277       709  1.335001  5.105945\n",
       "...     ...       ...   ...   ...       ...       ...       ...\n",
       "4226     34      4259   290   316      1184  1.360977  5.659482\n",
       "4227     95       785   750    42       461  1.458615  6.150603\n",
       "4228    104      2089  2896   128      1370  1.308333  3.970292\n",
       "4229    104      4580   605   216       642  1.360977  6.038334\n",
       "4230    104      3491  2150    40      1148  1.308333  4.143135\n",
       "\n",
       "[16921 rows x 7 columns]"
      ]
     },
     "execution_count": 41,
     "metadata": {},
     "output_type": "execute_result"
    }
   ],
   "source": [
    "x = df.drop([\"COST\",\"RESTAURANT_ID\"], axis=1)\n",
    "x"
   ]
  },
  {
   "cell_type": "code",
   "execution_count": 42,
   "id": "c48a768b",
   "metadata": {},
   "outputs": [
    {
     "data": {
      "text/plain": [
       "0       7.090077\n",
       "1       7.313220\n",
       "2       6.684612\n",
       "3       6.684612\n",
       "4       5.703782\n",
       "          ...   \n",
       "4226    6.485020\n",
       "4227    6.485020\n",
       "4228    6.485020\n",
       "4229    6.485020\n",
       "4230    6.485020\n",
       "Name: COST, Length: 16921, dtype: float64"
      ]
     },
     "execution_count": 42,
     "metadata": {},
     "output_type": "execute_result"
    }
   ],
   "source": [
    "y = df[\"COST\"]\n",
    "y"
   ]
  },
  {
   "cell_type": "code",
   "execution_count": 43,
   "id": "996b2456",
   "metadata": {},
   "outputs": [],
   "source": [
    "from sklearn.model_selection import train_test_split\n",
    "x_train , x_test , y_train , y_test = train_test_split(x , y ,test_size=0.2, random_state=42)"
   ]
  },
  {
   "cell_type": "code",
   "execution_count": 44,
   "id": "fa2e991f",
   "metadata": {},
   "outputs": [
    {
     "data": {
      "text/plain": [
       "((13536, 7), (3385, 7), (13536,), (3385,))"
      ]
     },
     "execution_count": 44,
     "metadata": {},
     "output_type": "execute_result"
    }
   ],
   "source": [
    "x_train.shape , x_test.shape , y_train.shape , y_test.shape"
   ]
  },
  {
   "cell_type": "code",
   "execution_count": 45,
   "id": "9cf82772",
   "metadata": {},
   "outputs": [
    {
     "data": {
      "text/html": [
       "<style>#sk-container-id-1 {color: black;}#sk-container-id-1 pre{padding: 0;}#sk-container-id-1 div.sk-toggleable {background-color: white;}#sk-container-id-1 label.sk-toggleable__label {cursor: pointer;display: block;width: 100%;margin-bottom: 0;padding: 0.3em;box-sizing: border-box;text-align: center;}#sk-container-id-1 label.sk-toggleable__label-arrow:before {content: \"▸\";float: left;margin-right: 0.25em;color: #696969;}#sk-container-id-1 label.sk-toggleable__label-arrow:hover:before {color: black;}#sk-container-id-1 div.sk-estimator:hover label.sk-toggleable__label-arrow:before {color: black;}#sk-container-id-1 div.sk-toggleable__content {max-height: 0;max-width: 0;overflow: hidden;text-align: left;background-color: #f0f8ff;}#sk-container-id-1 div.sk-toggleable__content pre {margin: 0.2em;color: black;border-radius: 0.25em;background-color: #f0f8ff;}#sk-container-id-1 input.sk-toggleable__control:checked~div.sk-toggleable__content {max-height: 200px;max-width: 100%;overflow: auto;}#sk-container-id-1 input.sk-toggleable__control:checked~label.sk-toggleable__label-arrow:before {content: \"▾\";}#sk-container-id-1 div.sk-estimator input.sk-toggleable__control:checked~label.sk-toggleable__label {background-color: #d4ebff;}#sk-container-id-1 div.sk-label input.sk-toggleable__control:checked~label.sk-toggleable__label {background-color: #d4ebff;}#sk-container-id-1 input.sk-hidden--visually {border: 0;clip: rect(1px 1px 1px 1px);clip: rect(1px, 1px, 1px, 1px);height: 1px;margin: -1px;overflow: hidden;padding: 0;position: absolute;width: 1px;}#sk-container-id-1 div.sk-estimator {font-family: monospace;background-color: #f0f8ff;border: 1px dotted black;border-radius: 0.25em;box-sizing: border-box;margin-bottom: 0.5em;}#sk-container-id-1 div.sk-estimator:hover {background-color: #d4ebff;}#sk-container-id-1 div.sk-parallel-item::after {content: \"\";width: 100%;border-bottom: 1px solid gray;flex-grow: 1;}#sk-container-id-1 div.sk-label:hover label.sk-toggleable__label {background-color: #d4ebff;}#sk-container-id-1 div.sk-serial::before {content: \"\";position: absolute;border-left: 1px solid gray;box-sizing: border-box;top: 0;bottom: 0;left: 50%;z-index: 0;}#sk-container-id-1 div.sk-serial {display: flex;flex-direction: column;align-items: center;background-color: white;padding-right: 0.2em;padding-left: 0.2em;position: relative;}#sk-container-id-1 div.sk-item {position: relative;z-index: 1;}#sk-container-id-1 div.sk-parallel {display: flex;align-items: stretch;justify-content: center;background-color: white;position: relative;}#sk-container-id-1 div.sk-item::before, #sk-container-id-1 div.sk-parallel-item::before {content: \"\";position: absolute;border-left: 1px solid gray;box-sizing: border-box;top: 0;bottom: 0;left: 50%;z-index: -1;}#sk-container-id-1 div.sk-parallel-item {display: flex;flex-direction: column;z-index: 1;position: relative;background-color: white;}#sk-container-id-1 div.sk-parallel-item:first-child::after {align-self: flex-end;width: 50%;}#sk-container-id-1 div.sk-parallel-item:last-child::after {align-self: flex-start;width: 50%;}#sk-container-id-1 div.sk-parallel-item:only-child::after {width: 0;}#sk-container-id-1 div.sk-dashed-wrapped {border: 1px dashed gray;margin: 0 0.4em 0.5em 0.4em;box-sizing: border-box;padding-bottom: 0.4em;background-color: white;}#sk-container-id-1 div.sk-label label {font-family: monospace;font-weight: bold;display: inline-block;line-height: 1.2em;}#sk-container-id-1 div.sk-label-container {text-align: center;}#sk-container-id-1 div.sk-container {/* jupyter's `normalize.less` sets `[hidden] { display: none; }` but bootstrap.min.css set `[hidden] { display: none !important; }` so we also need the `!important` here to be able to override the default hidden behavior on the sphinx rendered scikit-learn.org. See: https://github.com/scikit-learn/scikit-learn/issues/21755 */display: inline-block !important;position: relative;}#sk-container-id-1 div.sk-text-repr-fallback {display: none;}</style><div id=\"sk-container-id-1\" class=\"sk-top-container\"><div class=\"sk-text-repr-fallback\"><pre>LinearRegression()</pre><b>In a Jupyter environment, please rerun this cell to show the HTML representation or trust the notebook. <br />On GitHub, the HTML representation is unable to render, please try loading this page with nbviewer.org.</b></div><div class=\"sk-container\" hidden><div class=\"sk-item\"><div class=\"sk-estimator sk-toggleable\"><input class=\"sk-toggleable__control sk-hidden--visually\" id=\"sk-estimator-id-1\" type=\"checkbox\" checked><label for=\"sk-estimator-id-1\" class=\"sk-toggleable__label sk-toggleable__label-arrow\">LinearRegression</label><div class=\"sk-toggleable__content\"><pre>LinearRegression()</pre></div></div></div></div></div>"
      ],
      "text/plain": [
       "LinearRegression()"
      ]
     },
     "execution_count": 45,
     "metadata": {},
     "output_type": "execute_result"
    }
   ],
   "source": [
    "from sklearn import metrics\n",
    "from sklearn.linear_model import LinearRegression\n",
    "lr=LinearRegression()\n",
    "lr.fit(x_train , y_train)"
   ]
  },
  {
   "cell_type": "code",
   "execution_count": 46,
   "id": "94b71335",
   "metadata": {},
   "outputs": [
    {
     "data": {
      "text/plain": [
       "array([6.69191653, 6.39447805, 6.15380027, ..., 5.96327136, 6.37824895,\n",
       "       6.71356185])"
      ]
     },
     "execution_count": 46,
     "metadata": {},
     "output_type": "execute_result"
    }
   ],
   "source": [
    "pred_lr = lr.predict(x_test)\n",
    "pred_lr"
   ]
  },
  {
   "cell_type": "code",
   "execution_count": 47,
   "id": "9ce0a1a9",
   "metadata": {},
   "outputs": [
    {
     "data": {
      "text/plain": [
       "0.18215584481385183"
      ]
     },
     "execution_count": 47,
     "metadata": {},
     "output_type": "execute_result"
    }
   ],
   "source": [
    "sc_lr = metrics.r2_score(y_test , pred_lr)\n",
    "sc_lr"
   ]
  },
  {
   "cell_type": "code",
   "execution_count": 48,
   "id": "5daec06c",
   "metadata": {},
   "outputs": [
    {
     "data": {
      "text/html": [
       "<style>#sk-container-id-2 {color: black;}#sk-container-id-2 pre{padding: 0;}#sk-container-id-2 div.sk-toggleable {background-color: white;}#sk-container-id-2 label.sk-toggleable__label {cursor: pointer;display: block;width: 100%;margin-bottom: 0;padding: 0.3em;box-sizing: border-box;text-align: center;}#sk-container-id-2 label.sk-toggleable__label-arrow:before {content: \"▸\";float: left;margin-right: 0.25em;color: #696969;}#sk-container-id-2 label.sk-toggleable__label-arrow:hover:before {color: black;}#sk-container-id-2 div.sk-estimator:hover label.sk-toggleable__label-arrow:before {color: black;}#sk-container-id-2 div.sk-toggleable__content {max-height: 0;max-width: 0;overflow: hidden;text-align: left;background-color: #f0f8ff;}#sk-container-id-2 div.sk-toggleable__content pre {margin: 0.2em;color: black;border-radius: 0.25em;background-color: #f0f8ff;}#sk-container-id-2 input.sk-toggleable__control:checked~div.sk-toggleable__content {max-height: 200px;max-width: 100%;overflow: auto;}#sk-container-id-2 input.sk-toggleable__control:checked~label.sk-toggleable__label-arrow:before {content: \"▾\";}#sk-container-id-2 div.sk-estimator input.sk-toggleable__control:checked~label.sk-toggleable__label {background-color: #d4ebff;}#sk-container-id-2 div.sk-label input.sk-toggleable__control:checked~label.sk-toggleable__label {background-color: #d4ebff;}#sk-container-id-2 input.sk-hidden--visually {border: 0;clip: rect(1px 1px 1px 1px);clip: rect(1px, 1px, 1px, 1px);height: 1px;margin: -1px;overflow: hidden;padding: 0;position: absolute;width: 1px;}#sk-container-id-2 div.sk-estimator {font-family: monospace;background-color: #f0f8ff;border: 1px dotted black;border-radius: 0.25em;box-sizing: border-box;margin-bottom: 0.5em;}#sk-container-id-2 div.sk-estimator:hover {background-color: #d4ebff;}#sk-container-id-2 div.sk-parallel-item::after {content: \"\";width: 100%;border-bottom: 1px solid gray;flex-grow: 1;}#sk-container-id-2 div.sk-label:hover label.sk-toggleable__label {background-color: #d4ebff;}#sk-container-id-2 div.sk-serial::before {content: \"\";position: absolute;border-left: 1px solid gray;box-sizing: border-box;top: 0;bottom: 0;left: 50%;z-index: 0;}#sk-container-id-2 div.sk-serial {display: flex;flex-direction: column;align-items: center;background-color: white;padding-right: 0.2em;padding-left: 0.2em;position: relative;}#sk-container-id-2 div.sk-item {position: relative;z-index: 1;}#sk-container-id-2 div.sk-parallel {display: flex;align-items: stretch;justify-content: center;background-color: white;position: relative;}#sk-container-id-2 div.sk-item::before, #sk-container-id-2 div.sk-parallel-item::before {content: \"\";position: absolute;border-left: 1px solid gray;box-sizing: border-box;top: 0;bottom: 0;left: 50%;z-index: -1;}#sk-container-id-2 div.sk-parallel-item {display: flex;flex-direction: column;z-index: 1;position: relative;background-color: white;}#sk-container-id-2 div.sk-parallel-item:first-child::after {align-self: flex-end;width: 50%;}#sk-container-id-2 div.sk-parallel-item:last-child::after {align-self: flex-start;width: 50%;}#sk-container-id-2 div.sk-parallel-item:only-child::after {width: 0;}#sk-container-id-2 div.sk-dashed-wrapped {border: 1px dashed gray;margin: 0 0.4em 0.5em 0.4em;box-sizing: border-box;padding-bottom: 0.4em;background-color: white;}#sk-container-id-2 div.sk-label label {font-family: monospace;font-weight: bold;display: inline-block;line-height: 1.2em;}#sk-container-id-2 div.sk-label-container {text-align: center;}#sk-container-id-2 div.sk-container {/* jupyter's `normalize.less` sets `[hidden] { display: none; }` but bootstrap.min.css set `[hidden] { display: none !important; }` so we also need the `!important` here to be able to override the default hidden behavior on the sphinx rendered scikit-learn.org. See: https://github.com/scikit-learn/scikit-learn/issues/21755 */display: inline-block !important;position: relative;}#sk-container-id-2 div.sk-text-repr-fallback {display: none;}</style><div id=\"sk-container-id-2\" class=\"sk-top-container\"><div class=\"sk-text-repr-fallback\"><pre>SVR()</pre><b>In a Jupyter environment, please rerun this cell to show the HTML representation or trust the notebook. <br />On GitHub, the HTML representation is unable to render, please try loading this page with nbviewer.org.</b></div><div class=\"sk-container\" hidden><div class=\"sk-item\"><div class=\"sk-estimator sk-toggleable\"><input class=\"sk-toggleable__control sk-hidden--visually\" id=\"sk-estimator-id-2\" type=\"checkbox\" checked><label for=\"sk-estimator-id-2\" class=\"sk-toggleable__label sk-toggleable__label-arrow\">SVR</label><div class=\"sk-toggleable__content\"><pre>SVR()</pre></div></div></div></div></div>"
      ],
      "text/plain": [
       "SVR()"
      ]
     },
     "execution_count": 48,
     "metadata": {},
     "output_type": "execute_result"
    }
   ],
   "source": [
    "from sklearn.svm import SVR\n",
    "svm = SVR()\n",
    "svm.fit(x_train, y_train)"
   ]
  },
  {
   "cell_type": "code",
   "execution_count": 49,
   "id": "0b63e21e",
   "metadata": {},
   "outputs": [
    {
     "data": {
      "text/plain": [
       "array([6.54127759, 6.39624106, 6.48697808, ..., 6.30400629, 6.30781241,\n",
       "       6.43220202])"
      ]
     },
     "execution_count": 49,
     "metadata": {},
     "output_type": "execute_result"
    }
   ],
   "source": [
    "pred_svm = svm.predict(x_test)\n",
    "pred_svm"
   ]
  },
  {
   "cell_type": "code",
   "execution_count": 50,
   "id": "3ee70a47",
   "metadata": {},
   "outputs": [
    {
     "data": {
      "text/plain": [
       "0.18884688159246232"
      ]
     },
     "execution_count": 50,
     "metadata": {},
     "output_type": "execute_result"
    }
   ],
   "source": [
    "sc_svm = metrics.r2_score(y_test,pred_svm)\n",
    "sc_svm"
   ]
  },
  {
   "cell_type": "code",
   "execution_count": 51,
   "id": "4d73774c",
   "metadata": {},
   "outputs": [
    {
     "data": {
      "text/plain": [
       "array([6.39552867, 5.88259828, 6.37141516, ..., 6.035419  , 5.96184629,\n",
       "       7.038736  ])"
      ]
     },
     "execution_count": 51,
     "metadata": {},
     "output_type": "execute_result"
    }
   ],
   "source": [
    "from sklearn.ensemble import RandomForestRegressor\n",
    "rfr = RandomForestRegressor()\n",
    "rfr.fit(x_train, y_train)\n",
    "pred_rfr = rfr.predict(x_test)\n",
    "pred_rfr"
   ]
  },
  {
   "cell_type": "code",
   "execution_count": 52,
   "id": "3f0d94cf",
   "metadata": {},
   "outputs": [
    {
     "data": {
      "text/plain": [
       "0.5082245784885439"
      ]
     },
     "execution_count": 52,
     "metadata": {},
     "output_type": "execute_result"
    }
   ],
   "source": [
    "sc_rfr = metrics.r2_score(y_test,pred_rfr)\n",
    "sc_rfr"
   ]
  },
  {
   "cell_type": "code",
   "execution_count": 53,
   "id": "369b5d06",
   "metadata": {},
   "outputs": [
    {
     "data": {
      "text/plain": [
       "array([6.64359172, 6.05975504, 6.36830671, ..., 6.04743924, 5.84210901,\n",
       "       6.91657502])"
      ]
     },
     "execution_count": 53,
     "metadata": {},
     "output_type": "execute_result"
    }
   ],
   "source": [
    "from sklearn.ensemble import GradientBoostingRegressor\n",
    "gbr = GradientBoostingRegressor()\n",
    "gbr.fit(x_train, y_train)\n",
    "pred_gbr = gbr.predict(x_test)\n",
    "pred_gbr"
   ]
  },
  {
   "cell_type": "code",
   "execution_count": 54,
   "id": "5104fa2b",
   "metadata": {},
   "outputs": [
    {
     "data": {
      "text/plain": [
       "0.4917511973712233"
      ]
     },
     "execution_count": 54,
     "metadata": {},
     "output_type": "execute_result"
    }
   ],
   "source": [
    "sc_gbr = metrics.r2_score(y_test,pred_gbr)\n",
    "sc_gbr"
   ]
  },
  {
   "cell_type": "code",
   "execution_count": 55,
   "id": "056cbab2",
   "metadata": {},
   "outputs": [
    {
     "data": {
      "text/plain": [
       "array([6.39692966, 6.68461173, 5.99146455, ..., 5.29831737, 5.52146092,\n",
       "       7.43838353])"
      ]
     },
     "execution_count": 55,
     "metadata": {},
     "output_type": "execute_result"
    }
   ],
   "source": [
    "from sklearn.tree import DecisionTreeRegressor\n",
    "dtc=DecisionTreeRegressor()\n",
    "dtc.fit(x_train , y_train)\n",
    "pred_dtc = dtc.predict(x_test)\n",
    "pred_dtc"
   ]
  },
  {
   "cell_type": "code",
   "execution_count": 56,
   "id": "cb3d8829",
   "metadata": {},
   "outputs": [
    {
     "data": {
      "text/plain": [
       "0.07154527780870756"
      ]
     },
     "execution_count": 56,
     "metadata": {},
     "output_type": "execute_result"
    }
   ],
   "source": [
    "sc_dtc = metrics.r2_score(y_test, pred_dtc)\n",
    "sc_dtc"
   ]
  },
  {
   "cell_type": "code",
   "execution_count": 57,
   "id": "3fdb203c",
   "metadata": {},
   "outputs": [
    {
     "name": "stdout",
     "output_type": "stream",
     "text": [
      "Results from Linear Regression :- 0.18215584481385183\n",
      "Results from SVR :- 0.18884688159246232\n",
      "Results from Random Forest Regressor :- 0.5082245784885439\n",
      "Results from Gradient Boosting Regressor :- 0.4917511973712233\n",
      "Results from Decision Tree Regressor :- 0.07154527780870756\n"
     ]
    }
   ],
   "source": [
    "print(\"Results from Linear Regression :-\",sc_lr)\n",
    "print(\"Results from SVR :-\",sc_svm)\n",
    "print(\"Results from Random Forest Regressor :-\",sc_rfr)\n",
    "print(\"Results from Gradient Boosting Regressor :-\", sc_gbr)\n",
    "print(\"Results from Decision Tree Regressor :-\", sc_dtc)"
   ]
  },
  {
   "cell_type": "code",
   "execution_count": 58,
   "id": "c9cd6cb7",
   "metadata": {},
   "outputs": [
    {
     "name": "stdout",
     "output_type": "stream",
     "text": [
      "COST for 02 people is =  [606.79962353]\n"
     ]
    }
   ],
   "source": [
    "data = (104,5156,340,277,161,4.1,24.000000)\n",
    "data_as_np_array = np.asarray(data)\n",
    "data_reshaped = data_as_np_array.reshape(1,-1)\n",
    "prediction = rfr.predict(data_reshaped)\n",
    "print(\"COST for 02 people is = \",prediction/0.01)"
   ]
  },
  {
   "cell_type": "markdown",
   "id": "8cd059d4",
   "metadata": {},
   "source": [
    "Here we have built the model to predict the cost for 02 people for food in and restaurant, \n",
    "We have used Regressor models to build the prediction model and the best result is received from the Random Forest Regressor is 0.5082245784885439 using the same model is been built here other Regressor are also used but Best result is coming from the Random Forest Regressor."
   ]
  }
 ],
 "metadata": {
  "kernelspec": {
   "display_name": "Python 3 (ipykernel)",
   "language": "python",
   "name": "python3"
  },
  "language_info": {
   "codemirror_mode": {
    "name": "ipython",
    "version": 3
   },
   "file_extension": ".py",
   "mimetype": "text/x-python",
   "name": "python",
   "nbconvert_exporter": "python",
   "pygments_lexer": "ipython3",
   "version": "3.11.4"
  }
 },
 "nbformat": 4,
 "nbformat_minor": 5
}
