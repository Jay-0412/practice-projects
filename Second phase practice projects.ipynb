{
 "cells": [
  {
   "cell_type": "code",
   "execution_count": 1,
   "id": "c16eb8b7",
   "metadata": {},
   "outputs": [],
   "source": [
    "import pandas as pd\n",
    "import numpy as np\n",
    "import seaborn as sns\n",
    "import matplotlib.pyplot as plt\n",
    "import sklearn\n",
    "import warnings\n",
    "warnings.filterwarnings(\"ignore\")"
   ]
  },
  {
   "cell_type": "markdown",
   "id": "3065a5f8",
   "metadata": {},
   "source": [
    "# World Happiness report project"
   ]
  },
  {
   "cell_type": "code",
   "execution_count": 2,
   "id": "a4651408",
   "metadata": {},
   "outputs": [
    {
     "data": {
      "text/html": [
       "<div>\n",
       "<style scoped>\n",
       "    .dataframe tbody tr th:only-of-type {\n",
       "        vertical-align: middle;\n",
       "    }\n",
       "\n",
       "    .dataframe tbody tr th {\n",
       "        vertical-align: top;\n",
       "    }\n",
       "\n",
       "    .dataframe thead th {\n",
       "        text-align: right;\n",
       "    }\n",
       "</style>\n",
       "<table border=\"1\" class=\"dataframe\">\n",
       "  <thead>\n",
       "    <tr style=\"text-align: right;\">\n",
       "      <th></th>\n",
       "      <th>Country</th>\n",
       "      <th>Region</th>\n",
       "      <th>Happiness Rank</th>\n",
       "      <th>Happiness Score</th>\n",
       "      <th>Standard Error</th>\n",
       "      <th>Economy (GDP per Capita)</th>\n",
       "      <th>Family</th>\n",
       "      <th>Health (Life Expectancy)</th>\n",
       "      <th>Freedom</th>\n",
       "      <th>Trust (Government Corruption)</th>\n",
       "      <th>Generosity</th>\n",
       "      <th>Dystopia Residual</th>\n",
       "    </tr>\n",
       "  </thead>\n",
       "  <tbody>\n",
       "    <tr>\n",
       "      <th>0</th>\n",
       "      <td>Switzerland</td>\n",
       "      <td>Western Europe</td>\n",
       "      <td>1</td>\n",
       "      <td>7.587</td>\n",
       "      <td>0.03411</td>\n",
       "      <td>1.39651</td>\n",
       "      <td>1.34951</td>\n",
       "      <td>0.94143</td>\n",
       "      <td>0.66557</td>\n",
       "      <td>0.41978</td>\n",
       "      <td>0.29678</td>\n",
       "      <td>2.51738</td>\n",
       "    </tr>\n",
       "    <tr>\n",
       "      <th>1</th>\n",
       "      <td>Iceland</td>\n",
       "      <td>Western Europe</td>\n",
       "      <td>2</td>\n",
       "      <td>7.561</td>\n",
       "      <td>0.04884</td>\n",
       "      <td>1.30232</td>\n",
       "      <td>1.40223</td>\n",
       "      <td>0.94784</td>\n",
       "      <td>0.62877</td>\n",
       "      <td>0.14145</td>\n",
       "      <td>0.43630</td>\n",
       "      <td>2.70201</td>\n",
       "    </tr>\n",
       "    <tr>\n",
       "      <th>2</th>\n",
       "      <td>Denmark</td>\n",
       "      <td>Western Europe</td>\n",
       "      <td>3</td>\n",
       "      <td>7.527</td>\n",
       "      <td>0.03328</td>\n",
       "      <td>1.32548</td>\n",
       "      <td>1.36058</td>\n",
       "      <td>0.87464</td>\n",
       "      <td>0.64938</td>\n",
       "      <td>0.48357</td>\n",
       "      <td>0.34139</td>\n",
       "      <td>2.49204</td>\n",
       "    </tr>\n",
       "    <tr>\n",
       "      <th>3</th>\n",
       "      <td>Norway</td>\n",
       "      <td>Western Europe</td>\n",
       "      <td>4</td>\n",
       "      <td>7.522</td>\n",
       "      <td>0.03880</td>\n",
       "      <td>1.45900</td>\n",
       "      <td>1.33095</td>\n",
       "      <td>0.88521</td>\n",
       "      <td>0.66973</td>\n",
       "      <td>0.36503</td>\n",
       "      <td>0.34699</td>\n",
       "      <td>2.46531</td>\n",
       "    </tr>\n",
       "    <tr>\n",
       "      <th>4</th>\n",
       "      <td>Canada</td>\n",
       "      <td>North America</td>\n",
       "      <td>5</td>\n",
       "      <td>7.427</td>\n",
       "      <td>0.03553</td>\n",
       "      <td>1.32629</td>\n",
       "      <td>1.32261</td>\n",
       "      <td>0.90563</td>\n",
       "      <td>0.63297</td>\n",
       "      <td>0.32957</td>\n",
       "      <td>0.45811</td>\n",
       "      <td>2.45176</td>\n",
       "    </tr>\n",
       "    <tr>\n",
       "      <th>...</th>\n",
       "      <td>...</td>\n",
       "      <td>...</td>\n",
       "      <td>...</td>\n",
       "      <td>...</td>\n",
       "      <td>...</td>\n",
       "      <td>...</td>\n",
       "      <td>...</td>\n",
       "      <td>...</td>\n",
       "      <td>...</td>\n",
       "      <td>...</td>\n",
       "      <td>...</td>\n",
       "      <td>...</td>\n",
       "    </tr>\n",
       "    <tr>\n",
       "      <th>153</th>\n",
       "      <td>Rwanda</td>\n",
       "      <td>Sub-Saharan Africa</td>\n",
       "      <td>154</td>\n",
       "      <td>3.465</td>\n",
       "      <td>0.03464</td>\n",
       "      <td>0.22208</td>\n",
       "      <td>0.77370</td>\n",
       "      <td>0.42864</td>\n",
       "      <td>0.59201</td>\n",
       "      <td>0.55191</td>\n",
       "      <td>0.22628</td>\n",
       "      <td>0.67042</td>\n",
       "    </tr>\n",
       "    <tr>\n",
       "      <th>154</th>\n",
       "      <td>Benin</td>\n",
       "      <td>Sub-Saharan Africa</td>\n",
       "      <td>155</td>\n",
       "      <td>3.340</td>\n",
       "      <td>0.03656</td>\n",
       "      <td>0.28665</td>\n",
       "      <td>0.35386</td>\n",
       "      <td>0.31910</td>\n",
       "      <td>0.48450</td>\n",
       "      <td>0.08010</td>\n",
       "      <td>0.18260</td>\n",
       "      <td>1.63328</td>\n",
       "    </tr>\n",
       "    <tr>\n",
       "      <th>155</th>\n",
       "      <td>Syria</td>\n",
       "      <td>Middle East and Northern Africa</td>\n",
       "      <td>156</td>\n",
       "      <td>3.006</td>\n",
       "      <td>0.05015</td>\n",
       "      <td>0.66320</td>\n",
       "      <td>0.47489</td>\n",
       "      <td>0.72193</td>\n",
       "      <td>0.15684</td>\n",
       "      <td>0.18906</td>\n",
       "      <td>0.47179</td>\n",
       "      <td>0.32858</td>\n",
       "    </tr>\n",
       "    <tr>\n",
       "      <th>156</th>\n",
       "      <td>Burundi</td>\n",
       "      <td>Sub-Saharan Africa</td>\n",
       "      <td>157</td>\n",
       "      <td>2.905</td>\n",
       "      <td>0.08658</td>\n",
       "      <td>0.01530</td>\n",
       "      <td>0.41587</td>\n",
       "      <td>0.22396</td>\n",
       "      <td>0.11850</td>\n",
       "      <td>0.10062</td>\n",
       "      <td>0.19727</td>\n",
       "      <td>1.83302</td>\n",
       "    </tr>\n",
       "    <tr>\n",
       "      <th>157</th>\n",
       "      <td>Togo</td>\n",
       "      <td>Sub-Saharan Africa</td>\n",
       "      <td>158</td>\n",
       "      <td>2.839</td>\n",
       "      <td>0.06727</td>\n",
       "      <td>0.20868</td>\n",
       "      <td>0.13995</td>\n",
       "      <td>0.28443</td>\n",
       "      <td>0.36453</td>\n",
       "      <td>0.10731</td>\n",
       "      <td>0.16681</td>\n",
       "      <td>1.56726</td>\n",
       "    </tr>\n",
       "  </tbody>\n",
       "</table>\n",
       "<p>158 rows × 12 columns</p>\n",
       "</div>"
      ],
      "text/plain": [
       "         Country                           Region  Happiness Rank  \\\n",
       "0    Switzerland                   Western Europe               1   \n",
       "1        Iceland                   Western Europe               2   \n",
       "2        Denmark                   Western Europe               3   \n",
       "3         Norway                   Western Europe               4   \n",
       "4         Canada                    North America               5   \n",
       "..           ...                              ...             ...   \n",
       "153       Rwanda               Sub-Saharan Africa             154   \n",
       "154        Benin               Sub-Saharan Africa             155   \n",
       "155        Syria  Middle East and Northern Africa             156   \n",
       "156      Burundi               Sub-Saharan Africa             157   \n",
       "157         Togo               Sub-Saharan Africa             158   \n",
       "\n",
       "     Happiness Score  Standard Error  Economy (GDP per Capita)   Family  \\\n",
       "0              7.587         0.03411                   1.39651  1.34951   \n",
       "1              7.561         0.04884                   1.30232  1.40223   \n",
       "2              7.527         0.03328                   1.32548  1.36058   \n",
       "3              7.522         0.03880                   1.45900  1.33095   \n",
       "4              7.427         0.03553                   1.32629  1.32261   \n",
       "..               ...             ...                       ...      ...   \n",
       "153            3.465         0.03464                   0.22208  0.77370   \n",
       "154            3.340         0.03656                   0.28665  0.35386   \n",
       "155            3.006         0.05015                   0.66320  0.47489   \n",
       "156            2.905         0.08658                   0.01530  0.41587   \n",
       "157            2.839         0.06727                   0.20868  0.13995   \n",
       "\n",
       "     Health (Life Expectancy)  Freedom  Trust (Government Corruption)  \\\n",
       "0                     0.94143  0.66557                        0.41978   \n",
       "1                     0.94784  0.62877                        0.14145   \n",
       "2                     0.87464  0.64938                        0.48357   \n",
       "3                     0.88521  0.66973                        0.36503   \n",
       "4                     0.90563  0.63297                        0.32957   \n",
       "..                        ...      ...                            ...   \n",
       "153                   0.42864  0.59201                        0.55191   \n",
       "154                   0.31910  0.48450                        0.08010   \n",
       "155                   0.72193  0.15684                        0.18906   \n",
       "156                   0.22396  0.11850                        0.10062   \n",
       "157                   0.28443  0.36453                        0.10731   \n",
       "\n",
       "     Generosity  Dystopia Residual  \n",
       "0       0.29678            2.51738  \n",
       "1       0.43630            2.70201  \n",
       "2       0.34139            2.49204  \n",
       "3       0.34699            2.46531  \n",
       "4       0.45811            2.45176  \n",
       "..          ...                ...  \n",
       "153     0.22628            0.67042  \n",
       "154     0.18260            1.63328  \n",
       "155     0.47179            0.32858  \n",
       "156     0.19727            1.83302  \n",
       "157     0.16681            1.56726  \n",
       "\n",
       "[158 rows x 12 columns]"
      ]
     },
     "execution_count": 2,
     "metadata": {},
     "output_type": "execute_result"
    }
   ],
   "source": [
    "df = pd.read_csv(\"https://raw.githubusercontent.com/FlipRoboTechnologies/ML-Datasets/main/World%20Happiness/happiness_score_dataset.csv\")\n",
    "df"
   ]
  },
  {
   "cell_type": "markdown",
   "id": "138592f9",
   "metadata": {},
   "source": [
    "In this dataset we have total 12 columns from which \"Happiness Score\" is our target variable and rest of the columns are input which will help us find our output from the dataset we have others columns like \"Region\",\"Country\",\"GDP\",\"Family\" and \"Health\"."
   ]
  },
  {
   "cell_type": "code",
   "execution_count": 3,
   "id": "1f0f0795",
   "metadata": {},
   "outputs": [
    {
     "name": "stdout",
     "output_type": "stream",
     "text": [
      "Number of Rows 158\n",
      "Number of Columns 12\n"
     ]
    }
   ],
   "source": [
    "df.shape\n",
    "print(\"Number of Rows\",df.shape[0])\n",
    "print(\"Number of Columns\",df.shape[1])"
   ]
  },
  {
   "cell_type": "code",
   "execution_count": 4,
   "id": "03819232",
   "metadata": {},
   "outputs": [
    {
     "data": {
      "text/plain": [
       "Index(['Country', 'Region', 'Happiness Rank', 'Happiness Score',\n",
       "       'Standard Error', 'Economy (GDP per Capita)', 'Family',\n",
       "       'Health (Life Expectancy)', 'Freedom', 'Trust (Government Corruption)',\n",
       "       'Generosity', 'Dystopia Residual'],\n",
       "      dtype='object')"
      ]
     },
     "execution_count": 4,
     "metadata": {},
     "output_type": "execute_result"
    }
   ],
   "source": [
    "df.columns"
   ]
  },
  {
   "cell_type": "code",
   "execution_count": 5,
   "id": "ce746677",
   "metadata": {},
   "outputs": [
    {
     "data": {
      "text/plain": [
       "Country                           object\n",
       "Region                            object\n",
       "Happiness Rank                     int64\n",
       "Happiness Score                  float64\n",
       "Standard Error                   float64\n",
       "Economy (GDP per Capita)         float64\n",
       "Family                           float64\n",
       "Health (Life Expectancy)         float64\n",
       "Freedom                          float64\n",
       "Trust (Government Corruption)    float64\n",
       "Generosity                       float64\n",
       "Dystopia Residual                float64\n",
       "dtype: object"
      ]
     },
     "execution_count": 5,
     "metadata": {},
     "output_type": "execute_result"
    }
   ],
   "source": [
    "df.dtypes"
   ]
  },
  {
   "cell_type": "code",
   "execution_count": 6,
   "id": "98a76fb1",
   "metadata": {},
   "outputs": [
    {
     "data": {
      "text/plain": [
       "Country                          0\n",
       "Region                           0\n",
       "Happiness Rank                   0\n",
       "Happiness Score                  0\n",
       "Standard Error                   0\n",
       "Economy (GDP per Capita)         0\n",
       "Family                           0\n",
       "Health (Life Expectancy)         0\n",
       "Freedom                          0\n",
       "Trust (Government Corruption)    0\n",
       "Generosity                       0\n",
       "Dystopia Residual                0\n",
       "dtype: int64"
      ]
     },
     "execution_count": 6,
     "metadata": {},
     "output_type": "execute_result"
    }
   ],
   "source": [
    "df.isnull().sum()"
   ]
  },
  {
   "cell_type": "code",
   "execution_count": 7,
   "id": "0b52f34d",
   "metadata": {},
   "outputs": [
    {
     "name": "stdout",
     "output_type": "stream",
     "text": [
      "<class 'pandas.core.frame.DataFrame'>\n",
      "RangeIndex: 158 entries, 0 to 157\n",
      "Data columns (total 12 columns):\n",
      " #   Column                         Non-Null Count  Dtype  \n",
      "---  ------                         --------------  -----  \n",
      " 0   Country                        158 non-null    object \n",
      " 1   Region                         158 non-null    object \n",
      " 2   Happiness Rank                 158 non-null    int64  \n",
      " 3   Happiness Score                158 non-null    float64\n",
      " 4   Standard Error                 158 non-null    float64\n",
      " 5   Economy (GDP per Capita)       158 non-null    float64\n",
      " 6   Family                         158 non-null    float64\n",
      " 7   Health (Life Expectancy)       158 non-null    float64\n",
      " 8   Freedom                        158 non-null    float64\n",
      " 9   Trust (Government Corruption)  158 non-null    float64\n",
      " 10  Generosity                     158 non-null    float64\n",
      " 11  Dystopia Residual              158 non-null    float64\n",
      "dtypes: float64(9), int64(1), object(2)\n",
      "memory usage: 14.9+ KB\n"
     ]
    }
   ],
   "source": [
    "df.info()"
   ]
  },
  {
   "cell_type": "markdown",
   "id": "7578e111",
   "metadata": {},
   "source": [
    "Dividing the data into numerical and categorical also checked whether dataset contains any null value."
   ]
  },
  {
   "cell_type": "code",
   "execution_count": 8,
   "id": "70f5dce8",
   "metadata": {},
   "outputs": [
    {
     "name": "stdout",
     "output_type": "stream",
     "text": [
      "Categorical Columns:  ['Country', 'Region']\n",
      "Numerical Columns:  ['Happiness Rank', 'Happiness Score', 'Standard Error', 'Economy (GDP per Capita)', 'Family', 'Health (Life Expectancy)', 'Freedom', 'Trust (Government Corruption)', 'Generosity', 'Dystopia Residual']\n"
     ]
    }
   ],
   "source": [
    "cat_col = []\n",
    "for i in df.dtypes.index:\n",
    "    if df.dtypes[i]==\"object\":\n",
    "        cat_col.append(i)\n",
    "print(\"Categorical Columns: \",cat_col)\n",
    "\n",
    "num_col = []\n",
    "for i in df.dtypes.index:\n",
    "    if df.dtypes[i]!= \"object\":\n",
    "        num_col.append(i)\n",
    "print(\"Numerical Columns: \",num_col)"
   ]
  },
  {
   "cell_type": "code",
   "execution_count": 9,
   "id": "13a4aee6",
   "metadata": {},
   "outputs": [
    {
     "data": {
      "text/plain": [
       "Country                          158\n",
       "Region                            10\n",
       "Happiness Rank                   157\n",
       "Happiness Score                  157\n",
       "Standard Error                   153\n",
       "Economy (GDP per Capita)         158\n",
       "Family                           158\n",
       "Health (Life Expectancy)         157\n",
       "Freedom                          158\n",
       "Trust (Government Corruption)    157\n",
       "Generosity                       158\n",
       "Dystopia Residual                158\n",
       "dtype: int64"
      ]
     },
     "execution_count": 9,
     "metadata": {},
     "output_type": "execute_result"
    }
   ],
   "source": [
    "df.nunique()"
   ]
  },
  {
   "cell_type": "markdown",
   "id": "15ac3378",
   "metadata": {},
   "source": [
    "Null values in the dataset is also checked using the heatmap which gives very much clear picture."
   ]
  },
  {
   "cell_type": "code",
   "execution_count": 10,
   "id": "28f44034",
   "metadata": {},
   "outputs": [
    {
     "data": {
      "text/plain": [
       "<Axes: >"
      ]
     },
     "execution_count": 10,
     "metadata": {},
     "output_type": "execute_result"
    },
    {
     "data": {
      "image/png": "[encoded data removed]",
      "text/plain": [
       "<Figure size 640x480 with 2 Axes>"
      ]
     },
     "metadata": {},
     "output_type": "display_data"
    }
   ],
   "source": [
    "sns.heatmap(df.isnull())"
   ]
  },
  {
   "cell_type": "markdown",
   "id": "21ca06b1",
   "metadata": {},
   "source": [
    "Checking the value counts of \"Region\" columns as we can see in Sub-Saharan Africa survey is done more as compare to other region and lowest survey is done in North America, Australia and New Zealand."
   ]
  },
  {
   "cell_type": "code",
   "execution_count": 11,
   "id": "49f5a436",
   "metadata": {},
   "outputs": [
    {
     "data": {
      "text/plain": [
       "Sub-Saharan Africa                 40\n",
       "Central and Eastern Europe         29\n",
       "Latin America and Caribbean        22\n",
       "Western Europe                     21\n",
       "Middle East and Northern Africa    20\n",
       "Southeastern Asia                   9\n",
       "Southern Asia                       7\n",
       "Eastern Asia                        6\n",
       "North America                       2\n",
       "Australia and New Zealand           2\n",
       "Name: Region, dtype: int64"
      ]
     },
     "execution_count": 11,
     "metadata": {},
     "output_type": "execute_result"
    }
   ],
   "source": [
    "df[\"Region\"].value_counts()"
   ]
  },
  {
   "cell_type": "code",
   "execution_count": 12,
   "id": "70689bf8",
   "metadata": {},
   "outputs": [
    {
     "data": {
      "text/plain": [
       "<seaborn.axisgrid.FacetGrid at 0x17b6e7a4990>"
      ]
     },
     "execution_count": 12,
     "metadata": {},
     "output_type": "execute_result"
    },
    {
     "data": {
      "image/png": "[encoded data removed]",
      "text/plain": [
       "<Figure size 500x500 with 1 Axes>"
      ]
     },
     "metadata": {},
     "output_type": "display_data"
    }
   ],
   "source": [
    "sns.catplot(x = \"Region\", data = df, kind = \"count\")"
   ]
  },
  {
   "cell_type": "code",
   "execution_count": null,
   "id": "741da478",
   "metadata": {},
   "outputs": [
    {
     "data": {
      "text/plain": [
       "Happiness Rank                      Axes(0.125,0.53;0.133621x0.35)\n",
       "Happiness Score                  Axes(0.285345,0.53;0.133621x0.35)\n",
       "Standard Error                    Axes(0.44569,0.53;0.133621x0.35)\n",
       "Economy (GDP per Capita)         Axes(0.606034,0.53;0.133621x0.35)\n",
       "Family                           Axes(0.766379,0.53;0.133621x0.35)\n",
       "Health (Life Expectancy)            Axes(0.125,0.11;0.133621x0.35)\n",
       "Freedom                          Axes(0.285345,0.11;0.133621x0.35)\n",
       "Trust (Government Corruption)     Axes(0.44569,0.11;0.133621x0.35)\n",
       "Generosity                       Axes(0.606034,0.11;0.133621x0.35)\n",
       "Dystopia Residual                Axes(0.766379,0.11;0.133621x0.35)\n",
       "dtype: object"
      ]
     },
     "execution_count": 13,
     "metadata": {},
     "output_type": "execute_result"
    }
   ],
   "source": [
    "df.plot(kind=\"box\", subplots=True, layout=(2,5))"
   ]
  },
  {
   "cell_type": "markdown",
   "id": "1853564f",
   "metadata": {},
   "source": [
    "Checking out the outliers present in the data which results that there is not much outliers present. Outliers is present in specific Columns only for more clear picture box plot of the columns which contains outliers are shown below."
   ]
  },
  {
   "cell_type": "code",
   "execution_count": null,
   "id": "75cc15e4",
   "metadata": {},
   "outputs": [],
   "source": [
    "df[\"Standard Error\"].plot.box()"
   ]
  },
  {
   "cell_type": "code",
   "execution_count": null,
   "id": "39faacd9",
   "metadata": {},
   "outputs": [],
   "source": [
    "df[\"Family\"].plot.box()"
   ]
  },
  {
   "cell_type": "code",
   "execution_count": null,
   "id": "893a20b8",
   "metadata": {},
   "outputs": [],
   "source": [
    "df[\"Trust (Government Corruption)\"].plot.box()"
   ]
  },
  {
   "cell_type": "code",
   "execution_count": null,
   "id": "450e68bc",
   "metadata": {},
   "outputs": [],
   "source": [
    "df[\"Generosity\"].plot.box()"
   ]
  },
  {
   "cell_type": "code",
   "execution_count": null,
   "id": "2fca4683",
   "metadata": {},
   "outputs": [],
   "source": [
    "df[\"Dystopia Residual\"].plot.box()"
   ]
  },
  {
   "cell_type": "code",
   "execution_count": null,
   "id": "a6d34a35",
   "metadata": {},
   "outputs": [],
   "source": [
    "df.describe()"
   ]
  },
  {
   "cell_type": "markdown",
   "id": "bd04ff1f",
   "metadata": {},
   "source": [
    "As there are not many outliers present proceeding futher without removing outliers from the dataset."
   ]
  },
  {
   "cell_type": "code",
   "execution_count": null,
   "id": "ce3094cb",
   "metadata": {},
   "outputs": [],
   "source": [
    "df[\"Region\"].value_counts()"
   ]
  },
  {
   "cell_type": "code",
   "execution_count": null,
   "id": "cf155440",
   "metadata": {},
   "outputs": [],
   "source": [
    "df[\"Region\"]=df[\"Region\"].map({\"Sub-Saharan Africa\":0,\"Central and Eastern Europe\":1,\n",
    "                               \"Latin America and Caribbean\":2,\"Western Europe\":3,\n",
    "                               \"Middle East and Northern Africa\":4,\"Southeastern Asia\":5,\n",
    "                               \"Southern Asia\":6,\"Eastern Asia\":7,\n",
    "                               \"North America\":8,\"Australia and New Zealand\":9})"
   ]
  },
  {
   "cell_type": "markdown",
   "id": "20c0d0df",
   "metadata": {},
   "source": [
    "Converting the Region column into numerical from object datatype to integer datatype as further analysis and training and testing work smoothly on numerical data and also gives better results. As Region columns have only 10 unique value which is minimum as compare to country column hence conversion is done."
   ]
  },
  {
   "cell_type": "code",
   "execution_count": null,
   "id": "f1fdd078",
   "metadata": {},
   "outputs": [],
   "source": [
    "df.head()"
   ]
  },
  {
   "cell_type": "code",
   "execution_count": null,
   "id": "023d5363",
   "metadata": {},
   "outputs": [],
   "source": [
    "df.drop([\"Country\"], axis = 1, inplace=True)"
   ]
  },
  {
   "cell_type": "code",
   "execution_count": null,
   "id": "2e4a0d5f",
   "metadata": {},
   "outputs": [],
   "source": [
    "df.sample(10)"
   ]
  },
  {
   "cell_type": "code",
   "execution_count": null,
   "id": "4c5b5e82",
   "metadata": {},
   "outputs": [],
   "source": [
    "x = df.drop([\"Happiness Score\"], axis = 1)\n",
    "x"
   ]
  },
  {
   "cell_type": "code",
   "execution_count": null,
   "id": "0ab56db5",
   "metadata": {},
   "outputs": [],
   "source": [
    "y = df[\"Happiness Score\"]\n",
    "y"
   ]
  },
  {
   "cell_type": "markdown",
   "id": "0cc311b8",
   "metadata": {},
   "source": [
    "Splitting the data into X and Y where Y contains output \"Happiness Score\" and rest are saved in X variable."
   ]
  },
  {
   "cell_type": "code",
   "execution_count": null,
   "id": "da095d2e",
   "metadata": {},
   "outputs": [],
   "source": [
    "from sklearn.model_selection import train_test_split\n",
    "x_train , x_test , y_train , y_test = train_test_split(x,y, test_size=0.2, random_state=42)"
   ]
  },
  {
   "cell_type": "code",
   "execution_count": null,
   "id": "2e1485a9",
   "metadata": {},
   "outputs": [],
   "source": [
    "x_train.shape , x_test.shape , y_train.shape , y_test.shape"
   ]
  },
  {
   "cell_type": "code",
   "execution_count": null,
   "id": "278fc66a",
   "metadata": {},
   "outputs": [],
   "source": [
    "from sklearn.linear_model import LinearRegression\n",
    "LR = LinearRegression()\n",
    "LR.fit(x_train, y_train)\n",
    "pred_LR = LR.predict(x_test)\n",
    "pred_LR"
   ]
  },
  {
   "cell_type": "code",
   "execution_count": null,
   "id": "123e64c8",
   "metadata": {},
   "outputs": [],
   "source": [
    "from sklearn import metrics"
   ]
  },
  {
   "cell_type": "code",
   "execution_count": null,
   "id": "8a7efddc",
   "metadata": {},
   "outputs": [],
   "source": [
    "sc = metrics.r2_score(y_test,pred_LR)\n",
    "sc"
   ]
  },
  {
   "cell_type": "code",
   "execution_count": null,
   "id": "59301f7e",
   "metadata": {},
   "outputs": [],
   "source": [
    "from sklearn.svm import SVR\n",
    "svm = SVR()\n",
    "svm.fit(x_train, y_train)\n",
    "pred_svm = svm.predict(x_test)\n",
    "pred_svm"
   ]
  },
  {
   "cell_type": "code",
   "execution_count": null,
   "id": "e437abf1",
   "metadata": {},
   "outputs": [],
   "source": [
    "sc_svm = metrics.r2_score(y_test,pred_svm)\n",
    "sc_svm"
   ]
  },
  {
   "cell_type": "code",
   "execution_count": null,
   "id": "fc75a80c",
   "metadata": {},
   "outputs": [],
   "source": [
    "from sklearn.ensemble import RandomForestRegressor\n",
    "rfr = RandomForestRegressor()\n",
    "rfr.fit(x_train, y_train)\n",
    "pred_rfr = rfr.predict(x_test)\n",
    "pred_rfr"
   ]
  },
  {
   "cell_type": "code",
   "execution_count": null,
   "id": "15408485",
   "metadata": {},
   "outputs": [],
   "source": [
    "sc_rfr = metrics.r2_score(y_test,pred_rfr)\n",
    "sc_rfr"
   ]
  },
  {
   "cell_type": "code",
   "execution_count": null,
   "id": "e9bcfcfe",
   "metadata": {},
   "outputs": [],
   "source": [
    "from sklearn.ensemble import GradientBoostingRegressor\n",
    "gbr = GradientBoostingRegressor()\n",
    "gbr.fit(x_train, y_train)\n",
    "pred_gbr = gbr.predict(x_test)\n",
    "pred_gbr"
   ]
  },
  {
   "cell_type": "code",
   "execution_count": null,
   "id": "cfee5f9d",
   "metadata": {},
   "outputs": [],
   "source": [
    "sc_gbr = metrics.r2_score(y_test,pred_gbr)\n",
    "sc_gbr"
   ]
  },
  {
   "cell_type": "code",
   "execution_count": null,
   "id": "1e13c8fb",
   "metadata": {},
   "outputs": [],
   "source": [
    "print(\"Results from Linear Regression :\",sc)\n",
    "print(\"Results from SVR :\",sc_svm)\n",
    "print(\"Results from Random Forest Regressor :\",sc_rfr)\n",
    "print(\"Results from Gradient Boosting Regressor :\", sc_gbr)"
   ]
  },
  {
   "cell_type": "markdown",
   "id": "d327ef4e",
   "metadata": {},
   "source": [
    "As we have used many models for testing the best results we have received is from Linear Regerssion and we have created the prediction model using the same Linear Regression. The second best result we have received is from Gradient Boosting Regressor."
   ]
  },
  {
   "cell_type": "code",
   "execution_count": null,
   "id": "6ffab270",
   "metadata": {},
   "outputs": [],
   "source": [
    "data = (3,1,0.03411,1.39651,1.34951,0.94143,0.66557,0.41978,0.29678,2.51738)\n",
    "data_as_np_array = np.asarray(data)\n",
    "data_reshaped = data_as_np_array.reshape(1,-1)\n",
    "prediction = LR.predict(data_reshaped)\n",
    "print(\"The Happiness score is :\",prediction)"
   ]
  },
  {
   "cell_type": "markdown",
   "id": "9c3e3f8e",
   "metadata": {},
   "source": [
    "The prediction Model is created which is giving happiness score as per the data entered in it."
   ]
  },
  {
   "cell_type": "markdown",
   "id": "1ca86eb1",
   "metadata": {},
   "source": [
    "# Titanic Survived Project"
   ]
  },
  {
   "cell_type": "code",
   "execution_count": null,
   "id": "cc6d1930",
   "metadata": {},
   "outputs": [],
   "source": [
    "df = pd.read_csv(\"https://raw.githubusercontent.com/FlipRoboTechnologies/ML-Datasets/main/Titanic/titanic_train.csv\")\n",
    "df"
   ]
  },
  {
   "cell_type": "markdown",
   "id": "d9dc5fa6",
   "metadata": {},
   "source": [
    "In this dataset we have total 891 rows and 12 columns from which \"Survived\" columns is the target variable as rest of the columns are input we have create the prediction model for the same which will perdict person has survived or not survived."
   ]
  },
  {
   "cell_type": "code",
   "execution_count": null,
   "id": "13cfc5eb",
   "metadata": {},
   "outputs": [],
   "source": [
    "df.columns"
   ]
  },
  {
   "cell_type": "code",
   "execution_count": null,
   "id": "2dd10f0f",
   "metadata": {},
   "outputs": [],
   "source": [
    "df.shape\n",
    "print(\"Rows from the dataset is \",df.shape[0])\n",
    "print(\"Columns from the dataset is\",df.shape[1])"
   ]
  },
  {
   "cell_type": "code",
   "execution_count": null,
   "id": "023d93dd",
   "metadata": {},
   "outputs": [],
   "source": [
    "df.dtypes"
   ]
  },
  {
   "cell_type": "code",
   "execution_count": null,
   "id": "bc56ecf4",
   "metadata": {},
   "outputs": [],
   "source": [
    "df.isnull().sum()"
   ]
  },
  {
   "cell_type": "markdown",
   "id": "f5d086ce",
   "metadata": {},
   "source": [
    "As we can see there is lot of missing value present in data which is replaced with NAN, in Cabin column we have most missing values from 891 rows 687 rows have missing values, and the same is with age column 177 rows have missing values in the dataset."
   ]
  },
  {
   "cell_type": "code",
   "execution_count": null,
   "id": "f46eabbe",
   "metadata": {},
   "outputs": [],
   "source": [
    "df.sample(15)"
   ]
  },
  {
   "cell_type": "markdown",
   "id": "241aa1a1",
   "metadata": {},
   "source": [
    "Further we have just checked the missing values contain in dataset using sample of 15."
   ]
  },
  {
   "cell_type": "code",
   "execution_count": null,
   "id": "8c41c13d",
   "metadata": {},
   "outputs": [],
   "source": [
    "df.info()"
   ]
  },
  {
   "cell_type": "code",
   "execution_count": null,
   "id": "9c1eabf1",
   "metadata": {},
   "outputs": [],
   "source": [
    "df.nunique()"
   ]
  },
  {
   "cell_type": "code",
   "execution_count": null,
   "id": "f6b36d92",
   "metadata": {},
   "outputs": [],
   "source": [
    "df[\"SibSp\"].unique()"
   ]
  },
  {
   "cell_type": "code",
   "execution_count": null,
   "id": "397fc950",
   "metadata": {},
   "outputs": [],
   "source": [
    "df[\"Parch\"].unique()"
   ]
  },
  {
   "cell_type": "code",
   "execution_count": null,
   "id": "e64f1b64",
   "metadata": {},
   "outputs": [],
   "source": [
    "df.dtypes"
   ]
  },
  {
   "cell_type": "markdown",
   "id": "2a2fdf15",
   "metadata": {},
   "source": [
    "As we have checked cabin column have mostly missing value we can fill the missing value or we can drop the column, Here we have dropped the cabin column."
   ]
  },
  {
   "cell_type": "code",
   "execution_count": null,
   "id": "83455c59",
   "metadata": {},
   "outputs": [],
   "source": [
    "df = df.drop(columns = \"Cabin\", axis = 1)"
   ]
  },
  {
   "cell_type": "code",
   "execution_count": null,
   "id": "b9ea55e5",
   "metadata": {},
   "outputs": [],
   "source": [
    "df.sample(5)"
   ]
  },
  {
   "cell_type": "code",
   "execution_count": null,
   "id": "0f6d1279",
   "metadata": {},
   "outputs": [],
   "source": [
    "df.isnull().sum()"
   ]
  },
  {
   "cell_type": "code",
   "execution_count": null,
   "id": "d4afde38",
   "metadata": {},
   "outputs": [],
   "source": [
    "df[\"Age\"].fillna(df[\"Age\"].mean(), inplace=True)"
   ]
  },
  {
   "cell_type": "code",
   "execution_count": null,
   "id": "277ef159",
   "metadata": {},
   "outputs": [],
   "source": [
    "print(df[\"Embarked\"].mode())"
   ]
  },
  {
   "cell_type": "code",
   "execution_count": null,
   "id": "e46913e9",
   "metadata": {},
   "outputs": [],
   "source": [
    "df[\"Embarked\"].fillna(df[\"Embarked\"].mode()[0], inplace=True)"
   ]
  },
  {
   "cell_type": "markdown",
   "id": "37d550e1",
   "metadata": {},
   "source": [
    "As there was missing values in Age and Embarked column as we have dropped the cabin column, we will not drop the column this time which may lead to huge data loss so we will fill the missing values.\n",
    "Age columns missing values are  filled with the mean of the age column.\n",
    "Embarked column missing value is filled with the mode as there was only 02 missing values."
   ]
  },
  {
   "cell_type": "code",
   "execution_count": null,
   "id": "eada5128",
   "metadata": {},
   "outputs": [],
   "source": [
    "df.isnull().sum()"
   ]
  },
  {
   "cell_type": "code",
   "execution_count": null,
   "id": "afbb6b24",
   "metadata": {},
   "outputs": [],
   "source": [
    "sns.heatmap(df.isnull())"
   ]
  },
  {
   "cell_type": "markdown",
   "id": "9fc8bf36",
   "metadata": {},
   "source": [
    "Now there is no null values in the dataset as we have filled some columns and we have dropped one column we have checked it with the heatmap which gives us very much clear picture of the dataset."
   ]
  },
  {
   "cell_type": "code",
   "execution_count": null,
   "id": "d4da3a7e",
   "metadata": {},
   "outputs": [],
   "source": [
    "df.describe()"
   ]
  },
  {
   "cell_type": "code",
   "execution_count": null,
   "id": "8cbab746",
   "metadata": {},
   "outputs": [],
   "source": [
    "sns.countplot(x= \"Sex\", hue=\"Survived\" , data = df)"
   ]
  },
  {
   "cell_type": "markdown",
   "id": "8310b98d",
   "metadata": {},
   "source": [
    "We can see here how many male and female were survived in the accident 0 is not survived and 1 is survived."
   ]
  },
  {
   "cell_type": "code",
   "execution_count": null,
   "id": "ee1835ab",
   "metadata": {},
   "outputs": [],
   "source": [
    "sns.countplot(x=\"Pclass\", data= df)"
   ]
  },
  {
   "cell_type": "code",
   "execution_count": null,
   "id": "3ffcb306",
   "metadata": {},
   "outputs": [],
   "source": [
    "sns.countplot(x=\"Pclass\", hue=\"Survived\", data=df)"
   ]
  },
  {
   "cell_type": "markdown",
   "id": "be9abadf",
   "metadata": {},
   "source": [
    "As per the class Type how many people have lost there life in the accident has been shown form above visualization."
   ]
  },
  {
   "cell_type": "code",
   "execution_count": null,
   "id": "4cccf1df",
   "metadata": {},
   "outputs": [],
   "source": [
    "df[\"Sex\"] = df[\"Sex\"].map({\"female\":0,\"male\":1})"
   ]
  },
  {
   "cell_type": "markdown",
   "id": "1f71186c",
   "metadata": {},
   "source": [
    "Here we are converting the categorical data into numerical data for the better results and smooth functioning.\n",
    "Female is defined as 0 where as male is defined as 1.\n",
    "we have also conversion in Embarked column."
   ]
  },
  {
   "cell_type": "code",
   "execution_count": null,
   "id": "93558995",
   "metadata": {},
   "outputs": [],
   "source": [
    "df['Embarked'].value_counts()"
   ]
  },
  {
   "cell_type": "code",
   "execution_count": null,
   "id": "0ff4e969",
   "metadata": {},
   "outputs": [],
   "source": [
    "df[\"Embarked\"] = df[\"Embarked\"].map({\"S\":0,\n",
    "                                    \"C\":1,\n",
    "                                    \"Q\":2})"
   ]
  },
  {
   "cell_type": "code",
   "execution_count": null,
   "id": "f3b9a5b5",
   "metadata": {},
   "outputs": [],
   "source": [
    "df.head()"
   ]
  },
  {
   "cell_type": "code",
   "execution_count": null,
   "id": "ee5fa5de",
   "metadata": {},
   "outputs": [],
   "source": [
    "df.describe()"
   ]
  },
  {
   "cell_type": "code",
   "execution_count": null,
   "id": "b4200bba",
   "metadata": {},
   "outputs": [],
   "source": [
    "x = df.drop([\"PassengerId\",\"Name\",\"Ticket\",'Fare',\"Survived\"], axis=1)\n",
    "x"
   ]
  },
  {
   "cell_type": "code",
   "execution_count": null,
   "id": "46b6822a",
   "metadata": {},
   "outputs": [],
   "source": [
    "y = df[\"Survived\"]\n",
    "y"
   ]
  },
  {
   "cell_type": "markdown",
   "id": "bcf804f1",
   "metadata": {},
   "source": [
    "Dropping the columns and splitting the data into X and Y, In Y we have our output variable \"Survived\", and we have dropped non-numerical columns from the dataset for further proceedings."
   ]
  },
  {
   "cell_type": "code",
   "execution_count": null,
   "id": "47e42211",
   "metadata": {},
   "outputs": [],
   "source": [
    "from sklearn.model_selection import train_test_split\n",
    "x_train, x_test, y_train, y_test = train_test_split(x,y,test_size=0.2, random_state=42)"
   ]
  },
  {
   "cell_type": "code",
   "execution_count": null,
   "id": "afa50184",
   "metadata": {},
   "outputs": [],
   "source": [
    "x_train.shape , x_test.shape , y_train.shape , y_test.shape"
   ]
  },
  {
   "cell_type": "code",
   "execution_count": null,
   "id": "a251d472",
   "metadata": {},
   "outputs": [],
   "source": [
    "from sklearn.linear_model import LogisticRegression\n",
    "LR = LogisticRegression()\n",
    "LR.fit(x_train,y_train)"
   ]
  },
  {
   "cell_type": "code",
   "execution_count": null,
   "id": "7a848288",
   "metadata": {},
   "outputs": [],
   "source": [
    "pred = LR.predict(x_test)\n",
    "pred"
   ]
  },
  {
   "cell_type": "code",
   "execution_count": null,
   "id": "1605ef41",
   "metadata": {},
   "outputs": [],
   "source": [
    "from sklearn.metrics import accuracy_score"
   ]
  },
  {
   "cell_type": "code",
   "execution_count": null,
   "id": "6535e14f",
   "metadata": {},
   "outputs": [],
   "source": [
    "print(accuracy_score(y_test,pred))"
   ]
  },
  {
   "cell_type": "code",
   "execution_count": null,
   "id": "9dfd7881",
   "metadata": {},
   "outputs": [],
   "source": [
    "sc_lr = accuracy_score(y_test,pred)\n",
    "sc_lr"
   ]
  },
  {
   "cell_type": "code",
   "execution_count": null,
   "id": "0737538e",
   "metadata": {},
   "outputs": [],
   "source": [
    "from sklearn.ensemble import RandomForestClassifier\n",
    "rfc = RandomForestClassifier()\n",
    "rfc.fit(x_train,y_train)"
   ]
  },
  {
   "cell_type": "code",
   "execution_count": null,
   "id": "fdb86805",
   "metadata": {},
   "outputs": [],
   "source": [
    "pred_rfc = rfc.predict(x_test)\n",
    "pred_rfc"
   ]
  },
  {
   "cell_type": "code",
   "execution_count": null,
   "id": "030c0110",
   "metadata": {},
   "outputs": [],
   "source": [
    "print(accuracy_score(y_test,pred_rfc))"
   ]
  },
  {
   "cell_type": "code",
   "execution_count": null,
   "id": "fbc07f09",
   "metadata": {},
   "outputs": [],
   "source": [
    "sc_rfc = accuracy_score(y_test,pred_rfc)\n",
    "sc_rfc"
   ]
  },
  {
   "cell_type": "code",
   "execution_count": null,
   "id": "6af9fbae",
   "metadata": {},
   "outputs": [],
   "source": [
    "from sklearn.ensemble import ExtraTreesClassifier\n",
    "etc = ExtraTreesClassifier()\n",
    "etc.fit(x_train,y_train)"
   ]
  },
  {
   "cell_type": "code",
   "execution_count": null,
   "id": "aab00f39",
   "metadata": {},
   "outputs": [],
   "source": [
    "pred_etc = etc.predict(x_test)\n",
    "pred_etc"
   ]
  },
  {
   "cell_type": "code",
   "execution_count": null,
   "id": "c93ea270",
   "metadata": {},
   "outputs": [],
   "source": [
    "print(accuracy_score(y_test,pred_etc))"
   ]
  },
  {
   "cell_type": "code",
   "execution_count": null,
   "id": "f37082c5",
   "metadata": {},
   "outputs": [],
   "source": [
    "sc_etc= accuracy_score(y_test,pred_etc)\n",
    "sc_etc"
   ]
  },
  {
   "cell_type": "code",
   "execution_count": null,
   "id": "504f9fd2",
   "metadata": {},
   "outputs": [],
   "source": [
    "from sklearn.svm import SVC\n",
    "svm = SVC()\n",
    "svm.fit(x_train,y_train)"
   ]
  },
  {
   "cell_type": "code",
   "execution_count": null,
   "id": "5ddf38d5",
   "metadata": {},
   "outputs": [],
   "source": [
    "pred_svm = svm.predict(x_test)\n",
    "pred_svm"
   ]
  },
  {
   "cell_type": "code",
   "execution_count": null,
   "id": "ef55cc79",
   "metadata": {},
   "outputs": [],
   "source": [
    "print(accuracy_score(y_test,pred_svm))"
   ]
  },
  {
   "cell_type": "code",
   "execution_count": null,
   "id": "d17e3df3",
   "metadata": {},
   "outputs": [],
   "source": [
    "sc_svm = accuracy_score(y_test,pred_svm)\n",
    "sc_svm"
   ]
  },
  {
   "cell_type": "code",
   "execution_count": null,
   "id": "7e643268",
   "metadata": {},
   "outputs": [],
   "source": [
    "from sklearn.tree import DecisionTreeClassifier\n",
    "dtc = DecisionTreeClassifier()\n",
    "dtc.fit(x_train,y_train)"
   ]
  },
  {
   "cell_type": "code",
   "execution_count": null,
   "id": "5c9ade59",
   "metadata": {},
   "outputs": [],
   "source": [
    "pred_dtc = dtc.predict(x_test)\n",
    "pred_dtc"
   ]
  },
  {
   "cell_type": "code",
   "execution_count": null,
   "id": "35e8b5c1",
   "metadata": {},
   "outputs": [],
   "source": [
    "print(accuracy_score(y_test,pred_dtc))"
   ]
  },
  {
   "cell_type": "code",
   "execution_count": null,
   "id": "9b56dab9",
   "metadata": {},
   "outputs": [],
   "source": [
    "sc_dtc = accuracy_score(y_test,pred_dtc)\n",
    "sc_dtc"
   ]
  },
  {
   "cell_type": "code",
   "execution_count": null,
   "id": "29eb36a9",
   "metadata": {},
   "outputs": [],
   "source": [
    "from sklearn.naive_bayes import GaussianNB\n",
    "G = GaussianNB()\n",
    "G.fit(x_train,y_train)"
   ]
  },
  {
   "cell_type": "code",
   "execution_count": null,
   "id": "95c2b830",
   "metadata": {},
   "outputs": [],
   "source": [
    "pred_g = G.predict(x_test)\n",
    "pred_g"
   ]
  },
  {
   "cell_type": "code",
   "execution_count": null,
   "id": "9535c8f6",
   "metadata": {},
   "outputs": [],
   "source": [
    "print(accuracy_score(y_test,pred_g))"
   ]
  },
  {
   "cell_type": "code",
   "execution_count": null,
   "id": "562a4244",
   "metadata": {},
   "outputs": [],
   "source": [
    "sc_g = accuracy_score(y_test,pred_g)\n",
    "sc_g"
   ]
  },
  {
   "cell_type": "markdown",
   "id": "5bd34168",
   "metadata": {},
   "source": [
    "We have received the Best result using the Random Forest Classifier and Exta Tree Classifier and the second best result is received from Logistic Regression, We have further created the model using Random Forest Classifier."
   ]
  },
  {
   "cell_type": "code",
   "execution_count": null,
   "id": "309a143f",
   "metadata": {},
   "outputs": [],
   "source": [
    "print(\"Results of Logistic Regression :\",sc_lr)\n",
    "print(\"Results of Random Forest Classifier :\",sc_rfc)\n",
    "print(\"Results of Decision Tree Classifier :\",sc_dtc)\n",
    "print(\"Results of SVC :\",sc_svm)\n",
    "print(\"Results of GaussianNB :\",sc_g)\n",
    "print(\"Results of Exta Tree Classifier :\",sc_etc)"
   ]
  },
  {
   "cell_type": "code",
   "execution_count": null,
   "id": "db7fe4ed",
   "metadata": {},
   "outputs": [],
   "source": [
    "data = (3,0,26.0,0,0,0)\n",
    "data_as_np_array = np.asarray(data)\n",
    "data_reshaped = data_as_np_array.reshape(1,-1)\n",
    "prediction = rfc.predict(data_reshaped)\n",
    "print(prediction)"
   ]
  },
  {
   "cell_type": "code",
   "execution_count": null,
   "id": "a274149f",
   "metadata": {},
   "outputs": [],
   "source": [
    "if (prediction[0]==1):\n",
    "    print(\"Survived\")\n",
    "else:\n",
    "    print(\"Not Survived\")"
   ]
  },
  {
   "cell_type": "markdown",
   "id": "72c20fcc",
   "metadata": {},
   "source": [
    "Prediction model is created to predict on the basis of data that passenger is survived or not survived in the accident we have used Random Forest Classifier in the prediction model which is giving the results."
   ]
  }
 ],
 "metadata": {
  "kernelspec": {
   "display_name": "Python 3 (ipykernel)",
   "language": "python",
   "name": "python3"
  },
  "language_info": {
   "codemirror_mode": {
    "name": "ipython",
    "version": 3
   },
   "file_extension": ".py",
   "mimetype": "text/x-python",
   "name": "python",
   "nbconvert_exporter": "python",
   "pygments_lexer": "ipython3",
   "version": "3.11.4"
  }
 },
 "nbformat": 4,
 "nbformat_minor": 5
}
